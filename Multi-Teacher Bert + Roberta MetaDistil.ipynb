{
 "cells": [
  {
   "cell_type": "markdown",
   "id": "f9596c2c-e551-4ecf-9a41-9a6fd76162ad",
   "metadata": {
    "tags": []
   },
   "source": [
    "# MetaDistil with Multi-Teacher"
   ]
  },
  {
   "cell_type": "code",
   "execution_count": 1,
   "id": "b4664d64-168a-4e60-8593-f31584e171cc",
   "metadata": {},
   "outputs": [],
   "source": [
    "import torch\n",
    "\n",
    "SEED = 1234\n",
    "torch.manual_seed(SEED)\n",
    "torch.backends.cudnn.deterministic = True"
   ]
  },
  {
   "cell_type": "markdown",
   "id": "8fa386a2-9aa2-4d95-8a78-eaf0f17fed67",
   "metadata": {
    "tags": []
   },
   "source": [
    "## 0. Choosing our \"teacher\" and \"student\" models"
   ]
  },
  {
   "cell_type": "code",
   "execution_count": 2,
   "id": "88c03dee-3c27-4b17-8145-a03d6e8256f5",
   "metadata": {
    "tags": []
   },
   "outputs": [],
   "source": [
    "student   = \"distilbert-base-uncased\"\n",
    "teacher_1 = \"bert-base-uncased\"\n",
    "teacher_2 = \"roberta-base\""
   ]
  },
  {
   "cell_type": "markdown",
   "id": "eaad518c-21e9-4a4e-a213-be5e78127d3a",
   "metadata": {},
   "source": [
    "## 1. Loading our SST-2 part of the GLUE dataset"
   ]
  },
  {
   "cell_type": "code",
   "execution_count": 3,
   "id": "f17755f9-9c3c-4b57-ad46-5ab9e57a68b5",
   "metadata": {},
   "outputs": [
    {
     "name": "stderr",
     "output_type": "stream",
     "text": [
      "Found cached dataset glue (C:/Users/abhin/.cache/huggingface/datasets/glue/sst2/1.0.0/dacbe3125aa31d7f70367a07a8a9e72a5a0bfeb5fc42e75c9db75b96da6053ad)\n"
     ]
    },
    {
     "data": {
      "application/vnd.jupyter.widget-view+json": {
       "model_id": "ccf9871206c74bbcabf2cfaceb1c857d",
       "version_major": 2,
       "version_minor": 0
      },
      "text/plain": [
       "  0%|          | 0/4 [00:00<?, ?it/s]"
      ]
     },
     "metadata": {},
     "output_type": "display_data"
    }
   ],
   "source": [
    "from datasets import load_dataset\n",
    "from transformers import AutoTokenizer, DataCollatorWithPadding\n",
    "\n",
    "raw_datasets = load_dataset(\"glue\", \"sst2\", split=[\"train[:30000]\", \"train[30000:30100]\", \"validation\", \"train[60000:62000]\"])\n",
    "bert_tokenizer    = AutoTokenizer.from_pretrained(\"distilbert-base-uncased\")\n",
    "roberta_tokenizer = AutoTokenizer.from_pretrained(\"roberta-base\")"
   ]
  },
  {
   "cell_type": "code",
   "execution_count": 4,
   "id": "e9e79b6d-a9eb-4c12-b21b-fb489f212242",
   "metadata": {},
   "outputs": [
    {
     "data": {
      "text/plain": [
       "[Dataset({\n",
       "     features: ['sentence', 'label', 'idx'],\n",
       "     num_rows: 30000\n",
       " }),\n",
       " Dataset({\n",
       "     features: ['sentence', 'label', 'idx'],\n",
       "     num_rows: 100\n",
       " }),\n",
       " Dataset({\n",
       "     features: ['sentence', 'label', 'idx'],\n",
       "     num_rows: 872\n",
       " }),\n",
       " Dataset({\n",
       "     features: ['sentence', 'label', 'idx'],\n",
       "     num_rows: 2000\n",
       " })]"
      ]
     },
     "execution_count": 4,
     "metadata": {},
     "output_type": "execute_result"
    }
   ],
   "source": [
    "raw_datasets"
   ]
  },
  {
   "cell_type": "code",
   "execution_count": 5,
   "id": "f47e81a2-a78d-49f1-81db-b4931e9ddb9f",
   "metadata": {},
   "outputs": [],
   "source": [
    "from datasets import DatasetDict"
   ]
  },
  {
   "cell_type": "code",
   "execution_count": 6,
   "id": "a70912f6-59be-4604-b5a5-f66558751451",
   "metadata": {},
   "outputs": [],
   "source": [
    "raw_datasets = DatasetDict({\n",
    "    \"train\": raw_datasets[0],\n",
    "    \"quiz\": raw_datasets[1],\n",
    "    \"validation\": raw_datasets[2],\n",
    "    \"test\": raw_datasets[3]\n",
    "})"
   ]
  },
  {
   "cell_type": "code",
   "execution_count": 7,
   "id": "3829acea-b6c2-4edd-aad1-84282b70deb8",
   "metadata": {},
   "outputs": [
    {
     "data": {
      "text/plain": [
       "DatasetDict({\n",
       "    train: Dataset({\n",
       "        features: ['sentence', 'label', 'idx'],\n",
       "        num_rows: 30000\n",
       "    })\n",
       "    quiz: Dataset({\n",
       "        features: ['sentence', 'label', 'idx'],\n",
       "        num_rows: 100\n",
       "    })\n",
       "    validation: Dataset({\n",
       "        features: ['sentence', 'label', 'idx'],\n",
       "        num_rows: 872\n",
       "    })\n",
       "    test: Dataset({\n",
       "        features: ['sentence', 'label', 'idx'],\n",
       "        num_rows: 2000\n",
       "    })\n",
       "})"
      ]
     },
     "execution_count": 7,
     "metadata": {},
     "output_type": "execute_result"
    }
   ],
   "source": [
    "raw_datasets"
   ]
  },
  {
   "cell_type": "code",
   "execution_count": 8,
   "id": "8a60a762-a645-44f3-9f81-8d99eb460a4c",
   "metadata": {},
   "outputs": [
    {
     "data": {
      "text/plain": [
       "{'sentence': 'hide new secretions from the parental units ',\n",
       " 'label': 0,\n",
       " 'idx': 0}"
      ]
     },
     "execution_count": 8,
     "metadata": {},
     "output_type": "execute_result"
    }
   ],
   "source": [
    "raw_train_dataset = raw_datasets[\"train\"]\n",
    "raw_train_dataset[0]"
   ]
  },
  {
   "cell_type": "code",
   "execution_count": 9,
   "id": "b5129c07-ff71-43f3-adeb-ff0fd7c78899",
   "metadata": {},
   "outputs": [
    {
     "data": {
      "text/plain": [
       "\"that 's far too tragic to merit such superficial treatment \""
      ]
     },
     "execution_count": 9,
     "metadata": {},
     "output_type": "execute_result"
    }
   ],
   "source": [
    "raw_train_dataset[5]['sentence']"
   ]
  },
  {
   "cell_type": "code",
   "execution_count": 10,
   "id": "f3034d31-6e7f-48cf-a311-ec7cc42c350f",
   "metadata": {},
   "outputs": [
    {
     "data": {
      "text/plain": [
       "0"
      ]
     },
     "execution_count": 10,
     "metadata": {},
     "output_type": "execute_result"
    }
   ],
   "source": [
    "raw_train_dataset[5]['label']"
   ]
  },
  {
   "cell_type": "code",
   "execution_count": 11,
   "id": "e1af11e7-8889-4e08-869c-051af44697c0",
   "metadata": {},
   "outputs": [
    {
     "data": {
      "text/plain": [
       "5"
      ]
     },
     "execution_count": 11,
     "metadata": {},
     "output_type": "execute_result"
    }
   ],
   "source": [
    "raw_train_dataset[5]['idx']"
   ]
  },
  {
   "cell_type": "code",
   "execution_count": 12,
   "id": "4b210c08-bb55-4a04-ab54-c3f5e0bf46ef",
   "metadata": {},
   "outputs": [
    {
     "data": {
      "text/plain": [
       "{'sentence': Value(dtype='string', id=None),\n",
       " 'label': ClassLabel(names=['negative', 'positive'], id=None),\n",
       " 'idx': Value(dtype='int32', id=None)}"
      ]
     },
     "execution_count": 12,
     "metadata": {},
     "output_type": "execute_result"
    }
   ],
   "source": [
    "raw_train_dataset.features"
   ]
  },
  {
   "cell_type": "code",
   "execution_count": null,
   "id": "a11fb80d-4348-46ea-8c93-748c8fb85845",
   "metadata": {},
   "outputs": [],
   "source": []
  },
  {
   "cell_type": "markdown",
   "id": "130be96c-7ccd-486e-abf0-d5312fd0b35d",
   "metadata": {
    "tags": []
   },
   "source": [
    "## 2. Preprocess"
   ]
  },
  {
   "cell_type": "code",
   "execution_count": 13,
   "id": "62f3ce48-24d7-4971-8401-ae5ff1fb7a73",
   "metadata": {},
   "outputs": [
    {
     "name": "stderr",
     "output_type": "stream",
     "text": [
      "Loading cached processed dataset at C:\\Users\\abhin\\.cache\\huggingface\\datasets\\glue\\sst2\\1.0.0\\dacbe3125aa31d7f70367a07a8a9e72a5a0bfeb5fc42e75c9db75b96da6053ad\\cache-bcec75499dbbfbe0.arrow\n",
      "Loading cached processed dataset at C:\\Users\\abhin\\.cache\\huggingface\\datasets\\glue\\sst2\\1.0.0\\dacbe3125aa31d7f70367a07a8a9e72a5a0bfeb5fc42e75c9db75b96da6053ad\\cache-82da1aa1861a985d.arrow\n",
      "Loading cached processed dataset at C:\\Users\\abhin\\.cache\\huggingface\\datasets\\glue\\sst2\\1.0.0\\dacbe3125aa31d7f70367a07a8a9e72a5a0bfeb5fc42e75c9db75b96da6053ad\\cache-e07210e1dc5385ce.arrow\n",
      "Loading cached processed dataset at C:\\Users\\abhin\\.cache\\huggingface\\datasets\\glue\\sst2\\1.0.0\\dacbe3125aa31d7f70367a07a8a9e72a5a0bfeb5fc42e75c9db75b96da6053ad\\cache-8d5efb1b02ba6ccf.arrow\n",
      "Loading cached processed dataset at C:\\Users\\abhin\\.cache\\huggingface\\datasets\\glue\\sst2\\1.0.0\\dacbe3125aa31d7f70367a07a8a9e72a5a0bfeb5fc42e75c9db75b96da6053ad\\cache-672fe29dbcb5112e.arrow\n",
      "Loading cached processed dataset at C:\\Users\\abhin\\.cache\\huggingface\\datasets\\glue\\sst2\\1.0.0\\dacbe3125aa31d7f70367a07a8a9e72a5a0bfeb5fc42e75c9db75b96da6053ad\\cache-1a87e3808f663f36.arrow\n",
      "Loading cached processed dataset at C:\\Users\\abhin\\.cache\\huggingface\\datasets\\glue\\sst2\\1.0.0\\dacbe3125aa31d7f70367a07a8a9e72a5a0bfeb5fc42e75c9db75b96da6053ad\\cache-4b8bc7ab2cdb38cc.arrow\n",
      "Loading cached processed dataset at C:\\Users\\abhin\\.cache\\huggingface\\datasets\\glue\\sst2\\1.0.0\\dacbe3125aa31d7f70367a07a8a9e72a5a0bfeb5fc42e75c9db75b96da6053ad\\cache-ab5c6e92c61d4251.arrow\n"
     ]
    },
    {
     "data": {
      "text/plain": [
       "(DatasetDict({\n",
       "     train: Dataset({\n",
       "         features: ['sentence', 'label', 'idx', 'input_ids', 'attention_mask'],\n",
       "         num_rows: 30000\n",
       "     })\n",
       "     quiz: Dataset({\n",
       "         features: ['sentence', 'label', 'idx', 'input_ids', 'attention_mask'],\n",
       "         num_rows: 100\n",
       "     })\n",
       "     validation: Dataset({\n",
       "         features: ['sentence', 'label', 'idx', 'input_ids', 'attention_mask'],\n",
       "         num_rows: 872\n",
       "     })\n",
       "     test: Dataset({\n",
       "         features: ['sentence', 'label', 'idx', 'input_ids', 'attention_mask'],\n",
       "         num_rows: 2000\n",
       "     })\n",
       " }),\n",
       " DatasetDict({\n",
       "     train: Dataset({\n",
       "         features: ['sentence', 'label', 'idx', 'input_ids', 'attention_mask'],\n",
       "         num_rows: 30000\n",
       "     })\n",
       "     quiz: Dataset({\n",
       "         features: ['sentence', 'label', 'idx', 'input_ids', 'attention_mask'],\n",
       "         num_rows: 100\n",
       "     })\n",
       "     validation: Dataset({\n",
       "         features: ['sentence', 'label', 'idx', 'input_ids', 'attention_mask'],\n",
       "         num_rows: 872\n",
       "     })\n",
       "     test: Dataset({\n",
       "         features: ['sentence', 'label', 'idx', 'input_ids', 'attention_mask'],\n",
       "         num_rows: 2000\n",
       "     })\n",
       " }))"
      ]
     },
     "execution_count": 13,
     "metadata": {},
     "output_type": "execute_result"
    }
   ],
   "source": [
    "def bert_tokenize_function(example):\n",
    "    return bert_tokenizer(example[\"sentence\"], truncation=True)\n",
    "\n",
    "def roberta_tokenize_function(example):\n",
    "    return roberta_tokenizer(example[\"sentence\"], truncation=True)\n",
    "\n",
    "bert_tokenized_datasets    = raw_datasets.map(bert_tokenize_function, batched=True)\n",
    "roberta_tokenized_datasets = raw_datasets.map(roberta_tokenize_function, batched=True)\n",
    "\n",
    "bert_tokenized_datasets, roberta_tokenized_datasets"
   ]
  },
  {
   "cell_type": "code",
   "execution_count": null,
   "id": "d1a8d2ad-5b4b-4a67-8bed-5a8d4abfc71a",
   "metadata": {},
   "outputs": [],
   "source": []
  },
  {
   "cell_type": "markdown",
   "id": "e5012c38-0829-4083-9fad-0a8417a81121",
   "metadata": {},
   "source": [
    "## 3. Preparing for Training"
   ]
  },
  {
   "cell_type": "code",
   "execution_count": 14,
   "id": "68e7fc76-09a4-4298-86de-46813a0ee097",
   "metadata": {},
   "outputs": [],
   "source": [
    "from transformers import DataCollatorWithPadding\n",
    "\n",
    "bert_data_collator    = DataCollatorWithPadding(tokenizer=bert_tokenizer)\n",
    "roberta_data_collator = DataCollatorWithPadding(tokenizer=roberta_tokenizer)"
   ]
  },
  {
   "cell_type": "code",
   "execution_count": 15,
   "id": "176dd8b9-4548-4ea3-bd9a-b99278f38d3b",
   "metadata": {},
   "outputs": [
    {
     "data": {
      "text/plain": [
       "['labels', 'input_ids', 'attention_mask']"
      ]
     },
     "execution_count": 15,
     "metadata": {},
     "output_type": "execute_result"
    }
   ],
   "source": [
    "bert_tokenized_datasets = bert_tokenized_datasets.remove_columns([\"sentence\", \"idx\"])\n",
    "bert_tokenized_datasets = bert_tokenized_datasets.rename_column(\"label\", \"labels\")\n",
    "bert_tokenized_datasets.set_format(\"torch\")\n",
    "bert_tokenized_datasets[\"test\"].column_names"
   ]
  },
  {
   "cell_type": "code",
   "execution_count": 16,
   "id": "2c2885be-dd50-46da-a13c-0e62fb1e271c",
   "metadata": {},
   "outputs": [
    {
     "data": {
      "text/plain": [
       "['labels', 'input_ids', 'attention_mask']"
      ]
     },
     "execution_count": 16,
     "metadata": {},
     "output_type": "execute_result"
    }
   ],
   "source": [
    "roberta_tokenized_datasets = roberta_tokenized_datasets.remove_columns([\"sentence\", \"idx\"])\n",
    "roberta_tokenized_datasets = roberta_tokenized_datasets.rename_column(\"label\", \"labels\")\n",
    "roberta_tokenized_datasets.set_format(\"torch\")\n",
    "roberta_tokenized_datasets[\"test\"].column_names"
   ]
  },
  {
   "cell_type": "code",
   "execution_count": 17,
   "id": "9036ffe9-c352-4202-8abe-08b3bb82c65d",
   "metadata": {},
   "outputs": [],
   "source": [
    "from torch.utils.data import DataLoader\n",
    "\n",
    "bert_train_dataloader = DataLoader(\n",
    "    bert_tokenized_datasets[\"train\"], shuffle=True, batch_size=32, collate_fn=bert_data_collator\n",
    ")\n",
    "\n",
    "bert_quiz_dataloader = DataLoader(\n",
    "    bert_tokenized_datasets[\"quiz\"], shuffle=True, batch_size=32, collate_fn=bert_data_collator\n",
    ")\n",
    "\n",
    "bert_val_dataloader = DataLoader(\n",
    "    bert_tokenized_datasets[\"validation\"], batch_size=20, collate_fn=bert_data_collator\n",
    ")\n",
    "\n",
    "bert_eval_dataloader = DataLoader(\n",
    "    bert_tokenized_datasets[\"test\"], batch_size=20, collate_fn=bert_data_collator\n",
    ")"
   ]
  },
  {
   "cell_type": "code",
   "execution_count": 18,
   "id": "4f5ba0ea-8275-4445-8c25-dbd2ef910df4",
   "metadata": {},
   "outputs": [],
   "source": [
    "roberta_train_dataloader = DataLoader(\n",
    "    roberta_tokenized_datasets[\"train\"], shuffle=True, batch_size=32, collate_fn=roberta_data_collator\n",
    ")\n",
    "\n",
    "roberta_eval_dataloader = DataLoader(\n",
    "    roberta_tokenized_datasets[\"validation\"], batch_size=20, collate_fn=roberta_data_collator\n",
    ")"
   ]
  },
  {
   "cell_type": "code",
   "execution_count": null,
   "id": "2edd39f6-3476-43ee-b634-6f0af47a8fc3",
   "metadata": {},
   "outputs": [],
   "source": []
  },
  {
   "cell_type": "code",
   "execution_count": 19,
   "id": "1216094f-2ef2-458b-894c-112a9d8c502a",
   "metadata": {},
   "outputs": [
    {
     "name": "stderr",
     "output_type": "stream",
     "text": [
      "You're using a DistilBertTokenizerFast tokenizer. Please note that with a fast tokenizer, using the `__call__` method is faster than using a method to encode the text followed by a call to the `pad` method to get a padded encoding.\n"
     ]
    },
    {
     "data": {
      "text/plain": [
       "{'labels': torch.Size([32]),\n",
       " 'input_ids': torch.Size([32, 36]),\n",
       " 'attention_mask': torch.Size([32, 36])}"
      ]
     },
     "execution_count": 19,
     "metadata": {},
     "output_type": "execute_result"
    }
   ],
   "source": [
    "for batch in bert_train_dataloader:\n",
    "    break\n",
    "{k: v.shape for k, v in batch.items()}"
   ]
  },
  {
   "cell_type": "code",
   "execution_count": null,
   "id": "ffa63b09-b5e1-42d9-9d45-b31795e08fda",
   "metadata": {},
   "outputs": [],
   "source": []
  },
  {
   "cell_type": "markdown",
   "id": "266a740f-471b-4cc5-9ec0-91d5bb7cc5b5",
   "metadata": {},
   "source": [
    "## 4. Loading \"teacher\" and \"student\" models "
   ]
  },
  {
   "cell_type": "code",
   "execution_count": 20,
   "id": "b531c4cc-f5f5-4eca-b535-7cd39e5aa7bf",
   "metadata": {},
   "outputs": [],
   "source": [
    "# id2label, label2id dicts for the outputs for the model\n",
    "labels = bert_tokenized_datasets[\"train\"].features[\"labels\"].names\n",
    "num_labels = len(labels)\n",
    "label2id, id2label = dict(), dict()\n",
    "for i, label in enumerate(labels):\n",
    "    label2id[label] = str(i)\n",
    "    id2label[str(i)] = label"
   ]
  },
  {
   "cell_type": "code",
   "execution_count": 21,
   "id": "c8ec1cf0-f2d7-43dc-9385-bbe32fea212f",
   "metadata": {},
   "outputs": [
    {
     "name": "stderr",
     "output_type": "stream",
     "text": [
      "Some weights of the model checkpoint at bert-base-uncased were not used when initializing BertForSequenceClassification: ['cls.predictions.bias', 'cls.predictions.transform.dense.weight', 'cls.predictions.transform.LayerNorm.bias', 'cls.predictions.decoder.weight', 'cls.predictions.transform.dense.bias', 'cls.seq_relationship.weight', 'cls.predictions.transform.LayerNorm.weight', 'cls.seq_relationship.bias']\n",
      "- This IS expected if you are initializing BertForSequenceClassification from the checkpoint of a model trained on another task or with another architecture (e.g. initializing a BertForSequenceClassification model from a BertForPreTraining model).\n",
      "- This IS NOT expected if you are initializing BertForSequenceClassification from the checkpoint of a model that you expect to be exactly identical (initializing a BertForSequenceClassification model from a BertForSequenceClassification model).\n",
      "Some weights of BertForSequenceClassification were not initialized from the model checkpoint at bert-base-uncased and are newly initialized: ['classifier.weight', 'classifier.bias']\n",
      "You should probably TRAIN this model on a down-stream task to be able to use it for predictions and inference.\n",
      "Some weights of the model checkpoint at roberta-base were not used when initializing RobertaForSequenceClassification: ['lm_head.decoder.weight', 'lm_head.bias', 'roberta.pooler.dense.bias', 'roberta.pooler.dense.weight', 'lm_head.layer_norm.bias', 'lm_head.dense.weight', 'lm_head.layer_norm.weight', 'lm_head.dense.bias']\n",
      "- This IS expected if you are initializing RobertaForSequenceClassification from the checkpoint of a model trained on another task or with another architecture (e.g. initializing a BertForSequenceClassification model from a BertForPreTraining model).\n",
      "- This IS NOT expected if you are initializing RobertaForSequenceClassification from the checkpoint of a model that you expect to be exactly identical (initializing a BertForSequenceClassification model from a BertForSequenceClassification model).\n",
      "Some weights of RobertaForSequenceClassification were not initialized from the model checkpoint at roberta-base and are newly initialized: ['classifier.dense.weight', 'classifier.out_proj.weight', 'classifier.dense.bias', 'classifier.out_proj.bias']\n",
      "You should probably TRAIN this model on a down-stream task to be able to use it for predictions and inference.\n",
      "Some weights of the model checkpoint at distilbert-base-uncased were not used when initializing DistilBertForSequenceClassification: ['vocab_layer_norm.bias', 'vocab_projector.bias', 'vocab_transform.bias', 'vocab_layer_norm.weight', 'vocab_transform.weight', 'vocab_projector.weight']\n",
      "- This IS expected if you are initializing DistilBertForSequenceClassification from the checkpoint of a model trained on another task or with another architecture (e.g. initializing a BertForSequenceClassification model from a BertForPreTraining model).\n",
      "- This IS NOT expected if you are initializing DistilBertForSequenceClassification from the checkpoint of a model that you expect to be exactly identical (initializing a BertForSequenceClassification model from a BertForSequenceClassification model).\n",
      "Some weights of DistilBertForSequenceClassification were not initialized from the model checkpoint at distilbert-base-uncased and are newly initialized: ['pre_classifier.weight', 'classifier.weight', 'pre_classifier.bias', 'classifier.bias']\n",
      "You should probably TRAIN this model on a down-stream task to be able to use it for predictions and inference.\n"
     ]
    }
   ],
   "source": [
    "from transformers import AutoModelForSequenceClassification\n",
    "\n",
    "# teacher models\n",
    "teacher_1_model = AutoModelForSequenceClassification.from_pretrained(\n",
    "    teacher_1,\n",
    "    num_labels=num_labels,\n",
    "    id2label=id2label,\n",
    "    label2id=label2id,\n",
    ")\n",
    "\n",
    "teacher_2_model = AutoModelForSequenceClassification.from_pretrained(\n",
    "    teacher_2,\n",
    "    num_labels=num_labels,\n",
    "    id2label=id2label,\n",
    "    label2id=label2id,\n",
    ")\n",
    "\n",
    "# student model\n",
    "student_model = AutoModelForSequenceClassification.from_pretrained(\n",
    "    student,\n",
    "    num_labels=num_labels,\n",
    "    id2label=id2label,\n",
    "    label2id=label2id,\n",
    ")"
   ]
  },
  {
   "cell_type": "code",
   "execution_count": 22,
   "id": "77eb538f-09fa-452e-a06b-1050d8cef890",
   "metadata": {},
   "outputs": [],
   "source": [
    "import torch \n",
    "\n",
    "best_teacher_1_weight = torch.load('./teacher-best_weight/bert-base-uncased-SST-2.pt')\n",
    "best_teacher_2_weight = torch.load('./teacher-best_weight/roberta-base-SST-2.pt')"
   ]
  },
  {
   "cell_type": "code",
   "execution_count": 23,
   "id": "99d8e98f-e09f-4115-ba93-17270ecaf63b",
   "metadata": {},
   "outputs": [
    {
     "data": {
      "text/plain": [
       "<All keys matched successfully>"
      ]
     },
     "execution_count": 23,
     "metadata": {},
     "output_type": "execute_result"
    }
   ],
   "source": [
    "teacher_1_model.load_state_dict(best_teacher_1_weight['model_state_dict'])"
   ]
  },
  {
   "cell_type": "code",
   "execution_count": 24,
   "id": "54247073-7333-49c9-875c-84897484278c",
   "metadata": {},
   "outputs": [
    {
     "data": {
      "text/plain": [
       "<All keys matched successfully>"
      ]
     },
     "execution_count": 24,
     "metadata": {},
     "output_type": "execute_result"
    }
   ],
   "source": [
    "teacher_2_model.load_state_dict(best_teacher_2_weight['model_state_dict'])"
   ]
  },
  {
   "cell_type": "code",
   "execution_count": 25,
   "id": "3fa7547d-c199-4555-b797-bbeef18165f7",
   "metadata": {},
   "outputs": [
    {
     "name": "stdout",
     "output_type": "stream",
     "text": [
      "tensor(0.0019, grad_fn=<NllLossBackward0>) torch.Size([32, 2])\n"
     ]
    }
   ],
   "source": [
    "outputs = teacher_1_model(**batch)\n",
    "print(outputs.loss, outputs.logits.shape)"
   ]
  },
  {
   "cell_type": "code",
   "execution_count": 26,
   "id": "c2d905e1-7d7f-4e5c-a961-5947cecfc82a",
   "metadata": {},
   "outputs": [
    {
     "name": "stdout",
     "output_type": "stream",
     "text": [
      "tensor(1.9762, grad_fn=<NllLossBackward0>) torch.Size([32, 2])\n"
     ]
    }
   ],
   "source": [
    "outputs = teacher_2_model(**batch)\n",
    "print(outputs.loss, outputs.logits.shape)"
   ]
  },
  {
   "cell_type": "code",
   "execution_count": 27,
   "id": "83e7143f-75c4-4acc-bdbc-bf91a42f22d5",
   "metadata": {},
   "outputs": [
    {
     "name": "stdout",
     "output_type": "stream",
     "text": [
      "tensor(0.7027, grad_fn=<NllLossBackward0>) torch.Size([32, 2])\n"
     ]
    }
   ],
   "source": [
    "outputs = student_model(**batch)\n",
    "print(outputs.loss, outputs.logits.shape)"
   ]
  },
  {
   "cell_type": "code",
   "execution_count": 28,
   "id": "bfb2a341-3ec8-49d8-944c-9d3257559460",
   "metadata": {},
   "outputs": [],
   "source": [
    "from torch.optim import AdamW\n",
    "\n",
    "teacher_1_optimizer = AdamW(teacher_1_model.parameters(), lr=6e-5)\n",
    "teacher_2_optimizer = AdamW(teacher_2_model.parameters(), lr=6e-5)\n",
    "student_optimizer = AdamW(student_model.parameters(), lr=6e-5)"
   ]
  },
  {
   "cell_type": "code",
   "execution_count": 29,
   "id": "f0a79bd1-23b9-41d6-bc36-0494ba4f4cc1",
   "metadata": {
    "tags": []
   },
   "outputs": [
    {
     "name": "stdout",
     "output_type": "stream",
     "text": [
      "14070\n"
     ]
    }
   ],
   "source": [
    "from train_eval_func import set_lr_scheduler\n",
    "\n",
    "num_epochs = 15\n",
    "num_training_steps = num_epochs * len(bert_train_dataloader)\n",
    "\n",
    "teacher_1_lr_scheduler = set_lr_scheduler(\n",
    "    optimizer          = teacher_1_optimizer,\n",
    "    num_training_steps = num_training_steps\n",
    ")\n",
    "\n",
    "teacher_2_lr_scheduler = set_lr_scheduler(\n",
    "    optimizer          = teacher_2_optimizer,\n",
    "    num_training_steps = num_training_steps\n",
    ")\n",
    "\n",
    "student_lr_scheduler = set_lr_scheduler(\n",
    "    optimizer          = student_optimizer,\n",
    "    num_training_steps = num_training_steps\n",
    ")\n",
    "print(num_training_steps)"
   ]
  },
  {
   "cell_type": "markdown",
   "id": "ca41eb28-3100-4dba-9414-acade07db600",
   "metadata": {
    "tags": []
   },
   "source": [
    "## 5. Training Loop"
   ]
  },
  {
   "cell_type": "code",
   "execution_count": 30,
   "id": "7d537741-5d4a-49de-ba33-42fec0f89852",
   "metadata": {
    "tags": []
   },
   "outputs": [
    {
     "data": {
      "text/plain": [
       "device(type='cuda')"
      ]
     },
     "execution_count": 30,
     "metadata": {},
     "output_type": "execute_result"
    }
   ],
   "source": [
    "import torch\n",
    "\n",
    "device = torch.device(\"cuda\") if torch.cuda.is_available() else torch.device(\"cpu\")\n",
    "teacher_1_model.to(device)\n",
    "teacher_2_model.to(device)\n",
    "student_model.to(device)\n",
    "device"
   ]
  },
  {
   "cell_type": "code",
   "execution_count": 31,
   "id": "91586baf-dc92-49a4-873f-e5238b0a763b",
   "metadata": {},
   "outputs": [],
   "source": [
    "from train_eval_func import eval_loop, EarlyStopping"
   ]
  },
  {
   "cell_type": "code",
   "execution_count": 32,
   "id": "3b8b5e08-3f90-42a0-8d0e-5be9ff068e9f",
   "metadata": {},
   "outputs": [
    {
     "data": {
      "application/vnd.jupyter.widget-view+json": {
       "model_id": "d869686cb2a64e7e89363ad99b43546b",
       "version_major": 2,
       "version_minor": 0
      },
      "text/plain": [
       "  0%|          | 0/14070 [00:00<?, ?it/s]"
      ]
     },
     "metadata": {},
     "output_type": "display_data"
    },
    {
     "name": "stderr",
     "output_type": "stream",
     "text": [
      "You're using a RobertaTokenizerFast tokenizer. Please note that with a fast tokenizer, using the `__call__` method is faster than using a method to encode the text followed by a call to the `pad` method to get a padded encoding.\n"
     ]
    },
    {
     "name": "stdout",
     "output_type": "stream",
     "text": [
      "<----------------- Epoch 1 ----------------->\n",
      "Loss: 0.91, Accuracy: 0.8896\n",
      "Validation Loss: 0.3, Validation Accuracy: 0.8853211009174312\n",
      "Elapsed Time: 667.2445 sec\n",
      "<----------------- Epoch 2 ----------------->\n",
      "Loss: 0.72, Accuracy: 0.9464\n",
      "Validation Loss: 0.2, Validation Accuracy: 0.8864678899082569\n",
      "Elapsed Time: 709.0404 sec\n",
      "<----------------- Epoch 3 ----------------->\n",
      "Loss: 0.66, Accuracy: 0.9641333333333333\n",
      "Validation Loss: 0.36, Validation Accuracy: 0.8784403669724771\n",
      "Elapsed Time: 697.178 sec\n",
      "<----------------- Epoch 4 ----------------->\n",
      "Loss: 0.63, Accuracy: 0.9731\n",
      "Validation Loss: 0.34, Validation Accuracy: 0.8887614678899083\n",
      "Elapsed Time: 705.1208 sec\n",
      "<----------------- Epoch 5 ----------------->\n",
      "Loss: 0.61, Accuracy: 0.9787\n",
      "Validation Loss: 0.15, Validation Accuracy: 0.8853211009174312\n",
      "Elapsed Time: 707.8593 sec\n",
      "<----------------- Epoch 6 ----------------->\n",
      "Loss: 0.6, Accuracy: 0.9818\n",
      "Validation Loss: 0.08, Validation Accuracy: 0.8864678899082569\n",
      "Elapsed Time: 706.0321 sec\n",
      "<----------------- Epoch 7 ----------------->\n",
      "Loss: 0.58, Accuracy: 0.9864\n",
      "Validation Loss: 0.48, Validation Accuracy: 0.8899082568807339\n",
      "Elapsed Time: 698.7521 sec\n",
      "<----------------- Epoch 8 ----------------->\n",
      "Loss: 0.58, Accuracy: 0.9888333333333333\n",
      "Validation Loss: 0.32, Validation Accuracy: 0.8761467889908257\n",
      "Elapsed Time: 714.7652 sec\n",
      "<----------------- Epoch 9 ----------------->\n",
      "Loss: 0.57, Accuracy: 0.9908666666666667\n",
      "Validation Loss: 0.23, Validation Accuracy: 0.8795871559633027\n",
      "Elapsed Time: 693.7044 sec\n",
      "<----------------- Epoch 10 ----------------->\n",
      "Loss: 0.56, Accuracy: 0.9917666666666667\n",
      "Validation Loss: 0.42, Validation Accuracy: 0.8864678899082569\n",
      "Elapsed Time: 683.2271 sec\n",
      "<----------------- Epoch 11 ----------------->\n",
      "Loss: 0.56, Accuracy: 0.9932666666666666\n",
      "Validation Loss: 0.18, Validation Accuracy: 0.8841743119266054\n",
      "Elapsed Time: 684.8038 sec\n",
      "<----------------- Epoch 12 ----------------->\n",
      "Loss: 0.55, Accuracy: 0.9943\n",
      "Validation Loss: 0.09, Validation Accuracy: 0.8841743119266054\n",
      "Elapsed Time: 684.5139 sec\n",
      "<----------------- Epoch 13 ----------------->\n",
      "Loss: 0.55, Accuracy: 0.9952\n",
      "Validation Loss: 0.14, Validation Accuracy: 0.8910550458715596\n",
      "Elapsed Time: 689.8738 sec\n",
      "<----------------- Epoch 14 ----------------->\n",
      "Loss: 0.55, Accuracy: 0.996\n",
      "Validation Loss: 0.15, Validation Accuracy: 0.8944954128440367\n",
      "Elapsed Time: 691.9812 sec\n",
      "<----------------- Epoch 15 ----------------->\n",
      "Loss: 0.55, Accuracy: 0.9967333333333334\n",
      "Validation Loss: 0.22, Validation Accuracy: 0.8910550458715596\n",
      "Elapsed Time: 688.6844 sec\n",
      "Total Training Time: 10422.783166646957 sec\n"
     ]
    }
   ],
   "source": [
    "import torch.nn as nn\n",
    "import torch.nn.functional as F\n",
    "from tqdm.auto import tqdm\n",
    "import copy\n",
    "import time\n",
    "import evaluate\n",
    "\n",
    "progress_bar = tqdm(range(num_training_steps))\n",
    "temperature = 4\n",
    "alpha=0.5\n",
    "val_old_loss = float(\"Inf\")\n",
    "n_batches = len(bert_train_dataloader)\n",
    "path = './student-best_weight/'\n",
    "\n",
    "train_losses = []\n",
    "train_accs   = []\n",
    "val_losses   = []\n",
    "val_accs     = []\n",
    "\n",
    "time_per_epoch_hist = []\n",
    "\n",
    "def perform_knowledge_distillation(b_batch, r_batch, teacher_1_model, teacher_2_model, student_model, \n",
    "                                   student_optimizer, student_lr_scheduler, original_st_model=False):\n",
    "    # compute student output\n",
    "    outputs_student = student_model(**b_batch)\n",
    "    student_loss    = outputs_student.loss\n",
    "    \n",
    "    # for computing training accuracy at the end of epoch\n",
    "    student_logits  = outputs_student.logits\n",
    "\n",
    "    # compute teacher output\n",
    "    teacher_1_model.eval()\n",
    "    with torch.no_grad():\n",
    "        outputs_teacher_1 = teacher_1_model(**b_batch)\n",
    "        \n",
    "    teacher_2_model.eval()\n",
    "    with torch.no_grad():\n",
    "        outputs_teacher_2 = teacher_2_model(**r_batch)\n",
    "\n",
    "    # assert size\n",
    "    assert outputs_student.logits.size() == outputs_teacher_1.logits.size()\n",
    "    assert outputs_teacher_1.logits.size() == outputs_teacher_2.logits.size()\n",
    "    \n",
    "    # average teacher outputs\n",
    "    avg_outpus_teacher_logits = (outputs_teacher_1.logits + outputs_teacher_2.logits) / 2\n",
    "\n",
    "    # compute distillation loss and soften probabilities\n",
    "    loss_function = nn.KLDivLoss(reduction=\"batchmean\")\n",
    "    loss_logits = (loss_function(\n",
    "        F.log_softmax(outputs_student.logits / temperature, dim=-1),\n",
    "        F.softmax(avg_outpus_teacher_logits / temperature, dim=-1)) * (temperature ** 2))\n",
    "\n",
    "    loss = alpha * student_loss + (1. - alpha) * loss_logits\n",
    "    loss.backward()\n",
    "\n",
    "    student_optimizer.step()\n",
    "    if original_st_model:\n",
    "        student_lr_scheduler.step()\n",
    "    student_optimizer.zero_grad()\n",
    "    \n",
    "    if original_st_model:\n",
    "        return float(loss), student_logits\n",
    "\n",
    "train_start = time.time() \n",
    "for epoch in range(num_epochs):\n",
    "    start = time.time()\n",
    "    accuracy_metric = evaluate.load(\"accuracy\")\n",
    "    student_model.train()\n",
    "    total_loss = 0\n",
    "    \n",
    "    earlyStopping = EarlyStopping()\n",
    "    \n",
    "    ## b_batch --> data tokenized using Bert tokenizer\n",
    "    ## r_batch --> data tokenized using Roberta tokenizer\n",
    "    for b, (b_batch, r_batch) in enumerate(zip(bert_train_dataloader, roberta_train_dataloader)):\n",
    "        b_batch = {k: v.to(device) for k, v in b_batch.items()}\n",
    "        r_batch = {k: v.to(device) for k, v in r_batch.items()}\n",
    "        \n",
    "        #### create student backup\n",
    "        student_model_state_dict     = copy.deepcopy(student_model.state_dict())\n",
    "        student_optimizer_state_dict = copy.deepcopy(student_optimizer.state_dict())\n",
    "        \n",
    "        #### perform knowledge distllation\n",
    "        perform_knowledge_distillation(b_batch, r_batch, teacher_1_model, teacher_2_model, student_model, student_optimizer, \n",
    "                                       student_lr_scheduler)\n",
    "        torch.cuda.empty_cache()\n",
    "        \n",
    "        #### test student model on quiz data        \n",
    "        quiz_loss_hist = []\n",
    "        for quiz_batch in bert_quiz_dataloader:\n",
    "            quiz_batch   = {k: v.to(device) for k, v in quiz_batch.items()}\n",
    "            quiz_outputs = student_model(**quiz_batch)\n",
    "            quiz_loss    = quiz_outputs.loss\n",
    "            quiz_loss_hist.append(float(quiz_loss))\n",
    "            \n",
    "        avg_quiz_loss = sum(quiz_loss_hist) / len(quiz_loss_hist)\n",
    "        avg_quiz_loss = torch.tensor(avg_quiz_loss, requires_grad=True)\n",
    "        del quiz_outputs, quiz_loss\n",
    "        torch.cuda.empty_cache()\n",
    "        \n",
    "        #### Update teacher model with quiz data and copy student model loss\n",
    "        teacher_1_model.train()\n",
    "        t_1_grads = torch.autograd.grad(avg_quiz_loss, teacher_1_model.parameters(), allow_unused=True)\n",
    "        for p, gr in zip(teacher_1_model.parameters(), t_1_grads):\n",
    "                p.grad = gr\n",
    "        \n",
    "        teacher_1_optimizer.step()\n",
    "        teacher_1_lr_scheduler.step()\n",
    "        teacher_1_optimizer.zero_grad()\n",
    "        \n",
    "        teacher_2_model.train()\n",
    "        t_2_grads = torch.autograd.grad(avg_quiz_loss, teacher_2_model.parameters(), allow_unused=True)\n",
    "        for p, gr in zip(teacher_2_model.parameters(), t_2_grads):\n",
    "                p.grad = gr\n",
    "        \n",
    "        teacher_2_optimizer.step()\n",
    "        teacher_2_lr_scheduler.step()\n",
    "        teacher_2_optimizer.zero_grad()\n",
    "        \n",
    "        \n",
    "        #### restoring and updating orginal student weights\n",
    "        student_model.load_state_dict(student_model_state_dict)\n",
    "        student_optimizer.load_state_dict(student_optimizer_state_dict)\n",
    "        \n",
    "        del student_model_state_dict, student_optimizer_state_dict\n",
    "        torch.cuda.empty_cache()\n",
    "        \n",
    "        loss, student_logits = perform_knowledge_distillation(b_batch, r_batch, teacher_1_model, teacher_2_model, student_model, \n",
    "                                                              student_optimizer,student_lr_scheduler, original_st_model=True)\n",
    "        \n",
    "        total_loss += loss\n",
    "        predictions = torch.argmax(student_logits, dim=-1)\n",
    "        accuracy_metric.add_batch(predictions=predictions, references=b_batch[\"labels\"])\n",
    "\n",
    "        progress_bar.update(1)\n",
    "        \n",
    "    avg_train_loss = total_loss / n_batches\n",
    "    train_acc      = accuracy_metric.compute()\n",
    "    train_losses.append(avg_train_loss)\n",
    "    train_accs.append(train_acc['accuracy'])\n",
    "    \n",
    "    #### validation training loss and accuracy \n",
    "    val_acc, val_loss = eval_loop(student_model, bert_val_dataloader, device)\n",
    "    val_losses.append(val_loss)\n",
    "    val_accs.append(val_acc['accuracy'])\n",
    "    \n",
    "    if val_loss < val_old_loss:\n",
    "        val_old_loss = val_loss\n",
    "        saveObject = {\n",
    "            'epoch': epoch + 1,\n",
    "            'batch': b + 1,\n",
    "            'model_state_dict': student_model.state_dict(),\n",
    "            'optimizer_state_dict': student_optimizer.state_dict(),\n",
    "            'lr_scheduler_state_dict': student_lr_scheduler.state_dict(),\n",
    "            'train_loss': avg_train_loss,\n",
    "            'train_acc': train_acc['accuracy'],\n",
    "            'val_loss': val_loss,\n",
    "            'val_acc': val_acc['accuracy']\n",
    "        }\n",
    "        torch.save(saveObject, path + 'metaDistil_multi_teacher_distilbert-SST-2.pt')  \n",
    "    \n",
    "    #### Display metrics\n",
    "    print(\"<-----------------\", \"Epoch\", epoch + 1, \"----------------->\")\n",
    "    print(f\"Loss: {round(avg_train_loss, 2)}, Accuracy: {train_acc['accuracy']}\")\n",
    "    print(f\"Validation Loss: {round(val_loss, 2)}, Validation Accuracy: {val_acc['accuracy']}\")\n",
    "    \n",
    "    total_time_per_epoch = time.time() - start\n",
    "    print(\"Elapsed Time:\", round(total_time_per_epoch, 4), \"sec\") \n",
    "    time_per_epoch_hist.append(total_time_per_epoch)\n",
    "    \n",
    "    #### Check early stopping\n",
    "    if earlyStopping.checkCondition(val_loss):\n",
    "        print(\">>>>> Early stoppping callback <<<<<\")\n",
    "        break\n",
    "\n",
    "total_train_time = time.time() - train_start\n",
    "print(\"Total Training Time:\", total_train_time, \"sec\")"
   ]
  },
  {
   "cell_type": "code",
   "execution_count": 33,
   "id": "4dd9195f-7cb4-46f3-9ba3-264c06447b91",
   "metadata": {},
   "outputs": [],
   "source": [
    "saveMetricObject = {\n",
    "    \"train_losses\": train_losses,\n",
    "    \"train_accs\": train_accs,\n",
    "    \"val_losses\": val_losses,\n",
    "    \"val_accs\": val_accs,\n",
    "    \"time_per_epoch_hist\": time_per_epoch_hist,\n",
    "    \"total_train_time\": total_train_time\n",
    "}\n",
    "\n",
    "torch.save(saveMetricObject, path + 'metaDistil_multi_teacher_distilbert-SST-2_training_hist.pt')"
   ]
  },
  {
   "cell_type": "code",
   "execution_count": null,
   "id": "08015ee9-d1da-49a0-93fc-83ee15a244dd",
   "metadata": {},
   "outputs": [],
   "source": []
  },
  {
   "cell_type": "markdown",
   "id": "0c41a31f-5b85-4acf-80b8-b63eb0ce08df",
   "metadata": {
    "tags": []
   },
   "source": [
    "### Plot Losses"
   ]
  },
  {
   "cell_type": "code",
   "execution_count": 34,
   "id": "7ace6e41-09b1-4487-8c18-3e30d8fed1ac",
   "metadata": {},
   "outputs": [],
   "source": [
    "from train_eval_func import plotLoss, plotAccuracy"
   ]
  },
  {
   "cell_type": "code",
   "execution_count": 35,
   "id": "7775baec-d62f-418d-af58-4ad0e5c1f693",
   "metadata": {},
   "outputs": [
    {
     "data": {
      "image/png": "[encoded data removed]",
      "text/plain": [
       "<Figure size 640x480 with 1 Axes>"
      ]
     },
     "metadata": {},
     "output_type": "display_data"
    }
   ],
   "source": [
    "plotLoss(train_losses, val_losses, title=\"Loss Plot\")"
   ]
  },
  {
   "cell_type": "markdown",
   "id": "c544d4a7-3ea3-4bd5-92cc-e573e05ec966",
   "metadata": {},
   "source": [
    "### Plotting Acccuracy"
   ]
  },
  {
   "cell_type": "code",
   "execution_count": 36,
   "id": "b87d4838-4bc6-4952-9d51-4b2d1b18955a",
   "metadata": {},
   "outputs": [
    {
     "data": {
      "image/png": "[encoded data removed]",
      "text/plain": [
       "<Figure size 640x480 with 1 Axes>"
      ]
     },
     "metadata": {},
     "output_type": "display_data"
    }
   ],
   "source": [
    "plotAccuracy(train_accs, val_accs, title=\"Accuracy Plot\")"
   ]
  },
  {
   "cell_type": "code",
   "execution_count": null,
   "id": "1037d1b2-1d04-45a8-a49b-3e30a10d29c0",
   "metadata": {
    "tags": []
   },
   "outputs": [],
   "source": []
  },
  {
   "cell_type": "markdown",
   "id": "95e1d629-17ae-4c26-964c-3e1ca4b3160d",
   "metadata": {
    "tags": []
   },
   "source": [
    "## 6. Evaluation"
   ]
  },
  {
   "cell_type": "code",
   "execution_count": 37,
   "id": "b9ccccf8-e68c-492b-ad97-33cc0e602d45",
   "metadata": {},
   "outputs": [],
   "source": [
    "best_weight = torch.load(path + 'metaDistil_multi_teacher_distilbert-SST-2.pt')"
   ]
  },
  {
   "cell_type": "code",
   "execution_count": 38,
   "id": "27f4b95c-ee9c-4bf3-9aeb-7027ab7f9f40",
   "metadata": {},
   "outputs": [
    {
     "data": {
      "text/plain": [
       "<All keys matched successfully>"
      ]
     },
     "execution_count": 38,
     "metadata": {},
     "output_type": "execute_result"
    }
   ],
   "source": [
    "student_model.load_state_dict(best_weight['model_state_dict'])"
   ]
  },
  {
   "cell_type": "markdown",
   "id": "32bb202f-0f47-467d-8dda-433cdc89b30c",
   "metadata": {},
   "source": [
    "### Teacher Model Accuracy"
   ]
  },
  {
   "cell_type": "code",
   "execution_count": 40,
   "id": "d818c148-4ab4-4f9d-b4ce-f600d517e188",
   "metadata": {},
   "outputs": [
    {
     "data": {
      "text/plain": [
       "0.938"
      ]
     },
     "execution_count": 40,
     "metadata": {},
     "output_type": "execute_result"
    }
   ],
   "source": [
    "eval_loop(teacher_1_model, bert_eval_dataloader, device)[0]['accuracy']"
   ]
  },
  {
   "cell_type": "code",
   "execution_count": 41,
   "id": "1c3a242b-0085-44fe-9ef1-ef4bb08fcfe9",
   "metadata": {},
   "outputs": [
    {
     "data": {
      "text/plain": [
       "0.9208715596330275"
      ]
     },
     "execution_count": 41,
     "metadata": {},
     "output_type": "execute_result"
    }
   ],
   "source": [
    "eval_loop(teacher_2_model, roberta_eval_dataloader, device)[0]['accuracy']"
   ]
  },
  {
   "cell_type": "markdown",
   "id": "ea2f0d36-72a5-4380-910d-5dcb0068c0b2",
   "metadata": {},
   "source": [
    "### Student Model Accuracy"
   ]
  },
  {
   "cell_type": "code",
   "execution_count": 42,
   "id": "0c7e0f1e-f2a5-4ac4-97ef-115920ea0877",
   "metadata": {},
   "outputs": [
    {
     "data": {
      "text/plain": [
       "0.9285"
      ]
     },
     "execution_count": 42,
     "metadata": {},
     "output_type": "execute_result"
    }
   ],
   "source": [
    "eval_loop(student_model, bert_eval_dataloader, device)[0]['accuracy']"
   ]
  },
  {
   "cell_type": "code",
   "execution_count": null,
   "id": "11b384c8-af07-415f-9fba-bfce37e05dc1",
   "metadata": {},
   "outputs": [],
   "source": []
  }
 ],
 "metadata": {
  "kernelspec": {
   "display_name": "Python 3 (ipykernel)",
   "language": "python",
   "name": "python3"
  },
  "language_info": {
   "codemirror_mode": {
    "name": "ipython",
    "version": 3
   },
   "file_extension": ".py",
   "mimetype": "text/x-python",
   "name": "python",
   "nbconvert_exporter": "python",
   "pygments_lexer": "ipython3",
   "version": "3.9.16"
  }
 },
 "nbformat": 4,
 "nbformat_minor": 5
}

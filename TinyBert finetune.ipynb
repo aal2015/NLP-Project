{
 "cells": [
  {
   "cell_type": "markdown",
   "id": "5427a0ef-24a6-4099-b780-0f430ffefff6",
   "metadata": {
    "tags": []
   },
   "source": [
    "# TinyBert Fine-tune"
   ]
  },
  {
   "cell_type": "markdown",
   "id": "c201fc2f-ed66-4fa3-a658-601a78a5d07d",
   "metadata": {
    "id": "Mxo4XGgRgQhO"
   },
   "source": [
    "## 1. Loading our SST-2 part of the GLUE dataset"
   ]
  },
  {
   "cell_type": "code",
   "execution_count": 1,
   "id": "7ced2402-c7d9-464d-b1fb-feac8572c581",
   "metadata": {},
   "outputs": [
    {
     "name": "stderr",
     "output_type": "stream",
     "text": [
      "Found cached dataset glue (C:/Users/abhin/.cache/huggingface/datasets/glue/sst2/1.0.0/dacbe3125aa31d7f70367a07a8a9e72a5a0bfeb5fc42e75c9db75b96da6053ad)\n"
     ]
    },
    {
     "data": {
      "application/vnd.jupyter.widget-view+json": {
       "model_id": "a543a5e5750049b987aaebedc5d62943",
       "version_major": 2,
       "version_minor": 0
      },
      "text/plain": [
       "  0%|          | 0/3 [00:00<?, ?it/s]"
      ]
     },
     "metadata": {},
     "output_type": "display_data"
    }
   ],
   "source": [
    "from datasets import load_dataset\n",
    "from transformers import AutoTokenizer, DataCollatorWithPadding\n",
    "\n",
    "raw_datasets = load_dataset(\"glue\", \"sst2\", split=[\"train[:30000]\", \"validation\", \"train[60000:62000]\"])\n",
    "checkpoint = \"huawei-noah/TinyBERT_General_4L_312D\"\n",
    "tokenizer = AutoTokenizer.from_pretrained(checkpoint)"
   ]
  },
  {
   "cell_type": "code",
   "execution_count": 2,
   "id": "37d2d2e2-ed17-4e92-b8d0-b32d81f93803",
   "metadata": {},
   "outputs": [
    {
     "data": {
      "text/plain": [
       "[Dataset({\n",
       "     features: ['sentence', 'label', 'idx'],\n",
       "     num_rows: 30000\n",
       " }),\n",
       " Dataset({\n",
       "     features: ['sentence', 'label', 'idx'],\n",
       "     num_rows: 872\n",
       " }),\n",
       " Dataset({\n",
       "     features: ['sentence', 'label', 'idx'],\n",
       "     num_rows: 2000\n",
       " })]"
      ]
     },
     "execution_count": 2,
     "metadata": {},
     "output_type": "execute_result"
    }
   ],
   "source": [
    "raw_datasets"
   ]
  },
  {
   "cell_type": "code",
   "execution_count": 3,
   "id": "432cfef6-8c38-4b7e-857e-9cf2c50c7d67",
   "metadata": {},
   "outputs": [],
   "source": [
    "from datasets import DatasetDict"
   ]
  },
  {
   "cell_type": "code",
   "execution_count": 4,
   "id": "bfb5d466-a7b0-4dfb-9dea-29e56b138349",
   "metadata": {},
   "outputs": [],
   "source": [
    "raw_datasets = DatasetDict({\n",
    "    \"train\": raw_datasets[0],\n",
    "    \"validation\": raw_datasets[1],\n",
    "    \"test\": raw_datasets[2]\n",
    "})"
   ]
  },
  {
   "cell_type": "code",
   "execution_count": 5,
   "id": "20aabf70-a939-4715-bb50-e2dba05e028b",
   "metadata": {},
   "outputs": [
    {
     "data": {
      "text/plain": [
       "DatasetDict({\n",
       "    train: Dataset({\n",
       "        features: ['sentence', 'label', 'idx'],\n",
       "        num_rows: 30000\n",
       "    })\n",
       "    validation: Dataset({\n",
       "        features: ['sentence', 'label', 'idx'],\n",
       "        num_rows: 872\n",
       "    })\n",
       "    test: Dataset({\n",
       "        features: ['sentence', 'label', 'idx'],\n",
       "        num_rows: 2000\n",
       "    })\n",
       "})"
      ]
     },
     "execution_count": 5,
     "metadata": {},
     "output_type": "execute_result"
    }
   ],
   "source": [
    "raw_datasets"
   ]
  },
  {
   "cell_type": "code",
   "execution_count": 6,
   "id": "efde69fa-ec47-49fc-840a-084fcfdd8106",
   "metadata": {},
   "outputs": [
    {
     "data": {
      "text/plain": [
       "{'sentence': 'hide new secretions from the parental units ',\n",
       " 'label': 0,\n",
       " 'idx': 0}"
      ]
     },
     "execution_count": 6,
     "metadata": {},
     "output_type": "execute_result"
    }
   ],
   "source": [
    "raw_train_dataset = raw_datasets[\"train\"]\n",
    "raw_train_dataset[0]"
   ]
  },
  {
   "cell_type": "code",
   "execution_count": 7,
   "id": "2d651f7f-2e39-4334-89ab-a5db275e375a",
   "metadata": {},
   "outputs": [
    {
     "data": {
      "text/plain": [
       "\"that 's far too tragic to merit such superficial treatment \""
      ]
     },
     "execution_count": 7,
     "metadata": {},
     "output_type": "execute_result"
    }
   ],
   "source": [
    "raw_train_dataset[5]['sentence']"
   ]
  },
  {
   "cell_type": "code",
   "execution_count": 8,
   "id": "4c7db14f-c6c7-45d8-ac48-73b4737ff777",
   "metadata": {},
   "outputs": [
    {
     "data": {
      "text/plain": [
       "0"
      ]
     },
     "execution_count": 8,
     "metadata": {},
     "output_type": "execute_result"
    }
   ],
   "source": [
    "raw_train_dataset[5]['label']"
   ]
  },
  {
   "cell_type": "code",
   "execution_count": 9,
   "id": "9803a279-d242-4a4d-920f-8798fa3c78af",
   "metadata": {},
   "outputs": [
    {
     "data": {
      "text/plain": [
       "5"
      ]
     },
     "execution_count": 9,
     "metadata": {},
     "output_type": "execute_result"
    }
   ],
   "source": [
    "raw_train_dataset[5]['idx']"
   ]
  },
  {
   "cell_type": "code",
   "execution_count": 10,
   "id": "28db9064-bb0c-4be0-9f53-8a34bc4d31e3",
   "metadata": {},
   "outputs": [
    {
     "data": {
      "text/plain": [
       "{'sentence': Value(dtype='string', id=None),\n",
       " 'label': ClassLabel(names=['negative', 'positive'], id=None),\n",
       " 'idx': Value(dtype='int32', id=None)}"
      ]
     },
     "execution_count": 10,
     "metadata": {},
     "output_type": "execute_result"
    }
   ],
   "source": [
    "raw_train_dataset.features"
   ]
  },
  {
   "cell_type": "code",
   "execution_count": null,
   "id": "5f885870-f249-4227-b727-bc8e983e4071",
   "metadata": {},
   "outputs": [],
   "source": []
  },
  {
   "cell_type": "markdown",
   "id": "75b2d73f-6812-46fd-be18-4c4f7414a188",
   "metadata": {
    "tags": []
   },
   "source": [
    "## 2. Preprocess"
   ]
  },
  {
   "cell_type": "code",
   "execution_count": 11,
   "id": "bc746d17-6ba0-490c-b2f8-e88731761c1c",
   "metadata": {},
   "outputs": [
    {
     "name": "stderr",
     "output_type": "stream",
     "text": [
      "Loading cached processed dataset at C:\\Users\\abhin\\.cache\\huggingface\\datasets\\glue\\sst2\\1.0.0\\dacbe3125aa31d7f70367a07a8a9e72a5a0bfeb5fc42e75c9db75b96da6053ad\\cache-7841a8938a219072.arrow\n",
      "Loading cached processed dataset at C:\\Users\\abhin\\.cache\\huggingface\\datasets\\glue\\sst2\\1.0.0\\dacbe3125aa31d7f70367a07a8a9e72a5a0bfeb5fc42e75c9db75b96da6053ad\\cache-695af64ab23ddbe3.arrow\n",
      "Loading cached processed dataset at C:\\Users\\abhin\\.cache\\huggingface\\datasets\\glue\\sst2\\1.0.0\\dacbe3125aa31d7f70367a07a8a9e72a5a0bfeb5fc42e75c9db75b96da6053ad\\cache-521abaf8973e9007.arrow\n"
     ]
    },
    {
     "data": {
      "text/plain": [
       "DatasetDict({\n",
       "    train: Dataset({\n",
       "        features: ['sentence', 'label', 'idx', 'input_ids', 'token_type_ids', 'attention_mask'],\n",
       "        num_rows: 30000\n",
       "    })\n",
       "    validation: Dataset({\n",
       "        features: ['sentence', 'label', 'idx', 'input_ids', 'token_type_ids', 'attention_mask'],\n",
       "        num_rows: 872\n",
       "    })\n",
       "    test: Dataset({\n",
       "        features: ['sentence', 'label', 'idx', 'input_ids', 'token_type_ids', 'attention_mask'],\n",
       "        num_rows: 2000\n",
       "    })\n",
       "})"
      ]
     },
     "execution_count": 11,
     "metadata": {},
     "output_type": "execute_result"
    }
   ],
   "source": [
    "def tokenize_function(example):\n",
    "    return tokenizer(example[\"sentence\"], truncation=True)\n",
    "\n",
    "tokenized_datasets = raw_datasets.map(tokenize_function, batched=True)\n",
    "tokenized_datasets"
   ]
  },
  {
   "cell_type": "code",
   "execution_count": null,
   "id": "36f86afd-4916-4000-96af-625db86cd3c1",
   "metadata": {},
   "outputs": [],
   "source": []
  },
  {
   "cell_type": "markdown",
   "id": "f178e5da-f05a-47b7-a4be-e3acf37b5168",
   "metadata": {},
   "source": [
    "## 3. Preparing for Training"
   ]
  },
  {
   "cell_type": "code",
   "execution_count": 12,
   "id": "1a1511e4-282b-4c3c-9dc1-dc1038a938bd",
   "metadata": {},
   "outputs": [],
   "source": [
    "from transformers import DataCollatorWithPadding\n",
    "\n",
    "data_collator = DataCollatorWithPadding(tokenizer=tokenizer)"
   ]
  },
  {
   "cell_type": "code",
   "execution_count": 13,
   "id": "1e1deb72-1398-4781-a275-2f1e6ff03d9a",
   "metadata": {},
   "outputs": [
    {
     "data": {
      "text/plain": [
       "['labels', 'input_ids', 'token_type_ids', 'attention_mask']"
      ]
     },
     "execution_count": 13,
     "metadata": {},
     "output_type": "execute_result"
    }
   ],
   "source": [
    "tokenized_datasets = tokenized_datasets.remove_columns([\"sentence\", \"idx\"])\n",
    "tokenized_datasets = tokenized_datasets.rename_column(\"label\", \"labels\")\n",
    "tokenized_datasets.set_format(\"torch\")\n",
    "tokenized_datasets[\"train\"].column_names"
   ]
  },
  {
   "cell_type": "code",
   "execution_count": 14,
   "id": "4aba9d6e-7b76-4f27-968e-03a5cad3761a",
   "metadata": {},
   "outputs": [],
   "source": [
    "from torch.utils.data import DataLoader\n",
    "\n",
    "train_dataloader = DataLoader(\n",
    "    tokenized_datasets[\"train\"], shuffle=True, batch_size=64, collate_fn=data_collator\n",
    ")\n",
    "\n",
    "val_dataloader = DataLoader(\n",
    "    tokenized_datasets[\"validation\"], batch_size=20, collate_fn=data_collator\n",
    ")\n",
    "\n",
    "eval_dataloader = DataLoader(\n",
    "    tokenized_datasets[\"test\"], batch_size=128, collate_fn=data_collator\n",
    ")"
   ]
  },
  {
   "cell_type": "code",
   "execution_count": 15,
   "id": "4aed8b0d-08cd-46d5-a0a6-02a2ddb5e174",
   "metadata": {},
   "outputs": [
    {
     "name": "stderr",
     "output_type": "stream",
     "text": [
      "You're using a BertTokenizerFast tokenizer. Please note that with a fast tokenizer, using the `__call__` method is faster than using a method to encode the text followed by a call to the `pad` method to get a padded encoding.\n"
     ]
    },
    {
     "data": {
      "text/plain": [
       "{'labels': torch.Size([64]),\n",
       " 'input_ids': torch.Size([64, 46]),\n",
       " 'token_type_ids': torch.Size([64, 46]),\n",
       " 'attention_mask': torch.Size([64, 46])}"
      ]
     },
     "execution_count": 15,
     "metadata": {},
     "output_type": "execute_result"
    }
   ],
   "source": [
    "for batch in train_dataloader:\n",
    "    break\n",
    "{k: v.shape for k, v in batch.items()}"
   ]
  },
  {
   "cell_type": "code",
   "execution_count": null,
   "id": "7f78798c-d157-409e-97e9-3399149585bd",
   "metadata": {},
   "outputs": [],
   "source": []
  },
  {
   "cell_type": "markdown",
   "id": "1dfa7a22-adee-4412-895f-0e37c34e4f98",
   "metadata": {},
   "source": [
    "## 4. Loading  Model "
   ]
  },
  {
   "cell_type": "code",
   "execution_count": 16,
   "id": "a4bc9af4-5d2f-4ec4-a39b-abec0b18bbd6",
   "metadata": {},
   "outputs": [],
   "source": [
    "# id2label, label2id dicts for the outputs for the model\n",
    "labels = tokenized_datasets[\"train\"].features[\"labels\"].names\n",
    "num_labels = len(labels)\n",
    "label2id, id2label = dict(), dict()\n",
    "for i, label in enumerate(labels):\n",
    "    label2id[label] = str(i)\n",
    "    id2label[str(i)] = label"
   ]
  },
  {
   "cell_type": "code",
   "execution_count": 17,
   "id": "6ae9e2e7-906a-40da-bd3b-3e9a49e4c652",
   "metadata": {},
   "outputs": [
    {
     "name": "stderr",
     "output_type": "stream",
     "text": [
      "Some weights of the model checkpoint at huawei-noah/TinyBERT_General_4L_312D were not used when initializing BertForSequenceClassification: ['fit_denses.0.bias', 'fit_denses.4.weight', 'cls.predictions.transform.dense.bias', 'fit_denses.1.weight', 'cls.predictions.transform.LayerNorm.weight', 'fit_denses.2.weight', 'cls.predictions.transform.LayerNorm.bias', 'cls.predictions.transform.dense.weight', 'cls.seq_relationship.bias', 'fit_denses.2.bias', 'cls.predictions.bias', 'cls.predictions.decoder.weight', 'fit_denses.4.bias', 'cls.seq_relationship.weight', 'fit_denses.0.weight', 'fit_denses.3.bias', 'fit_denses.1.bias', 'fit_denses.3.weight']\n",
      "- This IS expected if you are initializing BertForSequenceClassification from the checkpoint of a model trained on another task or with another architecture (e.g. initializing a BertForSequenceClassification model from a BertForPreTraining model).\n",
      "- This IS NOT expected if you are initializing BertForSequenceClassification from the checkpoint of a model that you expect to be exactly identical (initializing a BertForSequenceClassification model from a BertForSequenceClassification model).\n",
      "Some weights of BertForSequenceClassification were not initialized from the model checkpoint at huawei-noah/TinyBERT_General_4L_312D and are newly initialized: ['classifier.bias', 'classifier.weight']\n",
      "You should probably TRAIN this model on a down-stream task to be able to use it for predictions and inference.\n"
     ]
    }
   ],
   "source": [
    "from transformers import AutoModelForSequenceClassification\n",
    "\n",
    "# teacher model\n",
    "model = AutoModelForSequenceClassification.from_pretrained(\n",
    "    checkpoint,\n",
    "    num_labels=num_labels,\n",
    "    id2label=id2label,\n",
    "    label2id=label2id,\n",
    ")"
   ]
  },
  {
   "cell_type": "code",
   "execution_count": 18,
   "id": "736ff7ec-9b20-438a-a63d-67a0f7c86c39",
   "metadata": {},
   "outputs": [
    {
     "name": "stdout",
     "output_type": "stream",
     "text": [
      "tensor(0.6936, grad_fn=<NllLossBackward0>) torch.Size([64, 2])\n"
     ]
    }
   ],
   "source": [
    "outputs = model(**batch)\n",
    "print(outputs.loss, outputs.logits.shape)"
   ]
  },
  {
   "cell_type": "code",
   "execution_count": 19,
   "id": "bf9a2ac2-ac30-4d48-b1ac-f9dc1f40ce35",
   "metadata": {},
   "outputs": [],
   "source": [
    "from torch.optim import AdamW\n",
    "\n",
    "optimizer = AdamW(model.parameters(), lr=5e-5)"
   ]
  },
  {
   "cell_type": "code",
   "execution_count": 20,
   "id": "9124b0a7-f737-4b6d-bafb-16bf2001e489",
   "metadata": {},
   "outputs": [
    {
     "name": "stdout",
     "output_type": "stream",
     "text": [
      "4690\n"
     ]
    }
   ],
   "source": [
    "from transformers import get_scheduler\n",
    "\n",
    "num_epochs = 10\n",
    "num_training_steps = num_epochs * len(train_dataloader)\n",
    "lr_scheduler = get_scheduler(\n",
    "    \"linear\",\n",
    "    optimizer          = optimizer,\n",
    "    num_warmup_steps   = 0,\n",
    "    num_training_steps = num_training_steps,\n",
    ")\n",
    "print(num_training_steps)"
   ]
  },
  {
   "cell_type": "code",
   "execution_count": null,
   "id": "2c47455b-9825-4ccb-956a-5ee9e4fbf9ce",
   "metadata": {},
   "outputs": [],
   "source": []
  },
  {
   "cell_type": "markdown",
   "id": "75842a32-71b5-4578-be8e-c142619e5113",
   "metadata": {
    "tags": []
   },
   "source": [
    "## 5. Training Loop"
   ]
  },
  {
   "cell_type": "code",
   "execution_count": 21,
   "id": "22ae1e2a-49ae-4aed-9b1d-5790ab2943b6",
   "metadata": {},
   "outputs": [
    {
     "data": {
      "text/plain": [
       "device(type='cuda')"
      ]
     },
     "execution_count": 21,
     "metadata": {},
     "output_type": "execute_result"
    }
   ],
   "source": [
    "import torch\n",
    "\n",
    "device = torch.device(\"cuda\") if torch.cuda.is_available() else torch.device(\"cpu\")\n",
    "model.to(device)\n",
    "device"
   ]
  },
  {
   "cell_type": "code",
   "execution_count": 22,
   "id": "6a2858b8-a8af-41ba-9d2b-2c32741a1f20",
   "metadata": {},
   "outputs": [],
   "source": [
    "from train_eval_func import eval_loop, EarlyStopping"
   ]
  },
  {
   "cell_type": "code",
   "execution_count": 23,
   "id": "f7f5a509-c5b5-4dbe-a36e-fbf9bce4cc9f",
   "metadata": {},
   "outputs": [
    {
     "data": {
      "application/vnd.jupyter.widget-view+json": {
       "model_id": "73cee9cef01b4062aacfdc25339efdda",
       "version_major": 2,
       "version_minor": 0
      },
      "text/plain": [
       "  0%|          | 0/4690 [00:00<?, ?it/s]"
      ]
     },
     "metadata": {},
     "output_type": "display_data"
    },
    {
     "name": "stdout",
     "output_type": "stream",
     "text": [
      "<----------------- Epoch 1 ----------------->\n",
      "Loss: 0.33, Accuracy: 0.8566333333333334\n",
      "Validation Loss: 0.8, Validation Accuracy: 0.8830275229357798\n",
      "Elapsed Time: 39.3165 sec\n",
      "<----------------- Epoch 2 ----------------->\n",
      "Loss: 0.19, Accuracy: 0.9267\n",
      "Validation Loss: 0.88, Validation Accuracy: 0.8738532110091743\n",
      "Elapsed Time: 35.0769 sec\n",
      "<----------------- Epoch 3 ----------------->\n",
      "Loss: 0.11, Accuracy: 0.9577\n",
      "Validation Loss: 1.08, Validation Accuracy: 0.8795871559633027\n",
      "Elapsed Time: 34.1758 sec\n",
      "<----------------- Epoch 4 ----------------->\n",
      "Loss: 0.07, Accuracy: 0.9759666666666666\n",
      "Validation Loss: 0.94, Validation Accuracy: 0.8761467889908257\n",
      "Elapsed Time: 33.7798 sec\n",
      "<----------------- Epoch 5 ----------------->\n",
      "Loss: 0.04, Accuracy: 0.9868\n",
      "Validation Loss: 1.28, Validation Accuracy: 0.8646788990825688\n",
      "Elapsed Time: 35.8589 sec\n",
      "<----------------- Epoch 6 ----------------->\n",
      "Loss: 0.02, Accuracy: 0.9916666666666667\n",
      "Validation Loss: 1.29, Validation Accuracy: 0.8738532110091743\n",
      "Elapsed Time: 33.8707 sec\n",
      "<----------------- Epoch 7 ----------------->\n",
      "Loss: 0.01, Accuracy: 0.9952666666666666\n",
      "Validation Loss: 1.19, Validation Accuracy: 0.8669724770642202\n",
      "Elapsed Time: 36.2481 sec\n",
      "<----------------- Epoch 8 ----------------->\n",
      "Loss: 0.01, Accuracy: 0.9970666666666667\n",
      "Validation Loss: 1.44, Validation Accuracy: 0.8692660550458715\n",
      "Elapsed Time: 33.7677 sec\n",
      "<----------------- Epoch 9 ----------------->\n",
      "Loss: 0.01, Accuracy: 0.9986333333333334\n",
      "Validation Loss: 1.29, Validation Accuracy: 0.8738532110091743\n",
      "Elapsed Time: 36.8658 sec\n",
      "<----------------- Epoch 10 ----------------->\n",
      "Loss: 0.0, Accuracy: 0.9992666666666666\n",
      "Validation Loss: 1.34, Validation Accuracy: 0.8738532110091743\n",
      "Elapsed Time: 36.3342 sec\n",
      "Total Training Time: 355.2965395450592 sec\n"
     ]
    }
   ],
   "source": [
    "import torch.nn as nn\n",
    "import torch.nn.functional as F\n",
    "from tqdm.auto import tqdm\n",
    "import time\n",
    "import evaluate\n",
    "\n",
    "progress_bar = tqdm(range(num_training_steps))\n",
    "temperature = 4\n",
    "alpha = 0.5\n",
    "n_batches = len(train_dataloader)\n",
    "path = './teacher-best_weight/'\n",
    "\n",
    "train_losses = []\n",
    "train_accs   = []\n",
    "val_losses   = []\n",
    "val_accs     = []\n",
    "\n",
    "time_per_epoch_hist = []\n",
    "\n",
    "model.train()\n",
    "train_start = time.time() \n",
    "for epoch in range(num_epochs):\n",
    "    start = time.time()\n",
    "    accuracy_metric = evaluate.load(\"accuracy\")\n",
    "    \n",
    "    total_loss = 0\n",
    "    val_old_loss = float(\"Inf\")\n",
    "    \n",
    "    earlyStopping = EarlyStopping()\n",
    "    \n",
    "    for b, batch in enumerate(train_dataloader):\n",
    "        batch = {k: v.to(device) for k, v in batch.items()}\n",
    "        \n",
    "        outputs    = model(**batch)\n",
    "        loss       = outputs.loss\n",
    "        total_loss += float(loss)\n",
    "        loss.backward()\n",
    "        \n",
    "        logits  = outputs.logits\n",
    "        predictions = torch.argmax(logits, dim=-1)\n",
    "        accuracy_metric.add_batch(predictions=predictions, references=batch[\"labels\"])\n",
    "        \n",
    "        optimizer.step()\n",
    "        lr_scheduler.step()\n",
    "        optimizer.zero_grad()\n",
    "        progress_bar.update(1)\n",
    "        \n",
    "    #### training loss and accuracy \n",
    "    avg_train_loss = total_loss / n_batches\n",
    "    train_acc      = accuracy_metric.compute()\n",
    "    train_losses.append(avg_train_loss)\n",
    "    train_accs.append(train_acc['accuracy'])\n",
    "    \n",
    "    #### validation training loss and accuracy \n",
    "    val_acc, val_loss = eval_loop(model, val_dataloader, device)\n",
    "    val_losses.append(val_loss)\n",
    "    val_accs.append(val_acc['accuracy'])\n",
    "    \n",
    "    if val_loss < val_old_loss:\n",
    "        val_old_loss = val_loss\n",
    "        saveObject = {\n",
    "            'epoch': epoch + 1,\n",
    "            'batch': b + 1,\n",
    "            'model_state_dict': model.state_dict(),\n",
    "            'optimizer_state_dict': model.state_dict(),\n",
    "            'lr_scheduler_state_dict': lr_scheduler.state_dict(),\n",
    "            'train_loss': avg_train_loss,\n",
    "            'train_acc': train_acc['accuracy'],\n",
    "            'val_loss': val_loss,\n",
    "            'val_acc': val_acc['accuracy']\n",
    "        }\n",
    "        torch.save(saveObject, path + 'tinybert-SST-2.pt')   \n",
    "    \n",
    "    #### Display metrics\n",
    "    print(\"<-----------------\", \"Epoch\", epoch + 1, \"----------------->\")\n",
    "    print(f\"Loss: {round(avg_train_loss, 2)}, Accuracy: {train_acc['accuracy']}\")\n",
    "    print(f\"Validation Loss: {round(val_loss, 2)}, Validation Accuracy: {val_acc['accuracy']}\")\n",
    "    \n",
    "    total_time_per_epoch = time.time() - start\n",
    "    print(\"Elapsed Time:\", round(total_time_per_epoch, 4), \"sec\") \n",
    "    time_per_epoch_hist.append(total_time_per_epoch)\n",
    "    \n",
    "    #### Check early stopping\n",
    "    if earlyStopping.checkCondition(val_loss):\n",
    "        print(\">>>>> Early stoppping callback <<<<<\")\n",
    "        break\n",
    "\n",
    "total_train_time = time.time() - train_start\n",
    "print(\"Total Training Time:\", total_train_time, \"sec\")"
   ]
  },
  {
   "cell_type": "code",
   "execution_count": 24,
   "id": "78b4045e-7092-4bb7-9974-aee2dd6a8625",
   "metadata": {},
   "outputs": [],
   "source": [
    "saveMetricObject = {\n",
    "    \"train_losses\": train_losses,\n",
    "    \"train_accs\": train_accs,\n",
    "    \"val_losses\": val_losses,\n",
    "    \"val_accs\": val_accs,\n",
    "    \"time_per_epoch_hist\": time_per_epoch_hist,\n",
    "    \"total_train_time\": total_train_time\n",
    "}\n",
    "\n",
    "torch.save(saveMetricObject, path +  'tinybert-SST-2_training_hist.pt')"
   ]
  },
  {
   "cell_type": "markdown",
   "id": "23f25a3f-9f4a-48ac-9468-7f6ebc11e140",
   "metadata": {},
   "source": [
    "### Plotting Loss"
   ]
  },
  {
   "cell_type": "code",
   "execution_count": 25,
   "id": "a506c8a7-5983-41da-9599-c10e6dbc3b04",
   "metadata": {},
   "outputs": [],
   "source": [
    "import matplotlib.pyplot as plt"
   ]
  },
  {
   "cell_type": "code",
   "execution_count": 26,
   "id": "7ebb4a0a-8c3f-4d53-a0a9-17876834dda8",
   "metadata": {},
   "outputs": [],
   "source": [
    "def plotLoss(trainingLoss, valLoss):\n",
    "    plt.plot(trainingLoss)\n",
    "    plt.plot(valLoss)\n",
    "    plt.xlabel(\"Epoch\")\n",
    "    plt.ylabel(\"Loss\")\n",
    "    plt.legend([\"Training Loss\", \"Val Loss\"])"
   ]
  },
  {
   "cell_type": "code",
   "execution_count": 27,
   "id": "de17caa3-2964-4492-8ede-38fa5f5875bb",
   "metadata": {},
   "outputs": [
    {
     "data": {
      "image/png": "[encoded data removed]",
      "text/plain": [
       "<Figure size 640x480 with 1 Axes>"
      ]
     },
     "metadata": {},
     "output_type": "display_data"
    }
   ],
   "source": [
    "plotLoss(train_losses, val_losses)"
   ]
  },
  {
   "cell_type": "markdown",
   "id": "ecf57495-e057-4144-a244-d7f53388c5bd",
   "metadata": {},
   "source": [
    "### Plotting Acccuracy"
   ]
  },
  {
   "cell_type": "code",
   "execution_count": 28,
   "id": "aeaf7598-a230-4747-b292-a05171c0ed10",
   "metadata": {},
   "outputs": [],
   "source": [
    "def plotAccuracy(trainingAcc, valAcc):\n",
    "    plt.plot(trainingAcc)\n",
    "    plt.plot(valAcc)\n",
    "    plt.xlabel(\"Epoch\")\n",
    "    plt.ylabel(\"Accuracy (%)\")\n",
    "    plt.legend([\"Training Accuracy\", \"Val Accuracy\"])"
   ]
  },
  {
   "cell_type": "code",
   "execution_count": 29,
   "id": "e42795e0-460d-4bbc-83df-ae4b1cacdf2e",
   "metadata": {},
   "outputs": [
    {
     "data": {
      "image/png": "[encoded data removed]",
      "text/plain": [
       "<Figure size 640x480 with 1 Axes>"
      ]
     },
     "metadata": {},
     "output_type": "display_data"
    }
   ],
   "source": [
    "plotAccuracy(train_accs, val_accs)"
   ]
  },
  {
   "cell_type": "code",
   "execution_count": null,
   "id": "be229021-59dd-4419-940a-d641138952e9",
   "metadata": {},
   "outputs": [],
   "source": []
  },
  {
   "cell_type": "markdown",
   "id": "8d2c28e5-749f-42d1-8f1e-7a69d9175e03",
   "metadata": {
    "tags": []
   },
   "source": [
    "## 6. Evaluation"
   ]
  },
  {
   "cell_type": "code",
   "execution_count": 32,
   "id": "a0f4e473-613d-41aa-b17c-2450de617396",
   "metadata": {},
   "outputs": [],
   "source": [
    "best_weight = torch.load(path + 'tinybert-SST-2.pt')"
   ]
  },
  {
   "cell_type": "code",
   "execution_count": 33,
   "id": "ab7ef768-9ecf-41df-aed7-6e729a81ec0e",
   "metadata": {},
   "outputs": [
    {
     "data": {
      "text/plain": [
       "<All keys matched successfully>"
      ]
     },
     "execution_count": 33,
     "metadata": {},
     "output_type": "execute_result"
    }
   ],
   "source": [
    "model.load_state_dict(best_weight['model_state_dict'])"
   ]
  },
  {
   "cell_type": "code",
   "execution_count": 34,
   "id": "2954977f-de05-497c-ad5c-23f49d695ae4",
   "metadata": {},
   "outputs": [
    {
     "data": {
      "text/plain": [
       "0.9245"
      ]
     },
     "execution_count": 34,
     "metadata": {},
     "output_type": "execute_result"
    }
   ],
   "source": [
    "eval_loop(model, eval_dataloader, device)[0]['accuracy']"
   ]
  },
  {
   "cell_type": "code",
   "execution_count": null,
   "id": "ad05c730-4740-4dd1-874f-fd5b63e29403",
   "metadata": {},
   "outputs": [],
   "source": []
  }
 ],
 "metadata": {
  "kernelspec": {
   "display_name": "Python 3 (ipykernel)",
   "language": "python",
   "name": "python3"
  },
  "language_info": {
   "codemirror_mode": {
    "name": "ipython",
    "version": 3
   },
   "file_extension": ".py",
   "mimetype": "text/x-python",
   "name": "python",
   "nbconvert_exporter": "python",
   "pygments_lexer": "ipython3",
   "version": "3.9.16"
  }
 },
 "nbformat": 4,
 "nbformat_minor": 5
}

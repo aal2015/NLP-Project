{
 "cells": [
  {
   "cell_type": "markdown",
   "id": "89377c3d-cdd3-418e-b0a1-ad2f2e00b01e",
   "metadata": {},
   "source": [
    "# Model Distillation with Pytorch"
   ]
  },
  {
   "cell_type": "markdown",
   "id": "e2726ec7-c710-4396-afcf-23fbf37153b5",
   "metadata": {},
   "source": [
    "## 0. Choosing our \"teacher\" and \"student\" models"
   ]
  },
  {
   "cell_type": "code",
   "execution_count": 1,
   "id": "09ebf684-a2b5-4cea-9874-1c15559b1269",
   "metadata": {},
   "outputs": [],
   "source": [
    "student = \"distilbert-base-uncased\"\n",
    "teacher = \"textattack/bert-base-uncased-SST-2\""
   ]
  },
  {
   "cell_type": "markdown",
   "id": "f49006e9-c70e-4ec0-a30a-c835de9775db",
   "metadata": {
    "id": "Mxo4XGgRgQhO"
   },
   "source": [
    "## 1. Loading our SST-2 part of the GLUE dataset"
   ]
  },
  {
   "cell_type": "code",
   "execution_count": 2,
   "id": "216e1e7d-2cdc-4787-a5b9-7d89d0fd5994",
   "metadata": {},
   "outputs": [
    {
     "name": "stderr",
     "output_type": "stream",
     "text": [
      "Found cached dataset glue (C:/Users/abhin/.cache/huggingface/datasets/glue/sst2/1.0.0/dacbe3125aa31d7f70367a07a8a9e72a5a0bfeb5fc42e75c9db75b96da6053ad)\n"
     ]
    },
    {
     "data": {
      "application/vnd.jupyter.widget-view+json": {
       "model_id": "6a1e653b6db742b7803f7852dd42d97a",
       "version_major": 2,
       "version_minor": 0
      },
      "text/plain": [
       "  0%|          | 0/3 [00:00<?, ?it/s]"
      ]
     },
     "metadata": {},
     "output_type": "display_data"
    }
   ],
   "source": [
    "from datasets import load_dataset\n",
    "from transformers import AutoTokenizer, DataCollatorWithPadding\n",
    "\n",
    "raw_datasets = load_dataset(\"glue\", \"sst2\", split=[\"train[:25000]\", \"validation\", \"train[25000:30000]\"])\n",
    "tokenizer = AutoTokenizer.from_pretrained(student)"
   ]
  },
  {
   "cell_type": "code",
   "execution_count": 3,
   "id": "de4951c3-ce62-4c0d-adfa-3bcca4041542",
   "metadata": {},
   "outputs": [
    {
     "data": {
      "text/plain": [
       "[Dataset({\n",
       "     features: ['sentence', 'label', 'idx'],\n",
       "     num_rows: 25000\n",
       " }),\n",
       " Dataset({\n",
       "     features: ['sentence', 'label', 'idx'],\n",
       "     num_rows: 872\n",
       " }),\n",
       " Dataset({\n",
       "     features: ['sentence', 'label', 'idx'],\n",
       "     num_rows: 5000\n",
       " })]"
      ]
     },
     "execution_count": 3,
     "metadata": {},
     "output_type": "execute_result"
    }
   ],
   "source": [
    "raw_datasets"
   ]
  },
  {
   "cell_type": "code",
   "execution_count": 4,
   "id": "3ec65f26-18b3-4bc8-9669-6c45c365275e",
   "metadata": {},
   "outputs": [],
   "source": [
    "from datasets import DatasetDict"
   ]
  },
  {
   "cell_type": "code",
   "execution_count": 5,
   "id": "815b789a-eda4-47a9-a70b-4fd8fcc93639",
   "metadata": {},
   "outputs": [],
   "source": [
    "raw_datasets = DatasetDict({\n",
    "    \"train\": raw_datasets[0],\n",
    "    \"validation\": raw_datasets[1],\n",
    "    \"test\": raw_datasets[2]\n",
    "})"
   ]
  },
  {
   "cell_type": "code",
   "execution_count": 6,
   "id": "4c32b53f-580d-4311-a31d-e73a94cef92f",
   "metadata": {},
   "outputs": [
    {
     "data": {
      "text/plain": [
       "DatasetDict({\n",
       "    train: Dataset({\n",
       "        features: ['sentence', 'label', 'idx'],\n",
       "        num_rows: 25000\n",
       "    })\n",
       "    validation: Dataset({\n",
       "        features: ['sentence', 'label', 'idx'],\n",
       "        num_rows: 872\n",
       "    })\n",
       "    test: Dataset({\n",
       "        features: ['sentence', 'label', 'idx'],\n",
       "        num_rows: 5000\n",
       "    })\n",
       "})"
      ]
     },
     "execution_count": 6,
     "metadata": {},
     "output_type": "execute_result"
    }
   ],
   "source": [
    "raw_datasets"
   ]
  },
  {
   "cell_type": "code",
   "execution_count": 7,
   "id": "8ede3ae7-8540-4efd-8573-13c258b777fd",
   "metadata": {},
   "outputs": [
    {
     "data": {
      "text/plain": [
       "{'sentence': 'hide new secretions from the parental units ',\n",
       " 'label': 0,\n",
       " 'idx': 0}"
      ]
     },
     "execution_count": 7,
     "metadata": {},
     "output_type": "execute_result"
    }
   ],
   "source": [
    "raw_train_dataset = raw_datasets[\"train\"]\n",
    "raw_train_dataset[0]"
   ]
  },
  {
   "cell_type": "code",
   "execution_count": 8,
   "id": "095b1c77-e90d-4da5-880c-a4eac79217f9",
   "metadata": {},
   "outputs": [
    {
     "data": {
      "text/plain": [
       "\"that 's far too tragic to merit such superficial treatment \""
      ]
     },
     "execution_count": 8,
     "metadata": {},
     "output_type": "execute_result"
    }
   ],
   "source": [
    "raw_train_dataset[5]['sentence']"
   ]
  },
  {
   "cell_type": "code",
   "execution_count": 9,
   "id": "1b2a4f3f-d00a-4967-92aa-145b72b983fa",
   "metadata": {},
   "outputs": [
    {
     "data": {
      "text/plain": [
       "0"
      ]
     },
     "execution_count": 9,
     "metadata": {},
     "output_type": "execute_result"
    }
   ],
   "source": [
    "raw_train_dataset[5]['label']"
   ]
  },
  {
   "cell_type": "code",
   "execution_count": 10,
   "id": "deae2e7b-b206-4581-bd19-b0163a8b148c",
   "metadata": {},
   "outputs": [
    {
     "data": {
      "text/plain": [
       "5"
      ]
     },
     "execution_count": 10,
     "metadata": {},
     "output_type": "execute_result"
    }
   ],
   "source": [
    "raw_train_dataset[5]['idx']"
   ]
  },
  {
   "cell_type": "code",
   "execution_count": 11,
   "id": "4a4a4b3e-8f67-4460-af26-31da3613d1ec",
   "metadata": {},
   "outputs": [
    {
     "data": {
      "text/plain": [
       "{'sentence': Value(dtype='string', id=None),\n",
       " 'label': ClassLabel(names=['negative', 'positive'], id=None),\n",
       " 'idx': Value(dtype='int32', id=None)}"
      ]
     },
     "execution_count": 11,
     "metadata": {},
     "output_type": "execute_result"
    }
   ],
   "source": [
    "raw_train_dataset.features"
   ]
  },
  {
   "cell_type": "code",
   "execution_count": null,
   "id": "e3dc04b2-e25b-407e-b6e8-3fc617108bcd",
   "metadata": {},
   "outputs": [],
   "source": []
  },
  {
   "cell_type": "markdown",
   "id": "9ffea202-d2c2-4959-b41c-6a2cac2302b7",
   "metadata": {
    "tags": []
   },
   "source": [
    "## 2. Preprocess"
   ]
  },
  {
   "cell_type": "code",
   "execution_count": 12,
   "id": "5072edd0-e19a-4da5-9ae4-dce2dc293203",
   "metadata": {},
   "outputs": [
    {
     "name": "stderr",
     "output_type": "stream",
     "text": [
      "Loading cached processed dataset at C:\\Users\\abhin\\.cache\\huggingface\\datasets\\glue\\sst2\\1.0.0\\dacbe3125aa31d7f70367a07a8a9e72a5a0bfeb5fc42e75c9db75b96da6053ad\\cache-9e04568963b6fccb.arrow\n",
      "Loading cached processed dataset at C:\\Users\\abhin\\.cache\\huggingface\\datasets\\glue\\sst2\\1.0.0\\dacbe3125aa31d7f70367a07a8a9e72a5a0bfeb5fc42e75c9db75b96da6053ad\\cache-5b0467daaa65b6a1.arrow\n",
      "Loading cached processed dataset at C:\\Users\\abhin\\.cache\\huggingface\\datasets\\glue\\sst2\\1.0.0\\dacbe3125aa31d7f70367a07a8a9e72a5a0bfeb5fc42e75c9db75b96da6053ad\\cache-7b5ba03919cd31ae.arrow\n"
     ]
    },
    {
     "data": {
      "text/plain": [
       "DatasetDict({\n",
       "    train: Dataset({\n",
       "        features: ['sentence', 'label', 'idx', 'input_ids', 'attention_mask'],\n",
       "        num_rows: 25000\n",
       "    })\n",
       "    validation: Dataset({\n",
       "        features: ['sentence', 'label', 'idx', 'input_ids', 'attention_mask'],\n",
       "        num_rows: 872\n",
       "    })\n",
       "    test: Dataset({\n",
       "        features: ['sentence', 'label', 'idx', 'input_ids', 'attention_mask'],\n",
       "        num_rows: 5000\n",
       "    })\n",
       "})"
      ]
     },
     "execution_count": 12,
     "metadata": {},
     "output_type": "execute_result"
    }
   ],
   "source": [
    "def tokenize_function(example):\n",
    "    return tokenizer(example[\"sentence\"], truncation=True)\n",
    "\n",
    "tokenized_datasets = raw_datasets.map(tokenize_function, batched=True)\n",
    "tokenized_datasets"
   ]
  },
  {
   "cell_type": "code",
   "execution_count": null,
   "id": "9dd96e0d-dbb2-4db4-8267-35d89b5da98c",
   "metadata": {},
   "outputs": [],
   "source": []
  },
  {
   "cell_type": "markdown",
   "id": "537a5ba6-4b68-482d-b77b-42cdeb614b9c",
   "metadata": {},
   "source": [
    "## 3. Preparing for Training"
   ]
  },
  {
   "cell_type": "code",
   "execution_count": 13,
   "id": "54429299-44f8-4f25-a79a-ab9a567b1785",
   "metadata": {},
   "outputs": [],
   "source": [
    "from transformers import DataCollatorWithPadding\n",
    "\n",
    "data_collator = DataCollatorWithPadding(tokenizer=tokenizer)"
   ]
  },
  {
   "cell_type": "code",
   "execution_count": 14,
   "id": "5de8ca9e-5fda-4027-b9a0-66cdece9b05c",
   "metadata": {},
   "outputs": [
    {
     "data": {
      "text/plain": [
       "['labels', 'input_ids', 'attention_mask']"
      ]
     },
     "execution_count": 14,
     "metadata": {},
     "output_type": "execute_result"
    }
   ],
   "source": [
    "tokenized_datasets = tokenized_datasets.remove_columns([\"sentence\", \"idx\"])\n",
    "tokenized_datasets = tokenized_datasets.rename_column(\"label\", \"labels\")\n",
    "tokenized_datasets.set_format(\"torch\")\n",
    "tokenized_datasets[\"train\"].column_names"
   ]
  },
  {
   "cell_type": "code",
   "execution_count": 15,
   "id": "27307a37-4aba-4a41-87fb-1f33b5aef52c",
   "metadata": {},
   "outputs": [],
   "source": [
    "from torch.utils.data import DataLoader\n",
    "\n",
    "train_dataloader = DataLoader(\n",
    "    tokenized_datasets[\"train\"], shuffle=True, batch_size=20, collate_fn=data_collator\n",
    ")\n",
    "\n",
    "val_dataloader = DataLoader(\n",
    "    tokenized_datasets[\"validation\"], batch_size=20, collate_fn=data_collator\n",
    ")\n",
    "\n",
    "eval_dataloader = DataLoader(\n",
    "    tokenized_datasets[\"test\"], batch_size=20, collate_fn=data_collator\n",
    ")"
   ]
  },
  {
   "cell_type": "code",
   "execution_count": 16,
   "id": "ce54d87a-998f-4d38-b571-9b39d6cac297",
   "metadata": {},
   "outputs": [
    {
     "name": "stderr",
     "output_type": "stream",
     "text": [
      "You're using a DistilBertTokenizerFast tokenizer. Please note that with a fast tokenizer, using the `__call__` method is faster than using a method to encode the text followed by a call to the `pad` method to get a padded encoding.\n"
     ]
    },
    {
     "data": {
      "text/plain": [
       "{'labels': torch.Size([20]),\n",
       " 'input_ids': torch.Size([20, 32]),\n",
       " 'attention_mask': torch.Size([20, 32])}"
      ]
     },
     "execution_count": 16,
     "metadata": {},
     "output_type": "execute_result"
    }
   ],
   "source": [
    "for batch in train_dataloader:\n",
    "    break\n",
    "{k: v.shape for k, v in batch.items()}"
   ]
  },
  {
   "cell_type": "code",
   "execution_count": null,
   "id": "49fda92f-0d5e-45de-bfce-901f12056622",
   "metadata": {},
   "outputs": [],
   "source": []
  },
  {
   "cell_type": "markdown",
   "id": "0d9e743f-7ddb-4c9b-bd82-94439986158d",
   "metadata": {},
   "source": [
    "## 4. Loading \"teacher\" and \"student\" models "
   ]
  },
  {
   "cell_type": "code",
   "execution_count": 17,
   "id": "d9e87a15-0fa5-42f3-af85-fd8d390e4059",
   "metadata": {},
   "outputs": [],
   "source": [
    "# id2label, label2id dicts for the outputs for the model\n",
    "labels = tokenized_datasets[\"train\"].features[\"labels\"].names\n",
    "num_labels = len(labels)\n",
    "label2id, id2label = dict(), dict()\n",
    "for i, label in enumerate(labels):\n",
    "    label2id[label] = str(i)\n",
    "    id2label[str(i)] = label"
   ]
  },
  {
   "cell_type": "code",
   "execution_count": 18,
   "id": "384c8df0-f131-4a9e-8705-65ba2cbfd3b8",
   "metadata": {},
   "outputs": [
    {
     "name": "stderr",
     "output_type": "stream",
     "text": [
      "Some weights of the model checkpoint at distilbert-base-uncased were not used when initializing DistilBertForSequenceClassification: ['vocab_projector.weight', 'vocab_transform.weight', 'vocab_layer_norm.weight', 'vocab_transform.bias', 'vocab_projector.bias', 'vocab_layer_norm.bias']\n",
      "- This IS expected if you are initializing DistilBertForSequenceClassification from the checkpoint of a model trained on another task or with another architecture (e.g. initializing a BertForSequenceClassification model from a BertForPreTraining model).\n",
      "- This IS NOT expected if you are initializing DistilBertForSequenceClassification from the checkpoint of a model that you expect to be exactly identical (initializing a BertForSequenceClassification model from a BertForSequenceClassification model).\n",
      "Some weights of DistilBertForSequenceClassification were not initialized from the model checkpoint at distilbert-base-uncased and are newly initialized: ['classifier.weight', 'pre_classifier.bias', 'pre_classifier.weight', 'classifier.bias']\n",
      "You should probably TRAIN this model on a down-stream task to be able to use it for predictions and inference.\n"
     ]
    }
   ],
   "source": [
    "from transformers import AutoModelForSequenceClassification\n",
    "\n",
    "# teacher model\n",
    "teacher_model = AutoModelForSequenceClassification.from_pretrained(\n",
    "    teacher,\n",
    "    num_labels=num_labels,\n",
    "    id2label=id2label,\n",
    "    label2id=label2id,\n",
    ")\n",
    "\n",
    "# student model\n",
    "student_model = AutoModelForSequenceClassification.from_pretrained(\n",
    "    student,\n",
    "    num_labels=num_labels,\n",
    "    id2label=id2label,\n",
    "    label2id=label2id,\n",
    ")"
   ]
  },
  {
   "cell_type": "code",
   "execution_count": 19,
   "id": "ffa6b3f8-958b-45cc-83bf-7cbc422e295f",
   "metadata": {},
   "outputs": [
    {
     "name": "stdout",
     "output_type": "stream",
     "text": [
      "tensor(0.0046, grad_fn=<NllLossBackward0>) torch.Size([20, 2])\n"
     ]
    }
   ],
   "source": [
    "outputs = teacher_model(**batch)\n",
    "print(outputs.loss, outputs.logits.shape)"
   ]
  },
  {
   "cell_type": "code",
   "execution_count": 20,
   "id": "7a8aa131-1c33-4c4d-8d57-437f40bc4510",
   "metadata": {},
   "outputs": [
    {
     "name": "stdout",
     "output_type": "stream",
     "text": [
      "tensor(0.6541, grad_fn=<NllLossBackward0>) torch.Size([20, 2])\n"
     ]
    }
   ],
   "source": [
    "outputs = student_model(**batch)\n",
    "print(outputs.loss, outputs.logits.shape)"
   ]
  },
  {
   "cell_type": "code",
   "execution_count": 21,
   "id": "6d34a945-4898-47d8-b116-422a33a53864",
   "metadata": {},
   "outputs": [],
   "source": [
    "from torch.optim import AdamW\n",
    "\n",
    "teacher_optimizer = AdamW(teacher_model.parameters(), lr=5e-5)\n",
    "student_optimizer = AdamW(student_model.parameters(), lr=6e-5)"
   ]
  },
  {
   "cell_type": "code",
   "execution_count": 22,
   "id": "cc742035-3aad-4ad0-b413-163544c3cc7f",
   "metadata": {},
   "outputs": [
    {
     "name": "stdout",
     "output_type": "stream",
     "text": [
      "12500\n"
     ]
    }
   ],
   "source": [
    "from transformers import get_scheduler\n",
    "\n",
    "num_epochs = 10\n",
    "num_training_steps = num_epochs * len(train_dataloader)\n",
    "teacher_lr_scheduler = get_scheduler(\n",
    "    \"linear\",\n",
    "    optimizer=teacher_optimizer,\n",
    "    num_warmup_steps=0,\n",
    "    num_training_steps=num_training_steps,\n",
    ")\n",
    "\n",
    "student_lr_scheduler = get_scheduler(\n",
    "    \"linear\",\n",
    "    optimizer=student_optimizer,\n",
    "    num_warmup_steps=0,\n",
    "    num_training_steps=num_training_steps,\n",
    ")\n",
    "print(num_training_steps)"
   ]
  },
  {
   "cell_type": "code",
   "execution_count": null,
   "id": "210103a6-929b-476d-bed6-1963bf13c69d",
   "metadata": {},
   "outputs": [],
   "source": []
  },
  {
   "cell_type": "markdown",
   "id": "4bda2230-bdfb-4271-80b5-b587972ae3d3",
   "metadata": {},
   "source": [
    "## 5. Training Loop"
   ]
  },
  {
   "cell_type": "code",
   "execution_count": 23,
   "id": "68c3f4db-5573-4462-bf87-441d04cc7b95",
   "metadata": {},
   "outputs": [
    {
     "data": {
      "text/plain": [
       "device(type='cuda')"
      ]
     },
     "execution_count": 23,
     "metadata": {},
     "output_type": "execute_result"
    }
   ],
   "source": [
    "import torch\n",
    "\n",
    "device = torch.device(\"cuda\") if torch.cuda.is_available() else torch.device(\"cpu\")\n",
    "teacher_model.to(device)\n",
    "student_model.to(device)\n",
    "device"
   ]
  },
  {
   "cell_type": "code",
   "execution_count": 24,
   "id": "6b194e85-4ef2-40e4-9949-1a9046984e58",
   "metadata": {},
   "outputs": [],
   "source": [
    "import evaluate\n",
    "\n",
    "def eval_loop(model, dataloader):\n",
    "    metric = evaluate.load(\"glue\", \"sst2\")\n",
    "    model.eval()\n",
    "    for batch in dataloader:\n",
    "        batch = {k: v.to(device) for k, v in batch.items()}\n",
    "        with torch.no_grad():\n",
    "            outputs = model(**batch)\n",
    "\n",
    "        model_loss = outputs.loss\n",
    "        logits     = outputs.logits\n",
    "        predictions = torch.argmax(logits, dim=-1)\n",
    "        metric.add_batch(predictions=predictions, references=batch[\"labels\"])\n",
    "        \n",
    "    return metric.compute(), float(model_loss)"
   ]
  },
  {
   "cell_type": "code",
   "execution_count": 25,
   "id": "58623b9b-7d58-48fc-9d60-7bff5421c819",
   "metadata": {},
   "outputs": [],
   "source": [
    "class EarlyStopping():\n",
    "    def __init__(self, patience = 3, threshold = 0.1):\n",
    "        self.patience      = patience\n",
    "        self.threshold     = 0.1\n",
    "        self.prev_val_loss = None\n",
    "        self.patienceCount = 0\n",
    "        \n",
    "    def _checkPatience(self,):\n",
    "        if self.patienceCount == self.patience:\n",
    "            return True\n",
    "        else:\n",
    "            self.patienceCount += 1\n",
    "            return False\n",
    "    \n",
    "    def checkCondition(self, val_loss):\n",
    "        if self.prev_val_loss == None:\n",
    "            self.prev_val_loss = val_loss\n",
    "        elif val_loss - self.prev_val_loss > self.threshold:\n",
    "            return self._checkPatience()\n",
    "        \n",
    "        self.patienceCount = 0\n",
    "        return False"
   ]
  },
  {
   "cell_type": "code",
   "execution_count": 26,
   "id": "a07b3e30-22bb-4c43-b0ed-ae012e6cd9c1",
   "metadata": {},
   "outputs": [
    {
     "data": {
      "application/vnd.jupyter.widget-view+json": {
       "model_id": "290078b732c2458698ce3e1ea35ca54e",
       "version_major": 2,
       "version_minor": 0
      },
      "text/plain": [
       "  0%|          | 0/12500 [00:00<?, ?it/s]"
      ]
     },
     "metadata": {},
     "output_type": "display_data"
    },
    {
     "name": "stdout",
     "output_type": "stream",
     "text": [
      "<----------------- Epoch 1 ----------------->\n",
      "Loss: 0.6, Accuracy: 0.89632\n",
      "Validation Loss: 0.2, Validation Accuracy: 0.8876146788990825\n",
      "Elapsed Time: 143.8589 sec\n",
      "<----------------- Epoch 2 ----------------->\n",
      "Loss: 0.21, Accuracy: 0.9594\n",
      "Validation Loss: 0.07, Validation Accuracy: 0.8967889908256881\n",
      "Elapsed Time: 145.7073 sec\n",
      "<----------------- Epoch 3 ----------------->\n",
      "Loss: 0.12, Accuracy: 0.9738\n",
      "Validation Loss: 0.41, Validation Accuracy: 0.9071100917431193\n",
      "Elapsed Time: 151.6763 sec\n",
      "<----------------- Epoch 4 ----------------->\n",
      "Loss: 0.09, Accuracy: 0.98128\n",
      "Validation Loss: 0.06, Validation Accuracy: 0.9013761467889908\n",
      "Elapsed Time: 150.9574 sec\n",
      "<----------------- Epoch 5 ----------------->\n",
      "Loss: 0.07, Accuracy: 0.98404\n",
      "Validation Loss: 0.43, Validation Accuracy: 0.8990825688073395\n",
      "Elapsed Time: 151.0523 sec\n",
      "<----------------- Epoch 6 ----------------->\n",
      "Loss: 0.05, Accuracy: 0.98728\n",
      "Validation Loss: 0.21, Validation Accuracy: 0.893348623853211\n",
      "Elapsed Time: 150.5342 sec\n",
      "<----------------- Epoch 7 ----------------->\n",
      "Loss: 0.05, Accuracy: 0.98796\n",
      "Validation Loss: 0.39, Validation Accuracy: 0.9025229357798165\n",
      "Elapsed Time: 149.5133 sec\n",
      "<----------------- Epoch 8 ----------------->\n",
      "Loss: 0.04, Accuracy: 0.98856\n",
      "Validation Loss: 0.33, Validation Accuracy: 0.8979357798165137\n",
      "Elapsed Time: 152.0739 sec\n",
      "<----------------- Epoch 9 ----------------->\n",
      "Loss: 0.03, Accuracy: 0.99092\n",
      "Validation Loss: 0.23, Validation Accuracy: 0.9071100917431193\n",
      "Elapsed Time: 149.0472 sec\n",
      "<----------------- Epoch 10 ----------------->\n",
      "Loss: 0.03, Accuracy: 0.99176\n",
      "Validation Loss: 0.22, Validation Accuracy: 0.9071100917431193\n",
      "Elapsed Time: 153.4027 sec\n",
      "Total Training Time: 1497.8247201442719 sec\n"
     ]
    }
   ],
   "source": [
    "import torch.nn as nn\n",
    "import torch.nn.functional as F\n",
    "from tqdm.auto import tqdm\n",
    "import time\n",
    "\n",
    "progress_bar = tqdm(range(num_training_steps))\n",
    "temperature = 4\n",
    "alpha=0.5\n",
    "n_batches = len(train_dataloader)\n",
    "n_val_batches = len(eval_dataloader)\n",
    "\n",
    "train_losses = []\n",
    "train_accs   = []\n",
    "val_losses   = []\n",
    "val_accs     = []\n",
    "\n",
    "time_per_epoch_hist = []\n",
    "\n",
    "teacher_model.eval()\n",
    "train_start = time.time() \n",
    "for epoch in range(num_epochs):\n",
    "    start = time.time()\n",
    "    accuracy_metric = evaluate.load(\"accuracy\")\n",
    "    student_model.train()\n",
    "    \n",
    "    total_loss = 0\n",
    "    val_old_loss = float(\"Inf\")\n",
    "    \n",
    "    earlyStopping = EarlyStopping()\n",
    "    \n",
    "    for b, batch in enumerate(train_dataloader):\n",
    "        batch = {k: v.to(device) for k, v in batch.items()}\n",
    "        \n",
    "        # compute student output\n",
    "        outputs_student = student_model(**batch)\n",
    "        student_loss    = outputs_student.loss\n",
    "        \n",
    "        # for computing training accuracy at the end of epoch\n",
    "        student_logits  = outputs_student.logits\n",
    "        predictions = torch.argmax(student_logits, dim=-1)\n",
    "        accuracy_metric.add_batch(predictions=predictions, references=batch[\"labels\"])\n",
    "        \n",
    "        # compute teacher output\n",
    "        with torch.no_grad():\n",
    "            outputs_teacher = teacher_model(**batch)\n",
    "        \n",
    "        # assert size\n",
    "        assert outputs_student.logits.size() == outputs_teacher.logits.size()\n",
    "        \n",
    "        # compute distillation loss and soften probabilities\n",
    "        loss_function = nn.KLDivLoss(reduction=\"batchmean\")\n",
    "        loss_logits = (loss_function(\n",
    "            F.log_softmax(outputs_student.logits / temperature, dim=-1),\n",
    "            F.softmax(outputs_teacher.logits / temperature, dim=-1)) * (temperature ** 2))\n",
    "        \n",
    "        loss = alpha * student_loss + (1. - alpha) * loss_logits\n",
    "        total_loss += float(loss)\n",
    "        loss.backward()\n",
    "        \n",
    "        student_optimizer.step()\n",
    "        student_lr_scheduler.step()\n",
    "        student_optimizer.zero_grad()\n",
    "        progress_bar.update(1)\n",
    "    \n",
    "    #### training loss and accuracy \n",
    "    avg_train_loss = total_loss / n_batches\n",
    "    train_acc      = accuracy_metric.compute()\n",
    "    train_losses.append(avg_train_loss)\n",
    "    train_accs.append(train_acc['accuracy'])\n",
    "    \n",
    "    #### validation training loss and accuracy \n",
    "    val_acc, val_loss = eval_loop(student_model, val_dataloader)\n",
    "    val_losses.append(val_loss)\n",
    "    val_accs.append(val_acc['accuracy'])\n",
    "    \n",
    "    if val_loss < val_old_loss:\n",
    "        val_old_loss = val_loss\n",
    "        saveObject = {\n",
    "            'epoch': epoch + 1,\n",
    "            'batch': b + 1,\n",
    "            'model_state_dict': student_model.state_dict(),\n",
    "            'optimizer_state_dict': student_optimizer.state_dict(),\n",
    "            'lr_scheduler_state_dict': student_lr_scheduler.state_dict()\n",
    "        }\n",
    "        torch.save(saveObject, './best_weights/KD_student_model.pt')   \n",
    "    \n",
    "    #### Display metrics\n",
    "    print(\"<-----------------\", \"Epoch\", epoch + 1, \"----------------->\")\n",
    "    print(f\"Loss: {round(avg_train_loss, 2)}, Accuracy: {train_acc['accuracy']}\")\n",
    "    print(f\"Validation Loss: {round(val_loss, 2)}, Validation Accuracy: {val_acc['accuracy']}\")\n",
    "    \n",
    "    total_time_per_epoch = time.time() - start\n",
    "    print(\"Elapsed Time:\", round(total_time_per_epoch, 4), \"sec\") \n",
    "    time_per_epoch_hist.append(total_time_per_epoch)\n",
    "    \n",
    "    #### Check early stopping\n",
    "    if earlyStopping.checkCondition(val_loss):\n",
    "        print(\">>>>> Early stoppping callback <<<<<\")\n",
    "        break\n",
    "\n",
    "total_train_time = time.time() - train_start\n",
    "print(\"Total Training Time:\", total_train_time, \"sec\")"
   ]
  },
  {
   "cell_type": "code",
   "execution_count": 27,
   "id": "48b3b585-ca46-4888-9cf9-12ee44f54cd4",
   "metadata": {},
   "outputs": [],
   "source": [
    "saveMetricObject = {\n",
    "    \"train_losses\": train_losses,\n",
    "    \"train_accs\": train_accs,\n",
    "    \"val_losses\": val_losses,\n",
    "    \"val_accs\": val_accs,\n",
    "    \"time_per_epoch_hist\": time_per_epoch_hist,\n",
    "    \"total_train_time\": total_train_time\n",
    "}\n",
    "\n",
    "torch.save(saveMetricObject, './best_weights/KD_training_hist.pt')"
   ]
  },
  {
   "cell_type": "markdown",
   "id": "c7ebcf0d-2357-468d-abfa-7c4964ee278e",
   "metadata": {},
   "source": [
    "### Plotting Loss"
   ]
  },
  {
   "cell_type": "code",
   "execution_count": 28,
   "id": "d9f3c348-9b5d-4231-b2fc-78f8edd16bff",
   "metadata": {},
   "outputs": [],
   "source": [
    "import matplotlib.pyplot as plt"
   ]
  },
  {
   "cell_type": "code",
   "execution_count": 29,
   "id": "b51ca1e7-02a6-4edc-8ea5-1692105c0c37",
   "metadata": {},
   "outputs": [],
   "source": [
    "def plotLoss(trainingLoss, valLoss):\n",
    "    plt.plot(trainingLoss)\n",
    "    plt.plot(valLoss)\n",
    "    plt.xlabel(\"Epoch\")\n",
    "    plt.ylabel(\"Loss\")\n",
    "    plt.legend([\"Training Loss\", \"Val Loss\"])"
   ]
  },
  {
   "cell_type": "code",
   "execution_count": 30,
   "id": "7775baec-d62f-418d-af58-4ad0e5c1f693",
   "metadata": {},
   "outputs": [
    {
     "data": {
      "image/png": "[encoded data removed]",
      "text/plain": [
       "<Figure size 640x480 with 1 Axes>"
      ]
     },
     "metadata": {},
     "output_type": "display_data"
    }
   ],
   "source": [
    "plotLoss(train_losses, val_losses)"
   ]
  },
  {
   "cell_type": "markdown",
   "id": "820da46a-638d-4a9d-ae9c-2a637b7cf2ed",
   "metadata": {},
   "source": [
    "### Plotting Acccuracy"
   ]
  },
  {
   "cell_type": "code",
   "execution_count": 31,
   "id": "f6537219-bfe5-4499-8b25-e79e95675b83",
   "metadata": {},
   "outputs": [],
   "source": [
    "def plotAccuracy(trainingAcc, valAcc):\n",
    "    plt.plot(trainingAcc)\n",
    "    plt.plot(valAcc)\n",
    "    plt.xlabel(\"Epoch\")\n",
    "    plt.ylabel(\"Accuracy (%)\")\n",
    "    plt.legend([\"Training Accuracy\", \"Val Accuracy\"])"
   ]
  },
  {
   "cell_type": "code",
   "execution_count": 32,
   "id": "b87d4838-4bc6-4952-9d51-4b2d1b18955a",
   "metadata": {},
   "outputs": [
    {
     "data": {
      "image/png": "[encoded data removed]",
      "text/plain": [
       "<Figure size 640x480 with 1 Axes>"
      ]
     },
     "metadata": {},
     "output_type": "display_data"
    }
   ],
   "source": [
    "plotAccuracy(train_accs, val_accs)"
   ]
  },
  {
   "cell_type": "markdown",
   "id": "a0c9cd72-a095-48f7-88b9-f0f7952ad199",
   "metadata": {
    "tags": []
   },
   "source": [
    "## 6. Evaluation"
   ]
  },
  {
   "cell_type": "code",
   "execution_count": 33,
   "id": "b9ccccf8-e68c-492b-ad97-33cc0e602d45",
   "metadata": {},
   "outputs": [],
   "source": [
    "best_weight = torch.load('./best_weights/KD_student_model.pt')"
   ]
  },
  {
   "cell_type": "code",
   "execution_count": 34,
   "id": "27f4b95c-ee9c-4bf3-9aeb-7027ab7f9f40",
   "metadata": {},
   "outputs": [
    {
     "data": {
      "text/plain": [
       "<All keys matched successfully>"
      ]
     },
     "execution_count": 34,
     "metadata": {},
     "output_type": "execute_result"
    }
   ],
   "source": [
    "student_model.load_state_dict(best_weight['model_state_dict'])"
   ]
  },
  {
   "cell_type": "markdown",
   "id": "1a64bc25-bec9-4713-9c49-9650c14cbaa1",
   "metadata": {},
   "source": [
    "### Teacher Model Accuracy"
   ]
  },
  {
   "cell_type": "code",
   "execution_count": 36,
   "id": "1c3a242b-0085-44fe-9ef1-ef4bb08fcfe9",
   "metadata": {},
   "outputs": [
    {
     "data": {
      "text/plain": [
       "0.9856"
      ]
     },
     "execution_count": 36,
     "metadata": {},
     "output_type": "execute_result"
    }
   ],
   "source": [
    "eval_loop(teacher_model, eval_dataloader)[0]['accuracy']"
   ]
  },
  {
   "cell_type": "markdown",
   "id": "d778a054-c773-4db2-972f-be18031d5e59",
   "metadata": {},
   "source": [
    "### Student Model Accuracy"
   ]
  },
  {
   "cell_type": "code",
   "execution_count": 35,
   "id": "0c7e0f1e-f2a5-4ac4-97ef-115920ea0877",
   "metadata": {},
   "outputs": [
    {
     "data": {
      "text/plain": [
       "0.946"
      ]
     },
     "execution_count": 35,
     "metadata": {},
     "output_type": "execute_result"
    }
   ],
   "source": [
    "eval_loop(student_model, eval_dataloader)[0]['accuracy']"
   ]
  },
  {
   "cell_type": "code",
   "execution_count": null,
   "id": "e8a4b157-f3b5-4e26-921c-8523a49e27cc",
   "metadata": {},
   "outputs": [],
   "source": []
  }
 ],
 "metadata": {
  "kernelspec": {
   "display_name": "Python 3 (ipykernel)",
   "language": "python",
   "name": "python3"
  },
  "language_info": {
   "codemirror_mode": {
    "name": "ipython",
    "version": 3
   },
   "file_extension": ".py",
   "mimetype": "text/x-python",
   "name": "python",
   "nbconvert_exporter": "python",
   "pygments_lexer": "ipython3",
   "version": "3.9.16"
  }
 },
 "nbformat": 4,
 "nbformat_minor": 5
}

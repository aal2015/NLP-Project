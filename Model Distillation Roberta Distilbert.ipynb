{
 "cells": [
  {
   "cell_type": "markdown",
   "id": "89377c3d-cdd3-418e-b0a1-ad2f2e00b01e",
   "metadata": {
    "tags": []
   },
   "source": [
    "# Model Distillation with Pytorch"
   ]
  },
  {
   "cell_type": "markdown",
   "id": "e2726ec7-c710-4396-afcf-23fbf37153b5",
   "metadata": {},
   "source": [
    "## 0. Choosing our \"teacher\" and \"student\" models"
   ]
  },
  {
   "cell_type": "code",
   "execution_count": 1,
   "id": "09ebf684-a2b5-4cea-9874-1c15559b1269",
   "metadata": {},
   "outputs": [],
   "source": [
    "student = \"distilbert-base-uncased\"\n",
    "teacher = \"roberta-base\""
   ]
  },
  {
   "cell_type": "markdown",
   "id": "f49006e9-c70e-4ec0-a30a-c835de9775db",
   "metadata": {
    "id": "Mxo4XGgRgQhO"
   },
   "source": [
    "## 1. Loading our SST-2 part of the GLUE dataset"
   ]
  },
  {
   "cell_type": "code",
   "execution_count": 2,
   "id": "216e1e7d-2cdc-4787-a5b9-7d89d0fd5994",
   "metadata": {},
   "outputs": [
    {
     "name": "stderr",
     "output_type": "stream",
     "text": [
      "Found cached dataset glue (C:/Users/abhin/.cache/huggingface/datasets/glue/sst2/1.0.0/dacbe3125aa31d7f70367a07a8a9e72a5a0bfeb5fc42e75c9db75b96da6053ad)\n"
     ]
    },
    {
     "data": {
      "application/vnd.jupyter.widget-view+json": {
       "model_id": "5045403395814f0fb5c1bb68053cc1f3",
       "version_major": 2,
       "version_minor": 0
      },
      "text/plain": [
       "  0%|          | 0/3 [00:00<?, ?it/s]"
      ]
     },
     "metadata": {},
     "output_type": "display_data"
    }
   ],
   "source": [
    "from datasets import load_dataset\n",
    "from transformers import AutoTokenizer, DataCollatorWithPadding\n",
    "\n",
    "raw_datasets = load_dataset(\"glue\", \"sst2\", split=[\"train[:30000]\", \"validation\", \"train[60000:62000]\"])\n",
    "bert_tokenizer    = AutoTokenizer.from_pretrained(\"distilbert-base-uncased\")\n",
    "roberta_tokenizer = AutoTokenizer.from_pretrained(\"roberta-base\")"
   ]
  },
  {
   "cell_type": "code",
   "execution_count": 3,
   "id": "de4951c3-ce62-4c0d-adfa-3bcca4041542",
   "metadata": {},
   "outputs": [
    {
     "data": {
      "text/plain": [
       "[Dataset({\n",
       "     features: ['sentence', 'label', 'idx'],\n",
       "     num_rows: 30000\n",
       " }),\n",
       " Dataset({\n",
       "     features: ['sentence', 'label', 'idx'],\n",
       "     num_rows: 872\n",
       " }),\n",
       " Dataset({\n",
       "     features: ['sentence', 'label', 'idx'],\n",
       "     num_rows: 2000\n",
       " })]"
      ]
     },
     "execution_count": 3,
     "metadata": {},
     "output_type": "execute_result"
    }
   ],
   "source": [
    "raw_datasets"
   ]
  },
  {
   "cell_type": "code",
   "execution_count": 4,
   "id": "3ec65f26-18b3-4bc8-9669-6c45c365275e",
   "metadata": {},
   "outputs": [],
   "source": [
    "from datasets import DatasetDict"
   ]
  },
  {
   "cell_type": "code",
   "execution_count": 5,
   "id": "815b789a-eda4-47a9-a70b-4fd8fcc93639",
   "metadata": {},
   "outputs": [],
   "source": [
    "raw_datasets = DatasetDict({\n",
    "    \"train\": raw_datasets[0],\n",
    "    \"validation\": raw_datasets[1],\n",
    "    \"test\": raw_datasets[2]\n",
    "})"
   ]
  },
  {
   "cell_type": "code",
   "execution_count": 6,
   "id": "4c32b53f-580d-4311-a31d-e73a94cef92f",
   "metadata": {},
   "outputs": [
    {
     "data": {
      "text/plain": [
       "DatasetDict({\n",
       "    train: Dataset({\n",
       "        features: ['sentence', 'label', 'idx'],\n",
       "        num_rows: 30000\n",
       "    })\n",
       "    validation: Dataset({\n",
       "        features: ['sentence', 'label', 'idx'],\n",
       "        num_rows: 872\n",
       "    })\n",
       "    test: Dataset({\n",
       "        features: ['sentence', 'label', 'idx'],\n",
       "        num_rows: 2000\n",
       "    })\n",
       "})"
      ]
     },
     "execution_count": 6,
     "metadata": {},
     "output_type": "execute_result"
    }
   ],
   "source": [
    "raw_datasets"
   ]
  },
  {
   "cell_type": "code",
   "execution_count": 7,
   "id": "8ede3ae7-8540-4efd-8573-13c258b777fd",
   "metadata": {},
   "outputs": [
    {
     "data": {
      "text/plain": [
       "{'sentence': 'hide new secretions from the parental units ',\n",
       " 'label': 0,\n",
       " 'idx': 0}"
      ]
     },
     "execution_count": 7,
     "metadata": {},
     "output_type": "execute_result"
    }
   ],
   "source": [
    "raw_train_dataset = raw_datasets[\"train\"]\n",
    "raw_train_dataset[0]"
   ]
  },
  {
   "cell_type": "code",
   "execution_count": 8,
   "id": "095b1c77-e90d-4da5-880c-a4eac79217f9",
   "metadata": {},
   "outputs": [
    {
     "data": {
      "text/plain": [
       "\"that 's far too tragic to merit such superficial treatment \""
      ]
     },
     "execution_count": 8,
     "metadata": {},
     "output_type": "execute_result"
    }
   ],
   "source": [
    "raw_train_dataset[5]['sentence']"
   ]
  },
  {
   "cell_type": "code",
   "execution_count": 9,
   "id": "1b2a4f3f-d00a-4967-92aa-145b72b983fa",
   "metadata": {},
   "outputs": [
    {
     "data": {
      "text/plain": [
       "0"
      ]
     },
     "execution_count": 9,
     "metadata": {},
     "output_type": "execute_result"
    }
   ],
   "source": [
    "raw_train_dataset[5]['label']"
   ]
  },
  {
   "cell_type": "code",
   "execution_count": 10,
   "id": "deae2e7b-b206-4581-bd19-b0163a8b148c",
   "metadata": {},
   "outputs": [
    {
     "data": {
      "text/plain": [
       "5"
      ]
     },
     "execution_count": 10,
     "metadata": {},
     "output_type": "execute_result"
    }
   ],
   "source": [
    "raw_train_dataset[5]['idx']"
   ]
  },
  {
   "cell_type": "code",
   "execution_count": 11,
   "id": "4a4a4b3e-8f67-4460-af26-31da3613d1ec",
   "metadata": {},
   "outputs": [
    {
     "data": {
      "text/plain": [
       "{'sentence': Value(dtype='string', id=None),\n",
       " 'label': ClassLabel(names=['negative', 'positive'], id=None),\n",
       " 'idx': Value(dtype='int32', id=None)}"
      ]
     },
     "execution_count": 11,
     "metadata": {},
     "output_type": "execute_result"
    }
   ],
   "source": [
    "raw_train_dataset.features"
   ]
  },
  {
   "cell_type": "code",
   "execution_count": null,
   "id": "e3dc04b2-e25b-407e-b6e8-3fc617108bcd",
   "metadata": {},
   "outputs": [],
   "source": []
  },
  {
   "cell_type": "markdown",
   "id": "9ffea202-d2c2-4959-b41c-6a2cac2302b7",
   "metadata": {
    "tags": []
   },
   "source": [
    "## 2. Preprocess"
   ]
  },
  {
   "cell_type": "code",
   "execution_count": 12,
   "id": "5072edd0-e19a-4da5-9ae4-dce2dc293203",
   "metadata": {},
   "outputs": [
    {
     "name": "stderr",
     "output_type": "stream",
     "text": [
      "Loading cached processed dataset at C:\\Users\\abhin\\.cache\\huggingface\\datasets\\glue\\sst2\\1.0.0\\dacbe3125aa31d7f70367a07a8a9e72a5a0bfeb5fc42e75c9db75b96da6053ad\\cache-bcec75499dbbfbe0.arrow\n",
      "Loading cached processed dataset at C:\\Users\\abhin\\.cache\\huggingface\\datasets\\glue\\sst2\\1.0.0\\dacbe3125aa31d7f70367a07a8a9e72a5a0bfeb5fc42e75c9db75b96da6053ad\\cache-e07210e1dc5385ce.arrow\n",
      "Loading cached processed dataset at C:\\Users\\abhin\\.cache\\huggingface\\datasets\\glue\\sst2\\1.0.0\\dacbe3125aa31d7f70367a07a8a9e72a5a0bfeb5fc42e75c9db75b96da6053ad\\cache-8d5efb1b02ba6ccf.arrow\n",
      "Loading cached processed dataset at C:\\Users\\abhin\\.cache\\huggingface\\datasets\\glue\\sst2\\1.0.0\\dacbe3125aa31d7f70367a07a8a9e72a5a0bfeb5fc42e75c9db75b96da6053ad\\cache-672fe29dbcb5112e.arrow\n",
      "Loading cached processed dataset at C:\\Users\\abhin\\.cache\\huggingface\\datasets\\glue\\sst2\\1.0.0\\dacbe3125aa31d7f70367a07a8a9e72a5a0bfeb5fc42e75c9db75b96da6053ad\\cache-4b8bc7ab2cdb38cc.arrow\n",
      "Loading cached processed dataset at C:\\Users\\abhin\\.cache\\huggingface\\datasets\\glue\\sst2\\1.0.0\\dacbe3125aa31d7f70367a07a8a9e72a5a0bfeb5fc42e75c9db75b96da6053ad\\cache-ab5c6e92c61d4251.arrow\n"
     ]
    },
    {
     "data": {
      "text/plain": [
       "(DatasetDict({\n",
       "     train: Dataset({\n",
       "         features: ['sentence', 'label', 'idx', 'input_ids', 'attention_mask'],\n",
       "         num_rows: 30000\n",
       "     })\n",
       "     validation: Dataset({\n",
       "         features: ['sentence', 'label', 'idx', 'input_ids', 'attention_mask'],\n",
       "         num_rows: 872\n",
       "     })\n",
       "     test: Dataset({\n",
       "         features: ['sentence', 'label', 'idx', 'input_ids', 'attention_mask'],\n",
       "         num_rows: 2000\n",
       "     })\n",
       " }),\n",
       " DatasetDict({\n",
       "     train: Dataset({\n",
       "         features: ['sentence', 'label', 'idx', 'input_ids', 'attention_mask'],\n",
       "         num_rows: 30000\n",
       "     })\n",
       "     validation: Dataset({\n",
       "         features: ['sentence', 'label', 'idx', 'input_ids', 'attention_mask'],\n",
       "         num_rows: 872\n",
       "     })\n",
       "     test: Dataset({\n",
       "         features: ['sentence', 'label', 'idx', 'input_ids', 'attention_mask'],\n",
       "         num_rows: 2000\n",
       "     })\n",
       " }))"
      ]
     },
     "execution_count": 12,
     "metadata": {},
     "output_type": "execute_result"
    }
   ],
   "source": [
    "def bert_tokenize_function(example):\n",
    "    return bert_tokenizer(example[\"sentence\"], truncation=True)\n",
    "\n",
    "def roberta_tokenize_function(example):\n",
    "    return roberta_tokenizer(example[\"sentence\"], truncation=True)\n",
    "\n",
    "bert_tokenized_datasets    = raw_datasets.map(bert_tokenize_function, batched=True)\n",
    "roberta_tokenized_datasets = raw_datasets.map(roberta_tokenize_function, batched=True)\n",
    "\n",
    "bert_tokenized_datasets, roberta_tokenized_datasets"
   ]
  },
  {
   "cell_type": "code",
   "execution_count": null,
   "id": "9dd96e0d-dbb2-4db4-8267-35d89b5da98c",
   "metadata": {},
   "outputs": [],
   "source": []
  },
  {
   "cell_type": "markdown",
   "id": "537a5ba6-4b68-482d-b77b-42cdeb614b9c",
   "metadata": {},
   "source": [
    "## 3. Preparing for Training"
   ]
  },
  {
   "cell_type": "code",
   "execution_count": 13,
   "id": "54429299-44f8-4f25-a79a-ab9a567b1785",
   "metadata": {},
   "outputs": [],
   "source": [
    "from transformers import DataCollatorWithPadding\n",
    "\n",
    "bert_data_collator    = DataCollatorWithPadding(tokenizer=bert_tokenizer)\n",
    "roberta_data_collator = DataCollatorWithPadding(tokenizer=roberta_tokenizer)"
   ]
  },
  {
   "cell_type": "code",
   "execution_count": 14,
   "id": "5de8ca9e-5fda-4027-b9a0-66cdece9b05c",
   "metadata": {},
   "outputs": [
    {
     "data": {
      "text/plain": [
       "['labels', 'input_ids', 'attention_mask']"
      ]
     },
     "execution_count": 14,
     "metadata": {},
     "output_type": "execute_result"
    }
   ],
   "source": [
    "bert_tokenized_datasets = bert_tokenized_datasets.remove_columns([\"sentence\", \"idx\"])\n",
    "bert_tokenized_datasets = bert_tokenized_datasets.rename_column(\"label\", \"labels\")\n",
    "bert_tokenized_datasets.set_format(\"torch\")\n",
    "bert_tokenized_datasets[\"test\"].column_names"
   ]
  },
  {
   "cell_type": "code",
   "execution_count": 15,
   "id": "e4f3ddc2-456f-4274-b77e-43f145f265f0",
   "metadata": {},
   "outputs": [
    {
     "data": {
      "text/plain": [
       "['labels', 'input_ids', 'attention_mask']"
      ]
     },
     "execution_count": 15,
     "metadata": {},
     "output_type": "execute_result"
    }
   ],
   "source": [
    "roberta_tokenized_datasets = roberta_tokenized_datasets.remove_columns([\"sentence\", \"idx\"])\n",
    "roberta_tokenized_datasets = roberta_tokenized_datasets.rename_column(\"label\", \"labels\")\n",
    "roberta_tokenized_datasets.set_format(\"torch\")\n",
    "roberta_tokenized_datasets[\"test\"].column_names"
   ]
  },
  {
   "cell_type": "code",
   "execution_count": 16,
   "id": "27307a37-4aba-4a41-87fb-1f33b5aef52c",
   "metadata": {},
   "outputs": [],
   "source": [
    "from torch.utils.data import DataLoader\n",
    "\n",
    "bert_train_dataloader = DataLoader(\n",
    "    bert_tokenized_datasets[\"train\"], shuffle=True, batch_size=20, collate_fn=bert_data_collator\n",
    ")\n",
    "\n",
    "bert_val_dataloader = DataLoader(\n",
    "    bert_tokenized_datasets[\"validation\"], batch_size=20, collate_fn=bert_data_collator\n",
    ")\n",
    "\n",
    "bert_eval_dataloader = DataLoader(\n",
    "    bert_tokenized_datasets[\"test\"], batch_size=20, collate_fn=bert_data_collator\n",
    ")"
   ]
  },
  {
   "cell_type": "code",
   "execution_count": 17,
   "id": "0aacdc78-9511-4e52-801d-464a650e1898",
   "metadata": {},
   "outputs": [],
   "source": [
    "roberta_train_dataloader = DataLoader(\n",
    "    roberta_tokenized_datasets[\"train\"], shuffle=True, batch_size=20, collate_fn=roberta_data_collator\n",
    ")\n",
    "\n",
    "roberta_eval_dataloader = DataLoader(\n",
    "    roberta_tokenized_datasets[\"test\"], batch_size=20, collate_fn=roberta_data_collator\n",
    ")"
   ]
  },
  {
   "cell_type": "code",
   "execution_count": 18,
   "id": "ce54d87a-998f-4d38-b571-9b39d6cac297",
   "metadata": {},
   "outputs": [
    {
     "name": "stderr",
     "output_type": "stream",
     "text": [
      "You're using a DistilBertTokenizerFast tokenizer. Please note that with a fast tokenizer, using the `__call__` method is faster than using a method to encode the text followed by a call to the `pad` method to get a padded encoding.\n"
     ]
    },
    {
     "data": {
      "text/plain": [
       "{'labels': torch.Size([20]),\n",
       " 'input_ids': torch.Size([20, 39]),\n",
       " 'attention_mask': torch.Size([20, 39])}"
      ]
     },
     "execution_count": 18,
     "metadata": {},
     "output_type": "execute_result"
    }
   ],
   "source": [
    "for batch in bert_train_dataloader:\n",
    "    break\n",
    "{k: v.shape for k, v in batch.items()}"
   ]
  },
  {
   "cell_type": "code",
   "execution_count": null,
   "id": "49fda92f-0d5e-45de-bfce-901f12056622",
   "metadata": {},
   "outputs": [],
   "source": []
  },
  {
   "cell_type": "markdown",
   "id": "0d9e743f-7ddb-4c9b-bd82-94439986158d",
   "metadata": {},
   "source": [
    "## 4. Loading \"teacher\" and \"student\" models "
   ]
  },
  {
   "cell_type": "code",
   "execution_count": 19,
   "id": "d9e87a15-0fa5-42f3-af85-fd8d390e4059",
   "metadata": {},
   "outputs": [],
   "source": [
    "# id2label, label2id dicts for the outputs for the model\n",
    "labels = bert_tokenized_datasets[\"train\"].features[\"labels\"].names\n",
    "num_labels = len(labels)\n",
    "label2id, id2label = dict(), dict()\n",
    "for i, label in enumerate(labels):\n",
    "    label2id[label] = str(i)\n",
    "    id2label[str(i)] = label"
   ]
  },
  {
   "cell_type": "code",
   "execution_count": 20,
   "id": "384c8df0-f131-4a9e-8705-65ba2cbfd3b8",
   "metadata": {},
   "outputs": [
    {
     "name": "stderr",
     "output_type": "stream",
     "text": [
      "Some weights of the model checkpoint at roberta-base were not used when initializing RobertaForSequenceClassification: ['lm_head.layer_norm.bias', 'lm_head.decoder.weight', 'lm_head.dense.bias', 'lm_head.dense.weight', 'lm_head.layer_norm.weight', 'roberta.pooler.dense.weight', 'roberta.pooler.dense.bias', 'lm_head.bias']\n",
      "- This IS expected if you are initializing RobertaForSequenceClassification from the checkpoint of a model trained on another task or with another architecture (e.g. initializing a BertForSequenceClassification model from a BertForPreTraining model).\n",
      "- This IS NOT expected if you are initializing RobertaForSequenceClassification from the checkpoint of a model that you expect to be exactly identical (initializing a BertForSequenceClassification model from a BertForSequenceClassification model).\n",
      "Some weights of RobertaForSequenceClassification were not initialized from the model checkpoint at roberta-base and are newly initialized: ['classifier.out_proj.bias', 'classifier.out_proj.weight', 'classifier.dense.weight', 'classifier.dense.bias']\n",
      "You should probably TRAIN this model on a down-stream task to be able to use it for predictions and inference.\n",
      "Some weights of the model checkpoint at distilbert-base-uncased were not used when initializing DistilBertForSequenceClassification: ['vocab_layer_norm.weight', 'vocab_transform.bias', 'vocab_layer_norm.bias', 'vocab_projector.weight', 'vocab_transform.weight', 'vocab_projector.bias']\n",
      "- This IS expected if you are initializing DistilBertForSequenceClassification from the checkpoint of a model trained on another task or with another architecture (e.g. initializing a BertForSequenceClassification model from a BertForPreTraining model).\n",
      "- This IS NOT expected if you are initializing DistilBertForSequenceClassification from the checkpoint of a model that you expect to be exactly identical (initializing a BertForSequenceClassification model from a BertForSequenceClassification model).\n",
      "Some weights of DistilBertForSequenceClassification were not initialized from the model checkpoint at distilbert-base-uncased and are newly initialized: ['pre_classifier.weight', 'pre_classifier.bias', 'classifier.bias', 'classifier.weight']\n",
      "You should probably TRAIN this model on a down-stream task to be able to use it for predictions and inference.\n"
     ]
    }
   ],
   "source": [
    "from transformers import AutoModelForSequenceClassification\n",
    "\n",
    "# teacher model\n",
    "teacher_model = AutoModelForSequenceClassification.from_pretrained(\n",
    "    teacher,\n",
    "    num_labels=num_labels,\n",
    "    id2label=id2label,\n",
    "    label2id=label2id,\n",
    ")\n",
    "\n",
    "# student model\n",
    "student_model = AutoModelForSequenceClassification.from_pretrained(\n",
    "    student,\n",
    "    num_labels=num_labels,\n",
    "    id2label=id2label,\n",
    "    label2id=label2id,\n",
    ")"
   ]
  },
  {
   "cell_type": "code",
   "execution_count": 21,
   "id": "941dc8f5-0841-4fa9-bd19-6f25cb9a8f30",
   "metadata": {},
   "outputs": [],
   "source": [
    "import torch \n",
    "\n",
    "best_teacher_weight = torch.load('./teacher-best_weight/roberta-base-SST-2.pt')"
   ]
  },
  {
   "cell_type": "code",
   "execution_count": 22,
   "id": "11ba4343-43a6-4d16-b7a9-08f56fa1c1ad",
   "metadata": {},
   "outputs": [
    {
     "data": {
      "text/plain": [
       "<All keys matched successfully>"
      ]
     },
     "execution_count": 22,
     "metadata": {},
     "output_type": "execute_result"
    }
   ],
   "source": [
    "teacher_model.load_state_dict(best_teacher_weight['model_state_dict'])"
   ]
  },
  {
   "cell_type": "code",
   "execution_count": 23,
   "id": "ffa6b3f8-958b-45cc-83bf-7cbc422e295f",
   "metadata": {},
   "outputs": [
    {
     "name": "stdout",
     "output_type": "stream",
     "text": [
      "tensor(3.5244, grad_fn=<NllLossBackward0>) torch.Size([20, 2])\n"
     ]
    }
   ],
   "source": [
    "outputs = teacher_model(**batch)\n",
    "print(outputs.loss, outputs.logits.shape)"
   ]
  },
  {
   "cell_type": "code",
   "execution_count": 24,
   "id": "7a8aa131-1c33-4c4d-8d57-437f40bc4510",
   "metadata": {},
   "outputs": [
    {
     "name": "stdout",
     "output_type": "stream",
     "text": [
      "tensor(0.7373, grad_fn=<NllLossBackward0>) torch.Size([20, 2])\n"
     ]
    }
   ],
   "source": [
    "outputs = student_model(**batch)\n",
    "print(outputs.loss, outputs.logits.shape)"
   ]
  },
  {
   "cell_type": "code",
   "execution_count": 25,
   "id": "6d34a945-4898-47d8-b116-422a33a53864",
   "metadata": {},
   "outputs": [],
   "source": [
    "from torch.optim import AdamW\n",
    "\n",
    "teacher_optimizer = AdamW(teacher_model.parameters(), lr=5e-5)\n",
    "student_optimizer = AdamW(student_model.parameters(), lr=6e-5)"
   ]
  },
  {
   "cell_type": "code",
   "execution_count": 26,
   "id": "cc742035-3aad-4ad0-b413-163544c3cc7f",
   "metadata": {},
   "outputs": [
    {
     "name": "stdout",
     "output_type": "stream",
     "text": [
      "15000\n"
     ]
    }
   ],
   "source": [
    "from transformers import get_scheduler\n",
    "\n",
    "num_epochs = 10\n",
    "num_training_steps = num_epochs * len(bert_train_dataloader)\n",
    "teacher_lr_scheduler = get_scheduler(\n",
    "    \"linear\",\n",
    "    optimizer=teacher_optimizer,\n",
    "    num_warmup_steps=0,\n",
    "    num_training_steps=num_training_steps,\n",
    ")\n",
    "\n",
    "student_lr_scheduler = get_scheduler(\n",
    "    \"linear\",\n",
    "    optimizer=student_optimizer,\n",
    "    num_warmup_steps=0,\n",
    "    num_training_steps=num_training_steps,\n",
    ")\n",
    "print(num_training_steps)"
   ]
  },
  {
   "cell_type": "code",
   "execution_count": null,
   "id": "d49be757-bb30-422d-a492-67a0cd360c91",
   "metadata": {},
   "outputs": [],
   "source": []
  },
  {
   "cell_type": "markdown",
   "id": "4bda2230-bdfb-4271-80b5-b587972ae3d3",
   "metadata": {},
   "source": [
    "## 5. Training Loop"
   ]
  },
  {
   "cell_type": "code",
   "execution_count": 27,
   "id": "68c3f4db-5573-4462-bf87-441d04cc7b95",
   "metadata": {},
   "outputs": [
    {
     "data": {
      "text/plain": [
       "device(type='cuda')"
      ]
     },
     "execution_count": 27,
     "metadata": {},
     "output_type": "execute_result"
    }
   ],
   "source": [
    "import torch\n",
    "\n",
    "device = torch.device(\"cuda\") if torch.cuda.is_available() else torch.device(\"cpu\")\n",
    "teacher_model.to(device)\n",
    "student_model.to(device)\n",
    "device"
   ]
  },
  {
   "cell_type": "code",
   "execution_count": 28,
   "id": "6b194e85-4ef2-40e4-9949-1a9046984e58",
   "metadata": {},
   "outputs": [],
   "source": [
    "import evaluate\n",
    "\n",
    "def eval_loop(model, dataloader):\n",
    "    metric = evaluate.load(\"glue\", \"sst2\")\n",
    "    model.eval()\n",
    "    for batch in dataloader:\n",
    "        batch = {k: v.to(device) for k, v in batch.items()}\n",
    "        with torch.no_grad():\n",
    "            outputs = model(**batch)\n",
    "\n",
    "        model_loss = outputs.loss\n",
    "        logits     = outputs.logits\n",
    "        predictions = torch.argmax(logits, dim=-1)\n",
    "        metric.add_batch(predictions=predictions, references=batch[\"labels\"])\n",
    "        \n",
    "    return metric.compute(), float(model_loss)"
   ]
  },
  {
   "cell_type": "code",
   "execution_count": 29,
   "id": "58623b9b-7d58-48fc-9d60-7bff5421c819",
   "metadata": {},
   "outputs": [],
   "source": [
    "class EarlyStopping():\n",
    "    def __init__(self, patience = 3, threshold = 0.1):\n",
    "        self.patience      = patience\n",
    "        self.threshold     = threshold\n",
    "        self.prev_val_loss = None\n",
    "        self.patienceCount = 0\n",
    "        \n",
    "    def _checkPatience(self,):\n",
    "        if self.patienceCount == self.patience:\n",
    "            return True\n",
    "        else:\n",
    "            self.patienceCount += 1\n",
    "            return False\n",
    "    \n",
    "    def checkCondition(self, val_loss):\n",
    "        if self.prev_val_loss == None:\n",
    "            self.prev_val_loss = val_loss\n",
    "        elif val_loss - self.prev_val_loss > self.threshold:\n",
    "            return self._checkPatience()\n",
    "        \n",
    "        self.patienceCount = 0\n",
    "        return False"
   ]
  },
  {
   "cell_type": "code",
   "execution_count": 30,
   "id": "a07b3e30-22bb-4c43-b0ed-ae012e6cd9c1",
   "metadata": {},
   "outputs": [
    {
     "data": {
      "application/vnd.jupyter.widget-view+json": {
       "model_id": "cdad1c615c7243c78768806531047317",
       "version_major": 2,
       "version_minor": 0
      },
      "text/plain": [
       "  0%|          | 0/15000 [00:00<?, ?it/s]"
      ]
     },
     "metadata": {},
     "output_type": "display_data"
    },
    {
     "name": "stderr",
     "output_type": "stream",
     "text": [
      "You're using a RobertaTokenizerFast tokenizer. Please note that with a fast tokenizer, using the `__call__` method is faster than using a method to encode the text followed by a call to the `pad` method to get a padded encoding.\n"
     ]
    },
    {
     "name": "stdout",
     "output_type": "stream",
     "text": [
      "<----------------- Epoch 1 ----------------->\n",
      "Loss: 3.44, Accuracy: 0.4997333333333333\n",
      "Validation Loss: 0.59, Validation Accuracy: 0.7912844036697247\n",
      "Elapsed Time: 172.8103 sec\n",
      "<----------------- Epoch 2 ----------------->\n",
      "Loss: 3.43, Accuracy: 0.49996666666666667\n",
      "Validation Loss: 0.72, Validation Accuracy: 0.7798165137614679\n",
      "Elapsed Time: 175.4033 sec\n",
      "<----------------- Epoch 3 ----------------->\n",
      "Loss: 3.42, Accuracy: 0.4908\n",
      "Validation Loss: 0.66, Validation Accuracy: 0.7844036697247706\n",
      "Elapsed Time: 178.2724 sec\n",
      "<----------------- Epoch 4 ----------------->\n",
      "Loss: 3.42, Accuracy: 0.503\n",
      "Validation Loss: 0.66, Validation Accuracy: 0.7603211009174312\n",
      "Elapsed Time: 179.598 sec\n",
      "<----------------- Epoch 5 ----------------->\n",
      "Loss: 3.41, Accuracy: 0.4984\n",
      "Validation Loss: 0.72, Validation Accuracy: 0.6089449541284404\n",
      "Elapsed Time: 177.8151 sec\n",
      "<----------------- Epoch 6 ----------------->\n",
      "Loss: 3.41, Accuracy: 0.4963666666666667\n",
      "Validation Loss: 0.7, Validation Accuracy: 0.8119266055045872\n",
      "Elapsed Time: 179.1635 sec\n",
      "<----------------- Epoch 7 ----------------->\n",
      "Loss: 3.41, Accuracy: 0.5037333333333334\n",
      "Validation Loss: 0.65, Validation Accuracy: 0.7855504587155964\n",
      "Elapsed Time: 192.554 sec\n",
      "<----------------- Epoch 8 ----------------->\n",
      "Loss: 3.39, Accuracy: 0.4999\n",
      "Validation Loss: 0.68, Validation Accuracy: 0.8130733944954128\n",
      "Elapsed Time: 190.3 sec\n",
      "<----------------- Epoch 9 ----------------->\n",
      "Loss: 3.4, Accuracy: 0.5013\n",
      "Validation Loss: 0.62, Validation Accuracy: 0.8509174311926605\n",
      "Elapsed Time: 179.7249 sec\n",
      "<----------------- Epoch 10 ----------------->\n",
      "Loss: 3.39, Accuracy: 0.49883333333333335\n",
      "Validation Loss: 0.62, Validation Accuracy: 0.8325688073394495\n",
      "Elapsed Time: 179.6145 sec\n",
      "Total Training Time: 1805.2561814785004 sec\n"
     ]
    }
   ],
   "source": [
    "import torch.nn as nn\n",
    "import torch.nn.functional as F\n",
    "from tqdm.auto import tqdm\n",
    "import time\n",
    "\n",
    "progress_bar = tqdm(range(num_training_steps))\n",
    "temperature = 4\n",
    "alpha=0.5\n",
    "n_batches = len(bert_train_dataloader)\n",
    "\n",
    "train_losses = []\n",
    "train_accs   = []\n",
    "val_losses   = []\n",
    "val_accs     = []\n",
    "\n",
    "time_per_epoch_hist = []\n",
    "\n",
    "teacher_model.eval()\n",
    "train_start = time.time() \n",
    "for epoch in range(num_epochs):\n",
    "    start = time.time()\n",
    "    accuracy_metric = evaluate.load(\"accuracy\")\n",
    "    student_model.train()\n",
    "    \n",
    "    total_loss = 0\n",
    "    val_old_loss = float(\"Inf\")\n",
    "    \n",
    "    earlyStopping = EarlyStopping()\n",
    "    \n",
    "    ## b_batch --> data tokenized using Bert tokenizer\n",
    "    ## r_batch --> data tokenized using Roberta tokenizer\n",
    "    for b, (b_batch, r_batch) in enumerate(zip(bert_train_dataloader, roberta_train_dataloader)):\n",
    "        b_batch = {k: v.to(device) for k, v in b_batch.items()}\n",
    "        r_batch = {k: v.to(device) for k, v in r_batch.items()}\n",
    "        \n",
    "        # compute student output\n",
    "        outputs_student = student_model(**b_batch)\n",
    "        student_loss    = outputs_student.loss\n",
    "        \n",
    "        # for computing training accuracy at the end of epoch\n",
    "        student_logits  = outputs_student.logits\n",
    "        predictions = torch.argmax(student_logits, dim=-1)\n",
    "        accuracy_metric.add_batch(predictions=predictions, references=batch[\"labels\"])\n",
    "        \n",
    "        # compute teacher output\n",
    "        with torch.no_grad():\n",
    "            outputs_teacher = teacher_model(**r_batch)\n",
    "        \n",
    "        # assert size\n",
    "        assert outputs_student.logits.size() == outputs_teacher.logits.size()\n",
    "        \n",
    "        # compute distillation loss and soften probabilities\n",
    "        loss_function = nn.KLDivLoss(reduction=\"batchmean\")\n",
    "        loss_logits = (loss_function(\n",
    "            F.log_softmax(outputs_student.logits / temperature, dim=-1),\n",
    "            F.softmax(outputs_teacher.logits / temperature, dim=-1)) * (temperature ** 2))\n",
    "        \n",
    "        loss = alpha * student_loss + (1. - alpha) * loss_logits\n",
    "        total_loss += float(loss)\n",
    "        loss.backward()\n",
    "        \n",
    "        student_optimizer.step()\n",
    "        student_lr_scheduler.step()\n",
    "        student_optimizer.zero_grad()\n",
    "        progress_bar.update(1)\n",
    "    \n",
    "    #### training loss and accuracy \n",
    "    avg_train_loss = total_loss / n_batches\n",
    "    train_acc      = accuracy_metric.compute()\n",
    "    train_losses.append(avg_train_loss)\n",
    "    train_accs.append(train_acc['accuracy'])\n",
    "    \n",
    "    #### validation training loss and accuracy \n",
    "    val_acc, val_loss = eval_loop(student_model, bert_val_dataloader)\n",
    "    val_losses.append(val_loss)\n",
    "    val_accs.append(val_acc['accuracy'])\n",
    "    \n",
    "    if val_loss < val_old_loss:\n",
    "        val_old_loss = val_loss\n",
    "        saveObject = {\n",
    "            'epoch': epoch + 1,\n",
    "            'batch': b + 1,\n",
    "            'model_state_dict': student_model.state_dict(),\n",
    "            'optimizer_state_dict': student_optimizer.state_dict(),\n",
    "            'lr_scheduler_state_dict': student_lr_scheduler.state_dict()\n",
    "        }\n",
    "        torch.save(saveObject, './best_weights/KD_roberta_distilbert_model.pt')   \n",
    "    \n",
    "    #### Display metrics\n",
    "    print(\"<-----------------\", \"Epoch\", epoch + 1, \"----------------->\")\n",
    "    print(f\"Loss: {round(avg_train_loss, 2)}, Accuracy: {train_acc['accuracy']}\")\n",
    "    print(f\"Validation Loss: {round(val_loss, 2)}, Validation Accuracy: {val_acc['accuracy']}\")\n",
    "    \n",
    "    total_time_per_epoch = time.time() - start\n",
    "    print(\"Elapsed Time:\", round(total_time_per_epoch, 4), \"sec\") \n",
    "    time_per_epoch_hist.append(total_time_per_epoch)\n",
    "    \n",
    "    #### Check early stopping\n",
    "    if earlyStopping.checkCondition(val_loss):\n",
    "        print(\">>>>> Early stoppping callback <<<<<\")\n",
    "        break\n",
    "\n",
    "total_train_time = time.time() - train_start\n",
    "print(\"Total Training Time:\", total_train_time, \"sec\")"
   ]
  },
  {
   "cell_type": "code",
   "execution_count": 31,
   "id": "48b3b585-ca46-4888-9cf9-12ee44f54cd4",
   "metadata": {},
   "outputs": [],
   "source": [
    "saveMetricObject = {\n",
    "    \"train_losses\": train_losses,\n",
    "    \"train_accs\": train_accs,\n",
    "    \"val_losses\": val_losses,\n",
    "    \"val_accs\": val_accs,\n",
    "    \"time_per_epoch_hist\": time_per_epoch_hist,\n",
    "    \"total_train_time\": total_train_time\n",
    "}\n",
    "\n",
    "torch.save(saveMetricObject, './best_weights/KD_roberta_distilbert_training_hist.pt')"
   ]
  },
  {
   "cell_type": "markdown",
   "id": "c7ebcf0d-2357-468d-abfa-7c4964ee278e",
   "metadata": {},
   "source": [
    "### Plotting Loss"
   ]
  },
  {
   "cell_type": "code",
   "execution_count": 32,
   "id": "d9f3c348-9b5d-4231-b2fc-78f8edd16bff",
   "metadata": {},
   "outputs": [],
   "source": [
    "import matplotlib.pyplot as plt"
   ]
  },
  {
   "cell_type": "code",
   "execution_count": 33,
   "id": "b51ca1e7-02a6-4edc-8ea5-1692105c0c37",
   "metadata": {},
   "outputs": [],
   "source": [
    "def plotLoss(trainingLoss, valLoss):\n",
    "    plt.plot(trainingLoss)\n",
    "    plt.plot(valLoss)\n",
    "    plt.xlabel(\"Epoch\")\n",
    "    plt.ylabel(\"Loss\")\n",
    "    plt.legend([\"Training Loss\", \"Val Loss\"])"
   ]
  },
  {
   "cell_type": "code",
   "execution_count": 34,
   "id": "7775baec-d62f-418d-af58-4ad0e5c1f693",
   "metadata": {},
   "outputs": [
    {
     "data": {
      "image/png": "[encoded data removed]",
      "text/plain": [
       "<Figure size 640x480 with 1 Axes>"
      ]
     },
     "metadata": {},
     "output_type": "display_data"
    }
   ],
   "source": [
    "plotLoss(train_losses, val_losses)"
   ]
  },
  {
   "cell_type": "markdown",
   "id": "820da46a-638d-4a9d-ae9c-2a637b7cf2ed",
   "metadata": {},
   "source": [
    "### Plotting Acccuracy"
   ]
  },
  {
   "cell_type": "code",
   "execution_count": 35,
   "id": "f6537219-bfe5-4499-8b25-e79e95675b83",
   "metadata": {},
   "outputs": [],
   "source": [
    "def plotAccuracy(trainingAcc, valAcc):\n",
    "    plt.plot(trainingAcc)\n",
    "    plt.plot(valAcc)\n",
    "    plt.xlabel(\"Epoch\")\n",
    "    plt.ylabel(\"Accuracy (%)\")\n",
    "    plt.legend([\"Training Accuracy\", \"Val Accuracy\"])"
   ]
  },
  {
   "cell_type": "code",
   "execution_count": 36,
   "id": "b87d4838-4bc6-4952-9d51-4b2d1b18955a",
   "metadata": {},
   "outputs": [
    {
     "data": {
      "image/png": "[encoded data removed]",
      "text/plain": [
       "<Figure size 640x480 with 1 Axes>"
      ]
     },
     "metadata": {},
     "output_type": "display_data"
    }
   ],
   "source": [
    "plotAccuracy(train_accs, val_accs)"
   ]
  },
  {
   "cell_type": "markdown",
   "id": "a0c9cd72-a095-48f7-88b9-f0f7952ad199",
   "metadata": {
    "tags": []
   },
   "source": [
    "## 6. Evaluation"
   ]
  },
  {
   "cell_type": "code",
   "execution_count": 30,
   "id": "b9ccccf8-e68c-492b-ad97-33cc0e602d45",
   "metadata": {},
   "outputs": [],
   "source": [
    "best_weight = torch.load('./best_weights/KD_roberta_distilbert_model.pt')"
   ]
  },
  {
   "cell_type": "code",
   "execution_count": 31,
   "id": "27f4b95c-ee9c-4bf3-9aeb-7027ab7f9f40",
   "metadata": {},
   "outputs": [
    {
     "data": {
      "text/plain": [
       "<All keys matched successfully>"
      ]
     },
     "execution_count": 31,
     "metadata": {},
     "output_type": "execute_result"
    }
   ],
   "source": [
    "student_model.load_state_dict(best_weight['model_state_dict'])"
   ]
  },
  {
   "cell_type": "markdown",
   "id": "1a64bc25-bec9-4713-9c49-9650c14cbaa1",
   "metadata": {},
   "source": [
    "### Teacher Model Accuracy"
   ]
  },
  {
   "cell_type": "code",
   "execution_count": 32,
   "id": "1c3a242b-0085-44fe-9ef1-ef4bb08fcfe9",
   "metadata": {},
   "outputs": [
    {
     "name": "stderr",
     "output_type": "stream",
     "text": [
      "You're using a RobertaTokenizerFast tokenizer. Please note that with a fast tokenizer, using the `__call__` method is faster than using a method to encode the text followed by a call to the `pad` method to get a padded encoding.\n"
     ]
    },
    {
     "data": {
      "text/plain": [
       "0.954"
      ]
     },
     "execution_count": 32,
     "metadata": {},
     "output_type": "execute_result"
    }
   ],
   "source": [
    "eval_loop(teacher_model, roberta_eval_dataloader)[0]['accuracy']"
   ]
  },
  {
   "cell_type": "markdown",
   "id": "d778a054-c773-4db2-972f-be18031d5e59",
   "metadata": {},
   "source": [
    "### Student Model Accuracy"
   ]
  },
  {
   "cell_type": "code",
   "execution_count": 33,
   "id": "0c7e0f1e-f2a5-4ac4-97ef-115920ea0877",
   "metadata": {},
   "outputs": [
    {
     "data": {
      "text/plain": [
       "0.882"
      ]
     },
     "execution_count": 33,
     "metadata": {},
     "output_type": "execute_result"
    }
   ],
   "source": [
    "eval_loop(student_model, bert_eval_dataloader)[0]['accuracy']"
   ]
  },
  {
   "cell_type": "code",
   "execution_count": null,
   "id": "e8a4b157-f3b5-4e26-921c-8523a49e27cc",
   "metadata": {},
   "outputs": [],
   "source": []
  }
 ],
 "metadata": {
  "kernelspec": {
   "display_name": "Python 3 (ipykernel)",
   "language": "python",
   "name": "python3"
  },
  "language_info": {
   "codemirror_mode": {
    "name": "ipython",
    "version": 3
   },
   "file_extension": ".py",
   "mimetype": "text/x-python",
   "name": "python",
   "nbconvert_exporter": "python",
   "pygments_lexer": "ipython3",
   "version": "3.9.16"
  }
 },
 "nbformat": 4,
 "nbformat_minor": 5
}

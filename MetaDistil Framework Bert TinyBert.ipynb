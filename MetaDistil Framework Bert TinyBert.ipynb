{
 "cells": [
  {
   "cell_type": "markdown",
   "id": "7064e25f-e32b-4edf-8e8d-e8d2828a9b50",
   "metadata": {
    "tags": []
   },
   "source": [
    "# MetaDistil with Pytorch"
   ]
  },
  {
   "cell_type": "markdown",
   "id": "90047416-d1ee-4db0-8326-bbe63d6324fc",
   "metadata": {
    "tags": []
   },
   "source": [
    "## 0. Choosing our \"teacher\" and \"student\" models"
   ]
  },
  {
   "cell_type": "code",
   "execution_count": 1,
   "id": "afecb57b-992c-4835-ab27-3a13610d784f",
   "metadata": {
    "tags": []
   },
   "outputs": [],
   "source": [
    "student = \"huawei-noah/TinyBERT_General_4L_312D\"\n",
    "teacher = \"bert-base-uncased\""
   ]
  },
  {
   "cell_type": "markdown",
   "id": "a0971f04-b427-41eb-885c-d29c27531fe1",
   "metadata": {
    "id": "Mxo4XGgRgQhO",
    "tags": []
   },
   "source": [
    "## 1. Loading our SST-2 part of the GLUE dataset"
   ]
  },
  {
   "cell_type": "code",
   "execution_count": 2,
   "id": "ab932bfc-32b9-4a9a-a128-87764c3ed9bb",
   "metadata": {},
   "outputs": [
    {
     "name": "stderr",
     "output_type": "stream",
     "text": [
      "Found cached dataset glue (C:/Users/abhin/.cache/huggingface/datasets/glue/sst2/1.0.0/dacbe3125aa31d7f70367a07a8a9e72a5a0bfeb5fc42e75c9db75b96da6053ad)\n"
     ]
    },
    {
     "data": {
      "application/vnd.jupyter.widget-view+json": {
       "model_id": "7a7778c5fc98438895d000a212206c05",
       "version_major": 2,
       "version_minor": 0
      },
      "text/plain": [
       "  0%|          | 0/4 [00:00<?, ?it/s]"
      ]
     },
     "metadata": {},
     "output_type": "display_data"
    }
   ],
   "source": [
    "from datasets import load_dataset\n",
    "from transformers import AutoTokenizer, DataCollatorWithPadding\n",
    "\n",
    "raw_datasets = load_dataset(\"glue\", \"sst2\", split=[\"train[:30000]\", \"train[30000:30100]\", \"validation\", \"train[60000:62000]\"])\n",
    "tokenizer = AutoTokenizer.from_pretrained(student)"
   ]
  },
  {
   "cell_type": "code",
   "execution_count": 3,
   "id": "e9e79b6d-a9eb-4c12-b21b-fb489f212242",
   "metadata": {},
   "outputs": [
    {
     "data": {
      "text/plain": [
       "[Dataset({\n",
       "     features: ['sentence', 'label', 'idx'],\n",
       "     num_rows: 30000\n",
       " }),\n",
       " Dataset({\n",
       "     features: ['sentence', 'label', 'idx'],\n",
       "     num_rows: 100\n",
       " }),\n",
       " Dataset({\n",
       "     features: ['sentence', 'label', 'idx'],\n",
       "     num_rows: 872\n",
       " }),\n",
       " Dataset({\n",
       "     features: ['sentence', 'label', 'idx'],\n",
       "     num_rows: 2000\n",
       " })]"
      ]
     },
     "execution_count": 3,
     "metadata": {},
     "output_type": "execute_result"
    }
   ],
   "source": [
    "raw_datasets"
   ]
  },
  {
   "cell_type": "code",
   "execution_count": 4,
   "id": "f47e81a2-a78d-49f1-81db-b4931e9ddb9f",
   "metadata": {},
   "outputs": [],
   "source": [
    "from datasets import DatasetDict"
   ]
  },
  {
   "cell_type": "code",
   "execution_count": 5,
   "id": "a70912f6-59be-4604-b5a5-f66558751451",
   "metadata": {},
   "outputs": [],
   "source": [
    "raw_datasets = DatasetDict({\n",
    "    \"train\": raw_datasets[0],\n",
    "    \"quiz\": raw_datasets[1],\n",
    "    \"validation\": raw_datasets[2],\n",
    "    \"test\": raw_datasets[3]\n",
    "})"
   ]
  },
  {
   "cell_type": "code",
   "execution_count": 6,
   "id": "3829acea-b6c2-4edd-aad1-84282b70deb8",
   "metadata": {},
   "outputs": [
    {
     "data": {
      "text/plain": [
       "DatasetDict({\n",
       "    train: Dataset({\n",
       "        features: ['sentence', 'label', 'idx'],\n",
       "        num_rows: 30000\n",
       "    })\n",
       "    quiz: Dataset({\n",
       "        features: ['sentence', 'label', 'idx'],\n",
       "        num_rows: 100\n",
       "    })\n",
       "    validation: Dataset({\n",
       "        features: ['sentence', 'label', 'idx'],\n",
       "        num_rows: 872\n",
       "    })\n",
       "    test: Dataset({\n",
       "        features: ['sentence', 'label', 'idx'],\n",
       "        num_rows: 2000\n",
       "    })\n",
       "})"
      ]
     },
     "execution_count": 6,
     "metadata": {},
     "output_type": "execute_result"
    }
   ],
   "source": [
    "raw_datasets"
   ]
  },
  {
   "cell_type": "code",
   "execution_count": 7,
   "id": "8a60a762-a645-44f3-9f81-8d99eb460a4c",
   "metadata": {},
   "outputs": [
    {
     "data": {
      "text/plain": [
       "{'sentence': 'hide new secretions from the parental units ',\n",
       " 'label': 0,\n",
       " 'idx': 0}"
      ]
     },
     "execution_count": 7,
     "metadata": {},
     "output_type": "execute_result"
    }
   ],
   "source": [
    "raw_train_dataset = raw_datasets[\"train\"]\n",
    "raw_train_dataset[0]"
   ]
  },
  {
   "cell_type": "code",
   "execution_count": 8,
   "id": "b5129c07-ff71-43f3-adeb-ff0fd7c78899",
   "metadata": {},
   "outputs": [
    {
     "data": {
      "text/plain": [
       "\"that 's far too tragic to merit such superficial treatment \""
      ]
     },
     "execution_count": 8,
     "metadata": {},
     "output_type": "execute_result"
    }
   ],
   "source": [
    "raw_train_dataset[5]['sentence']"
   ]
  },
  {
   "cell_type": "code",
   "execution_count": 9,
   "id": "f3034d31-6e7f-48cf-a311-ec7cc42c350f",
   "metadata": {},
   "outputs": [
    {
     "data": {
      "text/plain": [
       "0"
      ]
     },
     "execution_count": 9,
     "metadata": {},
     "output_type": "execute_result"
    }
   ],
   "source": [
    "raw_train_dataset[5]['label']"
   ]
  },
  {
   "cell_type": "code",
   "execution_count": 10,
   "id": "e1af11e7-8889-4e08-869c-051af44697c0",
   "metadata": {},
   "outputs": [
    {
     "data": {
      "text/plain": [
       "5"
      ]
     },
     "execution_count": 10,
     "metadata": {},
     "output_type": "execute_result"
    }
   ],
   "source": [
    "raw_train_dataset[5]['idx']"
   ]
  },
  {
   "cell_type": "code",
   "execution_count": 11,
   "id": "4b210c08-bb55-4a04-ab54-c3f5e0bf46ef",
   "metadata": {},
   "outputs": [
    {
     "data": {
      "text/plain": [
       "{'sentence': Value(dtype='string', id=None),\n",
       " 'label': ClassLabel(names=['negative', 'positive'], id=None),\n",
       " 'idx': Value(dtype='int32', id=None)}"
      ]
     },
     "execution_count": 11,
     "metadata": {},
     "output_type": "execute_result"
    }
   ],
   "source": [
    "raw_train_dataset.features"
   ]
  },
  {
   "cell_type": "code",
   "execution_count": null,
   "id": "55c04bcf-6e87-44f0-87bf-d56be3d75190",
   "metadata": {},
   "outputs": [],
   "source": []
  },
  {
   "cell_type": "markdown",
   "id": "e5a1f96e-be41-4644-82fa-9a3f74d4ed1e",
   "metadata": {
    "tags": []
   },
   "source": [
    "## 2. Preprocess"
   ]
  },
  {
   "cell_type": "code",
   "execution_count": 12,
   "id": "4ff60ea0-a21e-45ab-a779-efcb81b19a89",
   "metadata": {},
   "outputs": [
    {
     "name": "stderr",
     "output_type": "stream",
     "text": [
      "Loading cached processed dataset at C:\\Users\\abhin\\.cache\\huggingface\\datasets\\glue\\sst2\\1.0.0\\dacbe3125aa31d7f70367a07a8a9e72a5a0bfeb5fc42e75c9db75b96da6053ad\\cache-7841a8938a219072.arrow\n",
      "Loading cached processed dataset at C:\\Users\\abhin\\.cache\\huggingface\\datasets\\glue\\sst2\\1.0.0\\dacbe3125aa31d7f70367a07a8a9e72a5a0bfeb5fc42e75c9db75b96da6053ad\\cache-f2fe39504f1d6f58.arrow\n",
      "Loading cached processed dataset at C:\\Users\\abhin\\.cache\\huggingface\\datasets\\glue\\sst2\\1.0.0\\dacbe3125aa31d7f70367a07a8a9e72a5a0bfeb5fc42e75c9db75b96da6053ad\\cache-695af64ab23ddbe3.arrow\n"
     ]
    },
    {
     "data": {
      "application/vnd.jupyter.widget-view+json": {
       "model_id": "2c948a6e84534e86a9d2187245e3c80a",
       "version_major": 2,
       "version_minor": 0
      },
      "text/plain": [
       "  0%|          | 0/2 [00:00<?, ?ba/s]"
      ]
     },
     "metadata": {},
     "output_type": "display_data"
    },
    {
     "name": "stderr",
     "output_type": "stream",
     "text": [
      "Asking to truncate to max_length but no maximum length is provided and the model has no predefined maximum length. Default to no truncation.\n"
     ]
    },
    {
     "data": {
      "text/plain": [
       "DatasetDict({\n",
       "    train: Dataset({\n",
       "        features: ['sentence', 'label', 'idx', 'input_ids', 'token_type_ids', 'attention_mask'],\n",
       "        num_rows: 30000\n",
       "    })\n",
       "    quiz: Dataset({\n",
       "        features: ['sentence', 'label', 'idx', 'input_ids', 'token_type_ids', 'attention_mask'],\n",
       "        num_rows: 100\n",
       "    })\n",
       "    validation: Dataset({\n",
       "        features: ['sentence', 'label', 'idx', 'input_ids', 'token_type_ids', 'attention_mask'],\n",
       "        num_rows: 872\n",
       "    })\n",
       "    test: Dataset({\n",
       "        features: ['sentence', 'label', 'idx', 'input_ids', 'token_type_ids', 'attention_mask'],\n",
       "        num_rows: 2000\n",
       "    })\n",
       "})"
      ]
     },
     "execution_count": 12,
     "metadata": {},
     "output_type": "execute_result"
    }
   ],
   "source": [
    "def tokenize_function(example):\n",
    "    return tokenizer(example[\"sentence\"], truncation=True)\n",
    "\n",
    "tokenized_datasets = raw_datasets.map(tokenize_function, batched=True)\n",
    "tokenized_datasets"
   ]
  },
  {
   "cell_type": "code",
   "execution_count": null,
   "id": "4261f983-2590-4782-ad14-67f28f19a537",
   "metadata": {},
   "outputs": [],
   "source": []
  },
  {
   "cell_type": "markdown",
   "id": "649b8b0a-7576-4362-ae8a-1741cf51ecd1",
   "metadata": {},
   "source": [
    "## 3. Preparing for Training"
   ]
  },
  {
   "cell_type": "code",
   "execution_count": 13,
   "id": "a7fdb8d0-32e9-4288-8dc4-284e4368ed8b",
   "metadata": {},
   "outputs": [],
   "source": [
    "from transformers import DataCollatorWithPadding\n",
    "\n",
    "data_collator = DataCollatorWithPadding(tokenizer=tokenizer)"
   ]
  },
  {
   "cell_type": "code",
   "execution_count": 14,
   "id": "1d2c9769-6361-4656-84ca-a8403a4ecc96",
   "metadata": {},
   "outputs": [
    {
     "data": {
      "text/plain": [
       "['labels', 'input_ids', 'token_type_ids', 'attention_mask']"
      ]
     },
     "execution_count": 14,
     "metadata": {},
     "output_type": "execute_result"
    }
   ],
   "source": [
    "tokenized_datasets = tokenized_datasets.remove_columns([\"sentence\", \"idx\"])\n",
    "tokenized_datasets = tokenized_datasets.rename_column(\"label\", \"labels\")\n",
    "tokenized_datasets.set_format(\"torch\")\n",
    "tokenized_datasets[\"train\"].column_names"
   ]
  },
  {
   "cell_type": "code",
   "execution_count": 15,
   "id": "9194db92-7e68-4881-aa37-f386a7b5b649",
   "metadata": {},
   "outputs": [],
   "source": [
    "from torch.utils.data import DataLoader\n",
    "\n",
    "train_dataloader = DataLoader(\n",
    "    tokenized_datasets[\"train\"], shuffle=True, batch_size=64, collate_fn=data_collator\n",
    ")\n",
    "\n",
    "quiz_dataloader = DataLoader(\n",
    "    tokenized_datasets[\"quiz\"], shuffle=True, batch_size=64, collate_fn=data_collator\n",
    ")\n",
    "\n",
    "val_dataloader = DataLoader(\n",
    "    tokenized_datasets[\"validation\"], batch_size=20, collate_fn=data_collator\n",
    ")\n",
    "\n",
    "eval_dataloader = DataLoader(\n",
    "    tokenized_datasets[\"test\"], batch_size=128, collate_fn=data_collator\n",
    ")"
   ]
  },
  {
   "cell_type": "code",
   "execution_count": 16,
   "id": "abfdd3c9-0062-4e9f-abef-7fd534ad2abd",
   "metadata": {},
   "outputs": [
    {
     "name": "stderr",
     "output_type": "stream",
     "text": [
      "You're using a BertTokenizerFast tokenizer. Please note that with a fast tokenizer, using the `__call__` method is faster than using a method to encode the text followed by a call to the `pad` method to get a padded encoding.\n"
     ]
    },
    {
     "data": {
      "text/plain": [
       "{'labels': torch.Size([64]),\n",
       " 'input_ids': torch.Size([64, 43]),\n",
       " 'token_type_ids': torch.Size([64, 43]),\n",
       " 'attention_mask': torch.Size([64, 43])}"
      ]
     },
     "execution_count": 16,
     "metadata": {},
     "output_type": "execute_result"
    }
   ],
   "source": [
    "for batch in train_dataloader:\n",
    "    break\n",
    "{k: v.shape for k, v in batch.items()}"
   ]
  },
  {
   "cell_type": "code",
   "execution_count": null,
   "id": "d17910fc-8833-44ab-bc33-5233e4fe0436",
   "metadata": {},
   "outputs": [],
   "source": []
  },
  {
   "cell_type": "markdown",
   "id": "a6831c73-b008-4f63-b6b2-0fe64b68f484",
   "metadata": {},
   "source": [
    "## 4. Loading \"teacher\" and \"student\" models "
   ]
  },
  {
   "cell_type": "code",
   "execution_count": 17,
   "id": "1818dca4-90dc-4476-b558-5a75457f6c9d",
   "metadata": {},
   "outputs": [],
   "source": [
    "# id2label, label2id dicts for the outputs for the model\n",
    "labels = tokenized_datasets[\"train\"].features[\"labels\"].names\n",
    "num_labels = len(labels)\n",
    "label2id, id2label = dict(), dict()\n",
    "for i, label in enumerate(labels):\n",
    "    label2id[label] = str(i)\n",
    "    id2label[str(i)] = label"
   ]
  },
  {
   "cell_type": "code",
   "execution_count": 18,
   "id": "ced65a0c-d4ea-4840-a0c3-0ec169049d88",
   "metadata": {},
   "outputs": [
    {
     "name": "stderr",
     "output_type": "stream",
     "text": [
      "Some weights of the model checkpoint at bert-base-uncased were not used when initializing BertForSequenceClassification: ['cls.predictions.transform.dense.bias', 'cls.predictions.decoder.weight', 'cls.predictions.transform.LayerNorm.weight', 'cls.seq_relationship.bias', 'cls.predictions.bias', 'cls.seq_relationship.weight', 'cls.predictions.transform.dense.weight', 'cls.predictions.transform.LayerNorm.bias']\n",
      "- This IS expected if you are initializing BertForSequenceClassification from the checkpoint of a model trained on another task or with another architecture (e.g. initializing a BertForSequenceClassification model from a BertForPreTraining model).\n",
      "- This IS NOT expected if you are initializing BertForSequenceClassification from the checkpoint of a model that you expect to be exactly identical (initializing a BertForSequenceClassification model from a BertForSequenceClassification model).\n",
      "Some weights of BertForSequenceClassification were not initialized from the model checkpoint at bert-base-uncased and are newly initialized: ['classifier.weight', 'classifier.bias']\n",
      "You should probably TRAIN this model on a down-stream task to be able to use it for predictions and inference.\n",
      "Some weights of the model checkpoint at huawei-noah/TinyBERT_General_4L_312D were not used when initializing BertForSequenceClassification: ['fit_denses.3.weight', 'cls.predictions.transform.dense.bias', 'fit_denses.2.bias', 'fit_denses.4.bias', 'cls.predictions.decoder.weight', 'cls.predictions.transform.LayerNorm.weight', 'cls.seq_relationship.bias', 'cls.predictions.bias', 'fit_denses.3.bias', 'fit_denses.0.weight', 'fit_denses.1.bias', 'cls.seq_relationship.weight', 'cls.predictions.transform.LayerNorm.bias', 'fit_denses.1.weight', 'cls.predictions.transform.dense.weight', 'fit_denses.0.bias', 'fit_denses.2.weight', 'fit_denses.4.weight']\n",
      "- This IS expected if you are initializing BertForSequenceClassification from the checkpoint of a model trained on another task or with another architecture (e.g. initializing a BertForSequenceClassification model from a BertForPreTraining model).\n",
      "- This IS NOT expected if you are initializing BertForSequenceClassification from the checkpoint of a model that you expect to be exactly identical (initializing a BertForSequenceClassification model from a BertForSequenceClassification model).\n",
      "Some weights of BertForSequenceClassification were not initialized from the model checkpoint at huawei-noah/TinyBERT_General_4L_312D and are newly initialized: ['classifier.weight', 'classifier.bias']\n",
      "You should probably TRAIN this model on a down-stream task to be able to use it for predictions and inference.\n"
     ]
    }
   ],
   "source": [
    "from transformers import AutoModelForSequenceClassification\n",
    "\n",
    "# teacher model\n",
    "teacher_model = AutoModelForSequenceClassification.from_pretrained(\n",
    "    teacher,\n",
    "    num_labels=num_labels,\n",
    "    id2label=id2label,\n",
    "    label2id=label2id,\n",
    ")\n",
    "\n",
    "# student model\n",
    "student_model = AutoModelForSequenceClassification.from_pretrained(\n",
    "    student,\n",
    "    num_labels=num_labels,\n",
    "    id2label=id2label,\n",
    "    label2id=label2id,\n",
    ")"
   ]
  },
  {
   "cell_type": "code",
   "execution_count": 19,
   "id": "601e29ad-c67e-4b78-bd17-dcb9a8975ce1",
   "metadata": {},
   "outputs": [],
   "source": [
    "import torch \n",
    "\n",
    "best_teacher_weight = torch.load('./teacher-best_weight/bert-base-uncased-SST-2.pt')"
   ]
  },
  {
   "cell_type": "code",
   "execution_count": 20,
   "id": "e0220e63-157a-4236-8755-4283945222d0",
   "metadata": {},
   "outputs": [
    {
     "data": {
      "text/plain": [
       "<All keys matched successfully>"
      ]
     },
     "execution_count": 20,
     "metadata": {},
     "output_type": "execute_result"
    }
   ],
   "source": [
    "teacher_model.load_state_dict(best_teacher_weight['model_state_dict'])"
   ]
  },
  {
   "cell_type": "code",
   "execution_count": 21,
   "id": "2d6c63ad-3581-49ba-891f-6208cf8ce793",
   "metadata": {},
   "outputs": [
    {
     "name": "stdout",
     "output_type": "stream",
     "text": [
      "tensor(2.0617e-05, grad_fn=<NllLossBackward0>) torch.Size([64, 2])\n"
     ]
    }
   ],
   "source": [
    "outputs = teacher_model(**batch)\n",
    "print(outputs.loss, outputs.logits.shape)"
   ]
  },
  {
   "cell_type": "code",
   "execution_count": 22,
   "id": "8d5b007f-775c-48de-b76d-8bf8fec6c9e8",
   "metadata": {},
   "outputs": [
    {
     "name": "stdout",
     "output_type": "stream",
     "text": [
      "tensor(0.6943, grad_fn=<NllLossBackward0>) torch.Size([64, 2])\n"
     ]
    }
   ],
   "source": [
    "outputs = student_model(**batch)\n",
    "print(outputs.loss, outputs.logits.shape)"
   ]
  },
  {
   "cell_type": "code",
   "execution_count": 23,
   "id": "870d7475-6b40-48ef-bca7-aae3ae20d1f7",
   "metadata": {},
   "outputs": [],
   "source": [
    "from torch.optim import AdamW\n",
    "\n",
    "teacher_optimizer = AdamW(teacher_model.parameters(), lr=6e-5)\n",
    "student_optimizer = AdamW(student_model.parameters(), lr=6e-5)"
   ]
  },
  {
   "cell_type": "code",
   "execution_count": 24,
   "id": "2911b351-fa16-4999-bb59-acb6d8fadd8b",
   "metadata": {},
   "outputs": [
    {
     "name": "stdout",
     "output_type": "stream",
     "text": [
      "4690\n"
     ]
    }
   ],
   "source": [
    "from transformers import get_scheduler\n",
    "\n",
    "num_epochs = 10\n",
    "num_training_steps = num_epochs * len(train_dataloader)\n",
    "teacher_lr_scheduler = get_scheduler(\n",
    "    \"linear\",\n",
    "    optimizer=teacher_optimizer,\n",
    "    num_warmup_steps=0,\n",
    "    num_training_steps=num_training_steps,\n",
    ")\n",
    "\n",
    "student_lr_scheduler = get_scheduler(\n",
    "    \"linear\",\n",
    "    optimizer=student_optimizer,\n",
    "    num_warmup_steps=0,\n",
    "    num_training_steps=num_training_steps,\n",
    ")\n",
    "print(num_training_steps)"
   ]
  },
  {
   "cell_type": "markdown",
   "id": "54ab5a04-7700-49f8-8dde-f7e53c2c7a06",
   "metadata": {},
   "source": [
    "## 5. Training Loop"
   ]
  },
  {
   "cell_type": "code",
   "execution_count": 25,
   "id": "2c2d938d-1c8d-4d96-bca4-896cde2e38d6",
   "metadata": {},
   "outputs": [
    {
     "data": {
      "text/plain": [
       "device(type='cuda')"
      ]
     },
     "execution_count": 25,
     "metadata": {},
     "output_type": "execute_result"
    }
   ],
   "source": [
    "import torch\n",
    "\n",
    "device = torch.device(\"cuda\") if torch.cuda.is_available() else torch.device(\"cpu\")\n",
    "teacher_model.to(device)\n",
    "student_model.to(device)\n",
    "device"
   ]
  },
  {
   "cell_type": "code",
   "execution_count": 26,
   "id": "b9c447ab-9a8e-4422-8caa-8c8007795ab2",
   "metadata": {},
   "outputs": [],
   "source": [
    "from train_eval_func import eval_loop, EarlyStopping"
   ]
  },
  {
   "cell_type": "code",
   "execution_count": 27,
   "id": "a3ebd6a6-fadf-4b7b-a1bd-431bc177ef7a",
   "metadata": {},
   "outputs": [
    {
     "data": {
      "application/vnd.jupyter.widget-view+json": {
       "model_id": "f2d526e55dcc4ba79248210c83f1d539",
       "version_major": 2,
       "version_minor": 0
      },
      "text/plain": [
       "  0%|          | 0/4690 [00:00<?, ?it/s]"
      ]
     },
     "metadata": {},
     "output_type": "display_data"
    },
    {
     "name": "stdout",
     "output_type": "stream",
     "text": [
      "<----------------- Epoch 1 ----------------->\n",
      "Loss: 1.98, Accuracy: 0.8566\n",
      "Validation Loss: 1.4, Validation Accuracy: 0.8922018348623854\n",
      "Elapsed Time: 238.8314 sec\n",
      "<----------------- Epoch 2 ----------------->\n",
      "Loss: 1.12, Accuracy: 0.9194333333333333\n",
      "Validation Loss: 1.13, Validation Accuracy: 0.8864678899082569\n",
      "Elapsed Time: 242.2915 sec\n",
      "<----------------- Epoch 3 ----------------->\n",
      "Loss: 0.77, Accuracy: 0.9459\n",
      "Validation Loss: 2.01, Validation Accuracy: 0.8795871559633027\n",
      "Elapsed Time: 240.6878 sec\n",
      "<----------------- Epoch 4 ----------------->\n",
      "Loss: 0.58, Accuracy: 0.9593\n",
      "Validation Loss: 1.81, Validation Accuracy: 0.8715596330275229\n",
      "Elapsed Time: 241.9555 sec\n",
      "<----------------- Epoch 5 ----------------->\n",
      "Loss: 0.44, Accuracy: 0.9697666666666667\n",
      "Validation Loss: 2.05, Validation Accuracy: 0.8738532110091743\n",
      "Elapsed Time: 243.0912 sec\n",
      "<----------------- Epoch 6 ----------------->\n",
      "Loss: 0.35, Accuracy: 0.9763666666666667\n",
      "Validation Loss: 1.91, Validation Accuracy: 0.8635321100917431\n",
      "Elapsed Time: 242.2493 sec\n",
      "<----------------- Epoch 7 ----------------->\n",
      "Loss: 0.29, Accuracy: 0.9802666666666666\n",
      "Validation Loss: 2.1, Validation Accuracy: 0.8589449541284404\n",
      "Elapsed Time: 241.1514 sec\n",
      "<----------------- Epoch 8 ----------------->\n",
      "Loss: 0.25, Accuracy: 0.9827666666666667\n",
      "Validation Loss: 1.85, Validation Accuracy: 0.8681192660550459\n",
      "Elapsed Time: 243.8371 sec\n",
      "<----------------- Epoch 9 ----------------->\n",
      "Loss: 0.2, Accuracy: 0.9863\n",
      "Validation Loss: 1.93, Validation Accuracy: 0.8669724770642202\n",
      "Elapsed Time: 240.4524 sec\n",
      "<----------------- Epoch 10 ----------------->\n",
      "Loss: 0.18, Accuracy: 0.9876\n",
      "Validation Loss: 1.83, Validation Accuracy: 0.8727064220183486\n",
      "Elapsed Time: 243.7177 sec\n",
      "Total Training Time: 2418.2652056217194 sec\n"
     ]
    }
   ],
   "source": [
    "import torch.nn as nn\n",
    "import torch.nn.functional as F\n",
    "from tqdm.auto import tqdm\n",
    "import copy\n",
    "import time\n",
    "import evaluate\n",
    "\n",
    "progress_bar = tqdm(range(num_training_steps))\n",
    "temperature = 4\n",
    "alpha=0.5\n",
    "n_batches = len(train_dataloader)\n",
    "\n",
    "train_losses = []\n",
    "train_accs   = []\n",
    "val_losses   = []\n",
    "val_accs     = []\n",
    "\n",
    "time_per_epoch_hist = []\n",
    "\n",
    "def perform_knowledge_distillation(batch, teacher_model, student_model, student_optimizer, student_lr_scheduler, original_st_model=False):\n",
    "    # compute student output\n",
    "    outputs_student = student_model(**batch)\n",
    "    student_loss    = outputs_student.loss\n",
    "    \n",
    "    # for computing training accuracy at the end of epoch\n",
    "    student_logits  = outputs_student.logits\n",
    "\n",
    "    # compute teacher output\n",
    "    teacher_model.eval()\n",
    "    with torch.no_grad():\n",
    "        outputs_teacher = teacher_model(**batch)\n",
    "\n",
    "    # assert size\n",
    "    assert outputs_student.logits.size() == outputs_teacher.logits.size()\n",
    "\n",
    "    # compute distillation loss and soften probabilities\n",
    "    loss_function = nn.KLDivLoss(reduction=\"batchmean\")\n",
    "    loss_logits = (loss_function(\n",
    "        F.log_softmax(outputs_student.logits / temperature, dim=-1),\n",
    "        F.softmax(outputs_teacher.logits / temperature, dim=-1)) * (temperature ** 2))\n",
    "\n",
    "    loss = alpha * student_loss + (1. - alpha) * loss_logits\n",
    "    loss.backward()\n",
    "\n",
    "    student_optimizer.step()\n",
    "    if original_st_model:\n",
    "        student_lr_scheduler.step()\n",
    "    student_optimizer.zero_grad()\n",
    "    \n",
    "    if original_st_model:\n",
    "        return float(loss), student_logits\n",
    "\n",
    "train_start = time.time() \n",
    "for epoch in range(num_epochs):\n",
    "    start = time.time()\n",
    "    accuracy_metric = evaluate.load(\"accuracy\")\n",
    "    student_model.train()\n",
    "    total_loss = 0\n",
    "    val_old_loss = float(\"Inf\")\n",
    "    \n",
    "    earlyStopping = EarlyStopping()\n",
    "    \n",
    "    for b, batch in enumerate(train_dataloader):\n",
    "        batch = {k: v.to(device) for k, v in batch.items()}\n",
    "        \n",
    "        #### create student backup\n",
    "        student_model_state_dict     = copy.deepcopy(student_model.state_dict())\n",
    "        student_optimizer_state_dict = copy.deepcopy(student_optimizer.state_dict())\n",
    "        \n",
    "        #### perform knowledge distllation\n",
    "        perform_knowledge_distillation(batch, teacher_model, student_model, student_optimizer, student_lr_scheduler)\n",
    "        torch.cuda.empty_cache()\n",
    "        \n",
    "        #### test student model on quiz data        \n",
    "        quiz_loss_hist = []\n",
    "        for quiz_batch in quiz_dataloader:\n",
    "            quiz_batch   = {k: v.to(device) for k, v in quiz_batch.items()}\n",
    "            quiz_outputs = student_model(**quiz_batch)\n",
    "            quiz_loss    = quiz_outputs.loss\n",
    "            quiz_loss_hist.append(float(quiz_loss))\n",
    "            \n",
    "        avg_quiz_loss = sum(quiz_loss_hist) / len(quiz_loss_hist)\n",
    "        avg_quiz_loss = torch.tensor(avg_quiz_loss, requires_grad=True)\n",
    "        del quiz_outputs, quiz_loss\n",
    "        torch.cuda.empty_cache()\n",
    "        \n",
    "        #### Update teacher model with quiz data and copy student model loss\n",
    "        teacher_model.train()\n",
    "        t_grads = torch.autograd.grad(avg_quiz_loss, teacher_model.parameters(), allow_unused=True)\n",
    "        for p, gr in zip(teacher_model.parameters(), t_grads):\n",
    "                p.grad = gr\n",
    "        \n",
    "        teacher_optimizer.step()\n",
    "        teacher_lr_scheduler.step()\n",
    "        teacher_optimizer.zero_grad()\n",
    "        \n",
    "        #### restoring and updating orginal student weights\n",
    "        student_model.load_state_dict(student_model_state_dict)\n",
    "        student_optimizer.load_state_dict(student_optimizer_state_dict)\n",
    "        \n",
    "        del student_model_state_dict, student_optimizer_state_dict\n",
    "        torch.cuda.empty_cache()\n",
    "        \n",
    "        loss, student_logits = perform_knowledge_distillation(batch, teacher_model, student_model, student_optimizer, student_lr_scheduler, original_st_model=True)\n",
    "        total_loss += loss\n",
    "        predictions = torch.argmax(student_logits, dim=-1)\n",
    "        accuracy_metric.add_batch(predictions=predictions, references=batch[\"labels\"])\n",
    "\n",
    "        progress_bar.update(1)\n",
    "        \n",
    "    avg_train_loss = total_loss / n_batches\n",
    "    train_acc      = accuracy_metric.compute()\n",
    "    train_losses.append(avg_train_loss)\n",
    "    train_accs.append(train_acc['accuracy'])\n",
    "    \n",
    "    #### validation training loss and accuracy \n",
    "    val_acc, val_loss = eval_loop(student_model, val_dataloader, device)\n",
    "    val_losses.append(val_loss)\n",
    "    val_accs.append(val_acc['accuracy'])\n",
    "    \n",
    "    if val_loss < val_old_loss:\n",
    "        val_old_loss = val_loss\n",
    "        saveObject = {\n",
    "            'epoch': epoch + 1,\n",
    "            'batch': b + 1,\n",
    "            'model_state_dict': student_model.state_dict(),\n",
    "            'optimizer_state_dict': student_optimizer.state_dict(),\n",
    "            'lr_scheduler_state_dict': student_lr_scheduler.state_dict(),\n",
    "            'train_loss': avg_train_loss,\n",
    "            'train_acc': train_acc['accuracy'],\n",
    "            'val_loss': val_loss,\n",
    "            'val_acc': val_acc['accuracy']\n",
    "        }\n",
    "        torch.save(saveObject, './best_weights/MetaKD_TinyBert_student_model.pt')   \n",
    "    \n",
    "    #### Display metrics\n",
    "    print(\"<-----------------\", \"Epoch\", epoch + 1, \"----------------->\")\n",
    "    print(f\"Loss: {round(avg_train_loss, 2)}, Accuracy: {train_acc['accuracy']}\")\n",
    "    print(f\"Validation Loss: {round(val_loss, 2)}, Validation Accuracy: {val_acc['accuracy']}\")\n",
    "    \n",
    "    total_time_per_epoch = time.time() - start\n",
    "    print(\"Elapsed Time:\", round(total_time_per_epoch, 4), \"sec\") \n",
    "    time_per_epoch_hist.append(total_time_per_epoch)\n",
    "    \n",
    "    #### Check early stopping\n",
    "    if earlyStopping.checkCondition(val_loss):\n",
    "        print(\">>>>> Early stoppping callback <<<<<\")\n",
    "        break\n",
    "\n",
    "total_train_time = time.time() - train_start\n",
    "print(\"Total Training Time:\", total_train_time, \"sec\")"
   ]
  },
  {
   "cell_type": "code",
   "execution_count": 28,
   "id": "0f03cd7f-b4f8-474f-9864-8db6a92f93ba",
   "metadata": {},
   "outputs": [],
   "source": [
    "saveMetricObject = {\n",
    "    \"train_losses\": train_losses,\n",
    "    \"train_accs\": train_accs,\n",
    "    \"val_losses\": val_losses,\n",
    "    \"val_accs\": val_accs,\n",
    "    \"time_per_epoch_hist\": time_per_epoch_hist,\n",
    "    \"total_train_time\": total_train_time\n",
    "}\n",
    "\n",
    "torch.save(saveMetricObject, './best_weights/MetaKD_TinyBert_training_hist.pt')"
   ]
  },
  {
   "cell_type": "code",
   "execution_count": null,
   "id": "7b636e02-06e3-4ad6-80bc-b3606bb6ff4d",
   "metadata": {},
   "outputs": [],
   "source": []
  },
  {
   "cell_type": "markdown",
   "id": "29fce30b-2dbf-4eb8-8608-bfbf905f1b0c",
   "metadata": {},
   "source": [
    "### Plot Losses"
   ]
  },
  {
   "cell_type": "code",
   "execution_count": 29,
   "id": "c05aba6a-b288-4a43-9a9d-ca820558cf06",
   "metadata": {},
   "outputs": [],
   "source": [
    "import matplotlib.pyplot as plt"
   ]
  },
  {
   "cell_type": "code",
   "execution_count": 30,
   "id": "ceab8313-5311-40e3-877a-b31282174cfb",
   "metadata": {},
   "outputs": [],
   "source": [
    "def plotLoss(trainingLoss, valLoss):\n",
    "    plt.plot(trainingLoss)\n",
    "    plt.plot(valLoss)\n",
    "    plt.xlabel(\"Epoch\")\n",
    "    plt.ylabel(\"Loss\")\n",
    "    plt.legend([\"Training Loss\", \"Val Loss\"])"
   ]
  },
  {
   "cell_type": "code",
   "execution_count": 31,
   "id": "7775baec-d62f-418d-af58-4ad0e5c1f693",
   "metadata": {},
   "outputs": [
    {
     "data": {
      "image/png": "[encoded data removed]",
      "text/plain": [
       "<Figure size 640x480 with 1 Axes>"
      ]
     },
     "metadata": {},
     "output_type": "display_data"
    }
   ],
   "source": [
    "plotLoss(train_losses, val_losses)"
   ]
  },
  {
   "cell_type": "markdown",
   "id": "8f55dda0-ab72-4e39-8e09-b0bc0b055686",
   "metadata": {},
   "source": [
    "### Plotting Acccuracy"
   ]
  },
  {
   "cell_type": "code",
   "execution_count": 32,
   "id": "f6537219-bfe5-4499-8b25-e79e95675b83",
   "metadata": {},
   "outputs": [],
   "source": [
    "def plotAccuracy(trainingAcc, valAcc):\n",
    "    plt.plot(trainingAcc)\n",
    "    plt.plot(valAcc)\n",
    "    plt.xlabel(\"Epoch\")\n",
    "    plt.ylabel(\"Accuracy (%)\")\n",
    "    plt.legend([\"Training Accuracy\", \"Val Accuracy\"])"
   ]
  },
  {
   "cell_type": "code",
   "execution_count": 33,
   "id": "b87d4838-4bc6-4952-9d51-4b2d1b18955a",
   "metadata": {},
   "outputs": [
    {
     "data": {
      "image/png": "[encoded data removed]",
      "text/plain": [
       "<Figure size 640x480 with 1 Axes>"
      ]
     },
     "metadata": {},
     "output_type": "display_data"
    }
   ],
   "source": [
    "plotAccuracy(train_accs, val_accs)"
   ]
  },
  {
   "cell_type": "code",
   "execution_count": null,
   "id": "1037d1b2-1d04-45a8-a49b-3e30a10d29c0",
   "metadata": {
    "tags": []
   },
   "outputs": [],
   "source": []
  },
  {
   "cell_type": "markdown",
   "id": "115ae1d4-1ad8-4733-b772-1121f65ee317",
   "metadata": {
    "tags": []
   },
   "source": [
    "## 6. Evaluation"
   ]
  },
  {
   "cell_type": "code",
   "execution_count": 34,
   "id": "b9ccccf8-e68c-492b-ad97-33cc0e602d45",
   "metadata": {},
   "outputs": [],
   "source": [
    "best_weight = torch.load('./best_weights/MetaKD_TinyBert_student_model.pt')"
   ]
  },
  {
   "cell_type": "code",
   "execution_count": 35,
   "id": "27f4b95c-ee9c-4bf3-9aeb-7027ab7f9f40",
   "metadata": {},
   "outputs": [
    {
     "data": {
      "text/plain": [
       "<All keys matched successfully>"
      ]
     },
     "execution_count": 35,
     "metadata": {},
     "output_type": "execute_result"
    }
   ],
   "source": [
    "student_model.load_state_dict(best_weight['model_state_dict'])"
   ]
  },
  {
   "cell_type": "markdown",
   "id": "29c85c19-0a65-4f9b-bc3f-db526b3187c1",
   "metadata": {},
   "source": [
    "### Teacher Model Accuracy"
   ]
  },
  {
   "cell_type": "code",
   "execution_count": 37,
   "id": "1c3a242b-0085-44fe-9ef1-ef4bb08fcfe9",
   "metadata": {},
   "outputs": [
    {
     "data": {
      "text/plain": [
       "0.9505"
      ]
     },
     "execution_count": 37,
     "metadata": {},
     "output_type": "execute_result"
    }
   ],
   "source": [
    "eval_loop(teacher_model, eval_dataloader, device)[0]['accuracy']"
   ]
  },
  {
   "cell_type": "markdown",
   "id": "7a88e019-2b3b-47ec-b733-c7ece93b2655",
   "metadata": {},
   "source": [
    "### Student Model Accuracy"
   ]
  },
  {
   "cell_type": "code",
   "execution_count": 38,
   "id": "0c7e0f1e-f2a5-4ac4-97ef-115920ea0877",
   "metadata": {},
   "outputs": [
    {
     "data": {
      "text/plain": [
       "0.921"
      ]
     },
     "execution_count": 38,
     "metadata": {},
     "output_type": "execute_result"
    }
   ],
   "source": [
    "eval_loop(student_model, eval_dataloader, device)[0]['accuracy']"
   ]
  },
  {
   "cell_type": "code",
   "execution_count": null,
   "id": "1c5302f7-e1a4-476b-97af-bf0b58db70a7",
   "metadata": {},
   "outputs": [],
   "source": []
  }
 ],
 "metadata": {
  "kernelspec": {
   "display_name": "Python 3 (ipykernel)",
   "language": "python",
   "name": "python3"
  },
  "language_info": {
   "codemirror_mode": {
    "name": "ipython",
    "version": 3
   },
   "file_extension": ".py",
   "mimetype": "text/x-python",
   "name": "python",
   "nbconvert_exporter": "python",
   "pygments_lexer": "ipython3",
   "version": "3.9.16"
  }
 },
 "nbformat": 4,
 "nbformat_minor": 5
}
